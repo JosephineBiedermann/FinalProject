{
 "cells": [
  {
   "cell_type": "markdown",
   "metadata": {},
   "source": [
    "# Merging and cleaning overall audio feature df"
   ]
  },
  {
   "cell_type": "code",
   "execution_count": 1,
   "metadata": {},
   "outputs": [],
   "source": [
    "# impoarting needed libraries\n",
    "\n",
    "import pandas as pd"
   ]
  },
  {
   "cell_type": "code",
   "execution_count": 3,
   "metadata": {},
   "outputs": [],
   "source": [
    "# importing both audio feature data files\n",
    "\n",
    "audio_features_top100 = pd.read_csv('../data/top100_audio_features.csv')\n",
    "audio_features_dr_sample = pd.read_csv('../data/dr_sample_audio_features.csv')"
   ]
  },
  {
   "cell_type": "code",
   "execution_count": 4,
   "metadata": {},
   "outputs": [
    {
     "data": {
      "text/plain": [
       "Index(['Unnamed: 0', 'id', 'track_title', 'track_explicit', 'track_artist',\n",
       "       'danceability', 'energy', 'key', 'loudness', 'mode', 'speechiness',\n",
       "       'acousticness', 'instrumentalness', 'liveness', 'valence', 'tempo',\n",
       "       'type', 'uri', 'track_href', 'analysis_url', 'duration_ms',\n",
       "       'time_signature'],\n",
       "      dtype='object')"
      ]
     },
     "execution_count": 4,
     "metadata": {},
     "output_type": "execute_result"
    }
   ],
   "source": [
    "# checking columns top100\n",
    "\n",
    "audio_features_top100.columns\n",
    "\n",
    "# need to remove the Unnamed"
   ]
  },
  {
   "cell_type": "code",
   "execution_count": 5,
   "metadata": {},
   "outputs": [
    {
     "data": {
      "text/plain": [
       "Index(['Unnamed: 0', 'id', 'track_title', 'track_explicit', 'track_artist',\n",
       "       '0', 'acousticness', 'analysis_url', 'danceability', 'duration_ms',\n",
       "       'energy', 'instrumentalness', 'key', 'liveness', 'loudness', 'mode',\n",
       "       'speechiness', 'tempo', 'time_signature', 'track_href', 'type', 'uri',\n",
       "       'valence'],\n",
       "      dtype='object')"
      ]
     },
     "execution_count": 5,
     "metadata": {},
     "output_type": "execute_result"
    }
   ],
   "source": [
    "# checking columns dr sample\n",
    "\n",
    "audio_features_dr_sample.columns\n",
    "\n",
    "# need to remove the Unnamed and 0 column"
   ]
  },
  {
   "cell_type": "code",
   "execution_count": 7,
   "metadata": {},
   "outputs": [
    {
     "data": {
      "text/plain": [
       "(22, 23)"
      ]
     },
     "execution_count": 7,
     "metadata": {},
     "output_type": "execute_result"
    }
   ],
   "source": [
    "len(audio_features_top100.columns), len(audio_features_dr_sample.columns)"
   ]
  },
  {
   "cell_type": "markdown",
   "metadata": {},
   "source": [
    "to dos:\n",
    "- remove Unnamed column from both df\n",
    "- remove 0 column from dr df\n",
    "- rearrange df dr columns to same order as top100 dr\n",
    "- add column data source (dr sample, top100)\n",
    "- add genre in both\n",
    "- concat both dfs to one"
   ]
  },
  {
   "cell_type": "code",
   "execution_count": 9,
   "metadata": {},
   "outputs": [],
   "source": [
    "# dropping not needed columns\n",
    "\n",
    "audio_features_top100 = audio_features_top100.drop(['Unnamed: 0'], axis = 1)\n",
    "audio_features_dr_sample = audio_features_dr_sample.drop(['Unnamed: 0'], axis = 1)\n",
    "audio_features_dr_sample = audio_features_dr_sample.drop(['0'], axis = 1)"
   ]
  },
  {
   "cell_type": "code",
   "execution_count": 10,
   "metadata": {},
   "outputs": [],
   "source": [
    "# adding column datasource\n",
    "\n",
    "audio_features_top100['data_source'] = 'top100'\n",
    "audio_features_dr_sample['data_source'] = 'dr_sample'"
   ]
  },
  {
   "cell_type": "code",
   "execution_count": 13,
   "metadata": {},
   "outputs": [],
   "source": [
    "# adding column genre in again dr sample\n",
    "\n",
    "audio_features_dr_sample['genre'] = 'deutschrap'"
   ]
  },
  {
   "cell_type": "code",
   "execution_count": 17,
   "metadata": {},
   "outputs": [],
   "source": [
    "# adding column genre in again top100\n",
    "\n",
    "# importing dr artist data\n",
    "dr_artists = pd.read_csv('../data/dr_artist_name_id_df.csv')\n",
    "\n",
    "# creating a list of all unique dr artist names\n",
    "dr_artists_lst = list(dr_artists['artist_name'].unique())\n",
    "\n",
    "# importing top20 hip hop data\n",
    "top20_hiphop = pd.read_csv('../data/top20_hiphop_tracks_raw.csv')\n",
    "\n",
    "# creating a list of all unique hiphop artist names\n",
    "top20_hiphop_artists_lst = list(top20_hiphop['artist'].unique())\n",
    "\n",
    "# importing christmas tracks\n",
    "christmas_tracks = pd.read_csv('../data/christmas_tracks.csv')\n",
    "\n",
    "# creating a list of all unique christmas tracks\n",
    "christmas_tracks_lst = list(christmas_tracks['title'].unique())\n",
    "\n",
    "audio_features_top100['genre'] = 0\n",
    "\n",
    "# creating new feature to mark the tracks which are christmas tracks\n",
    "for track in christmas_tracks_lst:\n",
    "    for i in range(len(audio_features_top100)):\n",
    "        if track in audio_features_top100.loc[i,'track_title']:\n",
    "            audio_features_top100.loc[i, 'genre'] = 'christmas'\n",
    "\n",
    "# filling empty genre column in top100 with hiphop from artists in top20\n",
    "for artist in top20_hiphop_artists_lst:\n",
    "    for i in range(len(audio_features_top100)):\n",
    "        if artist in audio_features_top100.loc[i,'track_artist']:\n",
    "            audio_features_top100.loc[i, 'genre'] = 'hiphop'\n",
    "            \n",
    "# filling empty genre column in top100 with dr artists from artists in dr\n",
    "\n",
    "for artist in dr_artists_lst:\n",
    "    for i in range(len(audio_features_top100)):\n",
    "        if artist in audio_features_top100.loc[i,'track_artist']:\n",
    "            audio_features_top100.loc[i, 'genre'] = 'deutschrap'"
   ]
  },
  {
   "cell_type": "code",
   "execution_count": 19,
   "metadata": {},
   "outputs": [
    {
     "data": {
      "text/plain": [
       "Index(['id', 'track_title', 'track_explicit', 'track_artist', 'danceability',\n",
       "       'energy', 'key', 'loudness', 'mode', 'speechiness', 'acousticness',\n",
       "       'instrumentalness', 'liveness', 'valence', 'tempo', 'type', 'uri',\n",
       "       'track_href', 'analysis_url', 'duration_ms', 'time_signature',\n",
       "       'data_source', 'genre'],\n",
       "      dtype='object')"
      ]
     },
     "execution_count": 19,
     "metadata": {},
     "output_type": "execute_result"
    }
   ],
   "source": [
    "audio_features_top100.columns"
   ]
  },
  {
   "cell_type": "code",
   "execution_count": 20,
   "metadata": {},
   "outputs": [],
   "source": [
    "# rearranging the columns\n",
    "\n",
    "audio_features_dr_sample = audio_features_dr_sample[['id', 'track_title', 'track_explicit', 'track_artist', 'danceability',\n",
    "       'energy', 'key', 'loudness', 'mode', 'speechiness', 'acousticness',\n",
    "       'instrumentalness', 'liveness', 'valence', 'tempo', 'type', 'uri',\n",
    "       'track_href', 'analysis_url', 'duration_ms', 'time_signature',\n",
    "       'data_source', 'genre']]"
   ]
  },
  {
   "cell_type": "code",
   "execution_count": 22,
   "metadata": {},
   "outputs": [
    {
     "data": {
      "text/plain": [
       "(17735, 28077)"
      ]
     },
     "execution_count": 22,
     "metadata": {},
     "output_type": "execute_result"
    }
   ],
   "source": [
    "len(audio_features_top100), len(audio_features_dr_sample)"
   ]
  },
  {
   "cell_type": "code",
   "execution_count": 23,
   "metadata": {},
   "outputs": [
    {
     "data": {
      "text/plain": [
       "45812"
      ]
     },
     "execution_count": 23,
     "metadata": {},
     "output_type": "execute_result"
    }
   ],
   "source": [
    "# concatenating the 2 df\n",
    "\n",
    "audio_features_all = pd.concat([audio_features_dr_sample, audio_features_top100], axis=0)\n",
    "len(audio_features_all)"
   ]
  },
  {
   "cell_type": "code",
   "execution_count": 24,
   "metadata": {},
   "outputs": [],
   "source": [
    "# saving df \n",
    "\n",
    "audio_features_all.to_csv('../data/audio_features_all.csv')"
   ]
  }
 ],
 "metadata": {
  "kernelspec": {
   "display_name": "Python 3",
   "language": "python",
   "name": "python3"
  },
  "language_info": {
   "codemirror_mode": {
    "name": "ipython",
    "version": 3
   },
   "file_extension": ".py",
   "mimetype": "text/x-python",
   "name": "python",
   "nbconvert_exporter": "python",
   "pygments_lexer": "ipython3",
   "version": "3.8.5"
  }
 },
 "nbformat": 4,
 "nbformat_minor": 4
}
