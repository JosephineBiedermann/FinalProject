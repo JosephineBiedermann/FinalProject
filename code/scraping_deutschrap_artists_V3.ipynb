{
  "nbformat": 4,
  "nbformat_minor": 0,
  "metadata": {
    "colab": {
      "name": "scraping_deutschrap_artists_V2.ipynb",
      "provenance": [],
      "collapsed_sections": []
    },
    "finalized": {
      "timestamp": 1620922365075,
      "trusted": true
    },
    "kernelspec": {
      "display_name": "Python 3",
      "language": "python",
      "name": "python3"
    },
    "language_info": {
      "codemirror_mode": {
        "name": "ipython",
        "version": 3
      },
      "file_extension": ".py",
      "mimetype": "text/x-python",
      "name": "python",
      "nbconvert_exporter": "python",
      "pygments_lexer": "ipython3",
      "version": "3.8.5"
    }
  },
  "cells": [
    {
      "cell_type": "markdown",
      "metadata": {
        "id": "Q1-TmM7SjdOr"
      },
      "source": [
        "# Getting data 2 - Deutschrap Artists & their top tracks"
      ]
    },
    {
      "cell_type": "markdown",
      "metadata": {
        "id": "MW9sh_EjjdO-"
      },
      "source": [
        "I need to get a representative list of Deutschrap (dr) artists. I would like to go for at least 1000 artists.\n",
        "\n",
        "I will get the artists from specific dr spotify playlists. These are the playlists which are representative dr playlists:\n",
        "\n",
        "**Deutschrap Brandneu**\n",
        "<br/>ID:37i9dQZF1DWSTqUqJcxFk6\n",
        "<br/>creator: spotify\n",
        "\n",
        "**Modus Mio**\n",
        "<br/>ID:37i9dQZF1DX36edUJpD76c\n",
        "<br/>creator: spotify\n",
        "\n",
        "**The Sound of German Undergroup Rap**\n",
        "<br/>ID:2IcKLRiUHpjhMMubZqderY\n",
        "<br/>creator: The Sound of Spotify\n",
        "\n",
        "**The Sound of German Hip Hop**\n",
        "<br/>ID:0N2gkh3nggtCtksCU2cSty\n",
        "<br/>creator: The Sound of Spotify\n",
        "\n",
        "**Deutschrap Queens**\n",
        "<br/>ID:2SWuJuqh4yl3tK2CcvdSm4\n",
        "<br/>creator: blaenksy\n",
        "\n",
        "**Deutschrap: Die Klassiker**\n",
        "<br/>ID:37i9dQZF1DWSzguhfGl55y\n",
        "<br/>creator: spotify\n",
        "\n",
        "**Deutschrap Royal**\n",
        "<br/>ID:37i9dQZF1DX4TiN7pMwV0Z\n",
        "<br/>creator: spotify\n",
        "\n",
        "**Deutschrap Asphalt**\n",
        "<br/>ID:37i9dQZF1DXbWS0mKtnghU\n",
        "<br/>creator: spotify\n",
        "\n",
        "**Shisha Club**\n",
        "<br/>ID:37i9dQZF1DX2lUf1uE6Mre\n",
        "<br/>creator: spotify\n",
        "\n",
        "**Deutschtrap**\n",
        "<br/>ID:37i9dQZF1DX2uJ1OVfn3CH\n",
        "<br/>creator: spotify"
      ]
    },
    {
      "cell_type": "markdown",
      "metadata": {
        "id": "fn-GrDU2jdPD"
      },
      "source": [
        "# REMOVE THE CELL BELOW BEFOR UPLOADING TO GITHUB"
      ]
    },
    {
      "cell_type": "markdown",
      "metadata": {
        "id": "hNk4LGMojdPE"
      },
      "source": [
        "Client ID 7b18135698b64fc1a318a0e688ec8eec\n",
        "\n",
        "Client Secret 12df486c28dd44f7a3dbb6435e67afeb"
      ]
    },
    {
      "cell_type": "code",
      "metadata": {
        "id": "CNQ0KW9mjdPF"
      },
      "source": [
        "# importing getpass to use on spotify credentials\n",
        "\n",
        "import getpass\n",
        "client_id = getpass.getpass('client_id?')\n",
        "client_secret = getpass.getpass('client_secret?')"
      ],
      "execution_count": null,
      "outputs": []
    },
    {
      "cell_type": "code",
      "metadata": {
        "id": "HwPg5HU3jdPK"
      },
      "source": [
        "# import spotify library\n",
        "\n",
        "import spotipy\n",
        "from spotipy.oauth2 import SpotifyClientCredentials"
      ],
      "execution_count": null,
      "outputs": []
    },
    {
      "cell_type": "code",
      "metadata": {
        "id": "p9J1Z7RTjdPL"
      },
      "source": [
        "# create API connection in a variable\n",
        "\n",
        "sp = spotipy.Spotify(auth_manager=SpotifyClientCredentials(client_id=client_id ,\n",
        "                                                           client_secret=client_secret))"
      ],
      "execution_count": null,
      "outputs": []
    },
    {
      "cell_type": "markdown",
      "metadata": {
        "id": "I_xtcCTOjdPM"
      },
      "source": [
        "Again I am going to try to get the artists from 1 playlist to see how it works and then apply this to all the playlists from above."
      ]
    },
    {
      "cell_type": "code",
      "metadata": {
        "id": "tU7tSa9RjdPM"
      },
      "source": [
        "# creating test variable with the playlist_track function on the first playlist\n",
        "\n",
        "test = sp.playlist_tracks('37i9dQZF1DWSTqUqJcxFk6')\n",
        "test"
      ],
      "execution_count": null,
      "outputs": []
    },
    {
      "cell_type": "code",
      "metadata": {
        "id": "l-FCTxA6jdPS"
      },
      "source": [
        "# checking if I get the artist of the first track of the playlist\n",
        "\n",
        "test['items'][0]['track']['artists'][0]['name']"
      ],
      "execution_count": null,
      "outputs": []
    },
    {
      "cell_type": "code",
      "metadata": {
        "id": "YcfvkUjTjdPU"
      },
      "source": [
        "# checking if I get the artist of the first track of the playlist\n",
        "\n",
        "test['items'][0]['track']['artists'][0]['id']"
      ],
      "execution_count": null,
      "outputs": []
    },
    {
      "cell_type": "markdown",
      "metadata": {
        "id": "RwcPkod4jdPW"
      },
      "source": [
        "Now that this is working, lets see to get all the artists of all songs of the playlist."
      ]
    },
    {
      "cell_type": "code",
      "metadata": {
        "id": "W6vXOBEKjdPW"
      },
      "source": [
        "# building a function to get the artists name from the playlists\n",
        "\n",
        "def get_track_artists_name(playlist):\n",
        "    track_artists = []\n",
        "    track_artists_name = []\n",
        "    \n",
        "    for item in playlist['items']:\n",
        "        track_artists.append((item['track']['artists']))\n",
        "    \n",
        "    track_artists_flat = [y for x in track_artists for y in x]\n",
        "    track_artists_flat\n",
        "        \n",
        "    for i in track_artists_flat:\n",
        "        track_artists_name.append(i['name'])\n",
        "        \n",
        "    return track_artists_name"
      ],
      "execution_count": null,
      "outputs": []
    },
    {
      "cell_type": "code",
      "metadata": {
        "id": "w2lWeBtDjdPX"
      },
      "source": [
        "# building a function to get the artists ids from the playlists\n",
        "\n",
        "def get_track_artists_id(playlist):\n",
        "    track_artists = []\n",
        "    track_artists_id = []\n",
        "    \n",
        "    for item in playlist['items']:\n",
        "        track_artists.append((item['track']['artists']))\n",
        "    \n",
        "    track_artists_flat = [y for x in track_artists for y in x]\n",
        "    track_artists_flat\n",
        "        \n",
        "    for i in track_artists_flat:\n",
        "        track_artists_id.append(i['id'])\n",
        "        \n",
        "    return track_artists_id"
      ],
      "execution_count": null,
      "outputs": []
    },
    {
      "cell_type": "code",
      "metadata": {
        "id": "2qm-VK0HjdPb"
      },
      "source": [
        "# creating a list with all the playlist IDs\n",
        "\n",
        "dr_playlists = ['37i9dQZF1DWSTqUqJcxFk6','37i9dQZF1DX36edUJpD76c','2IcKLRiUHpjhMMubZqderY','0N2gkh3nggtCtksCU2cSty','2SWuJuqh4yl3tK2CcvdSm4','37i9dQZF1DWSzguhfGl55y','37i9dQZF1DX4TiN7pMwV0Z','37i9dQZF1DXbWS0mKtnghU','37i9dQZF1DX2lUf1uE6Mre','37i9dQZF1DX2uJ1OVfn3CH']"
      ],
      "execution_count": null,
      "outputs": []
    },
    {
      "cell_type": "code",
      "metadata": {
        "id": "LGxF8HV4jdPg"
      },
      "source": [
        "# get all the artist names from the dr playlists\n",
        "\n",
        "dr_artists_name = []\n",
        "\n",
        "for id_ in dr_playlists:\n",
        "    try:\n",
        "        dr_artists_name.append(get_track_artists_name(sp.playlist_tracks(id_)))\n",
        "    except:\n",
        "        continue"
      ],
      "execution_count": null,
      "outputs": []
    },
    {
      "cell_type": "code",
      "metadata": {
        "id": "3Z8ntIPujdPh"
      },
      "source": [
        "# get all the artist ids from the dr playlists\n",
        "\n",
        "dr_artists_id = []\n",
        "\n",
        "for id_ in dr_playlists:\n",
        "    try:\n",
        "        dr_artists_id.append(get_track_artists_id(sp.playlist_tracks(id_)))\n",
        "    except:\n",
        "        continue"
      ],
      "execution_count": null,
      "outputs": []
    },
    {
      "cell_type": "code",
      "metadata": {
        "id": "hrUVRKbOjdPq"
      },
      "source": [
        "# here we have all the artist names from the dr playlists\n",
        "\n",
        "dr_artists_name_flat = [y for x in dr_artists_name for y in x]"
      ],
      "execution_count": null,
      "outputs": []
    },
    {
      "cell_type": "code",
      "metadata": {
        "id": "lsr2CCRyjdPu"
      },
      "source": [
        "# here we have all the artist id from the dr playlists\n",
        "\n",
        "dr_artists_id_flat = [y for x in dr_artists_id for y in x]"
      ],
      "execution_count": null,
      "outputs": []
    },
    {
      "cell_type": "code",
      "metadata": {
        "id": "w3VFcXcVjdPv"
      },
      "source": [
        "# checking how many artists I got\n",
        "\n",
        "len(dr_artists_id_flat), len(dr_artists_name_flat)\n",
        "\n",
        "# thats good, its more then I anticipated\n",
        "# however I can see that there are duplicates"
      ],
      "execution_count": null,
      "outputs": []
    },
    {
      "cell_type": "code",
      "metadata": {
        "id": "gOrrjf_AjdPv"
      },
      "source": [
        "# removing the duplicates from my lists\n",
        "\n",
        "dr_artists_name_flat_ordered = set(dr_artists_name_flat)\n",
        "temp_list = []\n",
        "\n",
        "for i in dr_artists_name_flat_ordered:\n",
        "    if i not in temp_list:\n",
        "        temp_list.append(i)\n",
        "\n",
        "dr_artists_name_flat_ordered = temp_list\n",
        "\n",
        "len(dr_artists_name_flat_ordered)\n",
        "\n",
        "# well now its less after removing the duplicates"
      ],
      "execution_count": null,
      "outputs": []
    },
    {
      "cell_type": "code",
      "metadata": {
        "id": "fyVCA5zkjdPw"
      },
      "source": [
        "# removing the duplicates from my lists\n",
        "\n",
        "dr_artists_id_flat_ordered = set(dr_artists_id_flat)\n",
        "temp_list = []\n",
        "\n",
        "for i in dr_artists_id_flat_ordered:\n",
        "    if i not in temp_list:\n",
        "        temp_list.append(i)\n",
        "\n",
        "dr_artists_id_flat_ordered = temp_list\n",
        "\n",
        "len(dr_artists_id_flat_ordered)"
      ],
      "execution_count": null,
      "outputs": []
    },
    {
      "cell_type": "code",
      "metadata": {
        "id": "cep6aBpEjdP3"
      },
      "source": [
        "# quickly saving artist name and id in a df\n",
        "\n",
        "dr_artist_name_id = dict(zip(dr_artists_id_flat,dr_artists_name_flat))"
      ],
      "execution_count": null,
      "outputs": []
    },
    {
      "cell_type": "code",
      "metadata": {
        "id": "Oyak_hIHjdP4",
        "scrolled": true
      },
      "source": [
        "# turning dict into df\n",
        "\n",
        "import pandas as pd\n",
        "\n",
        "dr_artist_name_id_df = pd.DataFrame(list(dr_artist_name_id.items()),columns = ['artist_id','artist_name'])"
      ],
      "execution_count": null,
      "outputs": []
    },
    {
      "cell_type": "code",
      "metadata": {
        "id": "YMzL4VcUjdP6"
      },
      "source": [
        "# saving the df as a csv\n",
        "\n",
        "dr_artist_name_id_df.to_csv('../data/dr_artist_name_id_df.csv')"
      ],
      "execution_count": null,
      "outputs": []
    },
    {
      "cell_type": "markdown",
      "metadata": {
        "id": "45KVnTz8jdP6"
      },
      "source": [
        "Now that I have my list of artists, I want to get:\n",
        "- the albums and their release dates\n",
        "- their top tracks"
      ]
    },
    {
      "cell_type": "markdown",
      "metadata": {
        "id": "Tr-vaqzgjdP6"
      },
      "source": [
        "# option 1 - album tracks"
      ]
    },
    {
      "cell_type": "code",
      "metadata": {
        "id": "shWvngN6jdP8"
      },
      "source": [
        "# getting albums for 1 exmaple artist\n",
        "\n",
        "albums = sp.artist_albums('0JBdTCGs111JKKYfLqOEBa', album_type='album')\n",
        "len(albums)"
      ],
      "execution_count": null,
      "outputs": []
    },
    {
      "cell_type": "code",
      "metadata": {
        "id": "1tVvjrWCjdP-"
      },
      "source": [
        "# looping through the artist ids to get the album infos\n",
        "\n",
        "album = []\n",
        "\n",
        "for i in dr_artists_id_flat_ordered:\n",
        "    album.append(sp.artist_albums(i, album_type='album'))\n",
        "\n",
        "len(album)"
      ],
      "execution_count": null,
      "outputs": []
    },
    {
      "cell_type": "code",
      "metadata": {
        "id": "dqObFwxIjdQQ"
      },
      "source": [
        "# album name\n",
        "\n",
        "album[0]['items'][0]['name']"
      ],
      "execution_count": null,
      "outputs": []
    },
    {
      "cell_type": "code",
      "metadata": {
        "id": "SCFZAxrJjdQR"
      },
      "source": [
        "# album id\n",
        "\n",
        "album[0]['items'][0]['id']"
      ],
      "execution_count": null,
      "outputs": []
    },
    {
      "cell_type": "code",
      "metadata": {
        "id": "5FVeGrsLjdQS"
      },
      "source": [
        "# album release date\n",
        "\n",
        "album[0]['items'][0]['release_date']"
      ],
      "execution_count": null,
      "outputs": []
    },
    {
      "cell_type": "code",
      "metadata": {
        "id": "6gSRv2s5jdQU"
      },
      "source": [
        "# album artist name\n",
        "\n",
        "album[0]['items'][0]['artists'][0]['name']"
      ],
      "execution_count": null,
      "outputs": []
    },
    {
      "cell_type": "code",
      "metadata": {
        "id": "T_kSUkKQjdQe"
      },
      "source": [
        "album_info = []\n",
        "\n",
        "for i in range(len(album)):\n",
        "    album_info.append(album[i]['items'])\n",
        "    \n",
        "    album_info_flat = [y for x in album_info for y in x]\n",
        "    album_info_flat\n",
        "    \n",
        "    album_name = []\n",
        "    for x in album_info_flat:\n",
        "        album_name.append(x['name'])"
      ],
      "execution_count": null,
      "outputs": []
    },
    {
      "cell_type": "code",
      "metadata": {
        "id": "oHjWL6mQjdQj"
      },
      "source": [
        "album_info = []\n",
        "\n",
        "for i in range(len(album)):\n",
        "    album_info.append(album[i]['items'])\n",
        "    \n",
        "    album_info_flat = [y for x in album_info for y in x]\n",
        "    album_info_flat\n",
        "    \n",
        "    album_id = []\n",
        "    for x in album_info_flat:\n",
        "        album_id.append(x['id'])"
      ],
      "execution_count": null,
      "outputs": []
    },
    {
      "cell_type": "code",
      "metadata": {
        "id": "0aXXM6aUjdQk"
      },
      "source": [
        "album_info = []\n",
        "\n",
        "for i in range(len(album)):\n",
        "    album_info.append(album[i]['items'])\n",
        "    \n",
        "    album_info_flat = [y for x in album_info for y in x]\n",
        "    album_info_flat\n",
        "    \n",
        "    album_release_date = []\n",
        "    for x in album_info_flat:\n",
        "        album_release_date.append(x['release_date'])"
      ],
      "execution_count": null,
      "outputs": []
    },
    {
      "cell_type": "code",
      "metadata": {
        "id": "j9wK51DUH7GB"
      },
      "source": [
        "album_info = []\n",
        "\n",
        "for i in range(len(album)):\n",
        "    album_info.append(album[i]['items'])\n",
        "    \n",
        "    album_info_flat = [y for x in album_info for y in x]\n",
        "    album_info_flat\n",
        "    \n",
        "    album_artist = []\n",
        "    for x in album_info_flat:\n",
        "        album_artist.append(x['artists'][0]['name'])"
      ],
      "execution_count": null,
      "outputs": []
    },
    {
      "cell_type": "markdown",
      "metadata": {
        "id": "Qr0tQhysjdQl"
      },
      "source": [
        "album_info = []\n",
        "\n",
        "for i in range(len(album)):\n",
        "    album_info.append(album[i]['items'])\n",
        "    \n",
        "    album_info_flat = [y for x in album_info for y in x]\n",
        "    album_info_flat\n",
        "    \n",
        "    album_artist = []\n",
        "    for x in album_info_flat:\n",
        "        album_artist.append(x['artists'])\n",
        "        \n",
        "    album_artist_flat = [y for x in album_artist for y in x]\n",
        "    album_artist_flat\n",
        "        \n",
        "    album_artist_names = []\n",
        "    for artist in album_artist_flat:\n",
        "        album_artist_names.append(artist['name'])"
      ]
    },
    {
      "cell_type": "markdown",
      "metadata": {
        "id": "Xold6YQZjdQm"
      },
      "source": [
        "album_info = []\n",
        "\n",
        "for i in range(len(album)):\n",
        "    album_info.append(album[i]['items'])\n",
        "    \n",
        "    album_info_flat = [y for x in album_info for y in x]\n",
        "    album_info_flat\n",
        "    \n",
        "    album_artist = []\n",
        "    for x in album_info_flat:\n",
        "        album_artist.append(x['artists'])\n",
        "        \n",
        "    album_artist_flat = [y for x in album_artist for y in x]\n",
        "\n",
        "album_artist_flat"
      ]
    },
    {
      "cell_type": "code",
      "metadata": {
        "id": "EWyKosUsjdQq"
      },
      "source": [
        "len(album_artist),len(album_release_date),len(album_id),len(album_name),len(album_artist_names)"
      ],
      "execution_count": null,
      "outputs": []
    },
    {
      "cell_type": "code",
      "metadata": {
        "id": "x4O0573AH7GG"
      },
      "source": [
        "# creating a df from album id, title and release date to add later to the audio feautres again\n",
        "\n",
        "dr_albums_id_title_release_df = pd.DataFrame({'album_id' : album_id,\n",
        "                                'album_name' : album_name,\n",
        "                                'album_artist' : album_artist,\n",
        "                                'album_release_date' : album_release_date }, \n",
        "                                columns=['album_id','album_name','album_artist','album_release_date'])"
      ],
      "execution_count": null,
      "outputs": []
    },
    {
      "cell_type": "code",
      "metadata": {
        "id": "UjyK49JyH7GI"
      },
      "source": [
        "# renaming the column name track_ids to id, so its matches the id from spotify\n",
        "\n",
        "dr_albums_id_title_release_df.columns = ['id','album_name','album_artist','album_release_date']"
      ],
      "execution_count": null,
      "outputs": []
    },
    {
      "cell_type": "code",
      "metadata": {
        "id": "9UztE1NtH7GJ"
      },
      "source": [
        "# saving df as csv\n",
        "\n",
        "dr_albums_id_title_release_df.to_csv('../data/dr_albums_id_title_release.csv')"
      ],
      "execution_count": null,
      "outputs": []
    },
    {
      "cell_type": "code",
      "metadata": {
        "id": "UTeOloSvjdQx"
      },
      "source": [
        "# getting the tracks per example album\n",
        "\n",
        "trackResults = sp.album_tracks('6WmVszxhoZlftm89rz5FFq')"
      ],
      "execution_count": null,
      "outputs": []
    },
    {
      "cell_type": "code",
      "metadata": {
        "id": "GWR9ik-KjdQy"
      },
      "source": [
        "# getting the tracks for all the albums\n",
        "\n",
        "tracks_all_albums = []\n",
        "\n",
        "for album in album_id:\n",
        "    tracks_all_albums.append(sp.album_tracks(album))\n",
        "    \n",
        "tracks_all_albums"
      ],
      "execution_count": null,
      "outputs": []
    },
    {
      "cell_type": "code",
      "metadata": {
        "id": "YOhH0U_VjdUL"
      },
      "source": [
        "track_ids = []\n",
        "track_name = []\n",
        "track_explicit = []\n",
        "track_artist = []\n",
        "track_album = []\n",
        "    \n",
        "for track in range(len(tracks_all_albums)):\n",
        "    track_ids.append(tracks_all_albums['items'][track]['id'])\n",
        "    track_name.append(tracks_all_albums['items'][track]['name'])\n",
        "    track_explicit.append(tracks_all_albums['items'][track]['explicit'])\n",
        "    track_artist.append(tracks_all_albums['items'][track]['artists'][0]['name'])\n",
        "    track_album.append(tracks_all_albums['items'][track]['artists']          "
      ],
      "execution_count": null,
      "outputs": []
    },
    {
      "cell_type": "code",
      "metadata": {
        "id": "w38O_NIvjdUM"
      },
      "source": [
        "tracks_all_albums['items']"
      ],
      "execution_count": null,
      "outputs": []
    },
    {
      "cell_type": "code",
      "metadata": {
        "id": "vF5Zdh6wjdUN"
      },
      "source": [
        "helps = tracks_all_albums['items']\n",
        "    \n",
        "    artists_names =[]\n",
        "    artists_ids = []\n",
        "                       \n",
        "    for x in helps:\n",
        "        for artist in x['artists']:\n",
        "            artists_names.append(x['name'])\n",
        "            artists_ids.append(x['id'])"
      ],
      "execution_count": null,
      "outputs": []
    },
    {
      "cell_type": "code",
      "metadata": {
        "id": "uHUNWdCTjdUO"
      },
      "source": [
        "# track id\n",
        "\n",
        "trackResults['items'][0]['id']"
      ],
      "execution_count": null,
      "outputs": []
    },
    {
      "cell_type": "code",
      "metadata": {
        "id": "da0c8y-jjdUT"
      },
      "source": [
        "# track name\n",
        "\n",
        "trackResults['items'][0]['name']"
      ],
      "execution_count": null,
      "outputs": []
    },
    {
      "cell_type": "code",
      "metadata": {
        "id": "fxpVnCjxjdUV"
      },
      "source": [
        "# is track explicit?\n",
        "\n",
        "trackResults['items'][0]['explicit']"
      ],
      "execution_count": null,
      "outputs": []
    },
    {
      "cell_type": "code",
      "metadata": {
        "id": "ttLt2eW5jdUX"
      },
      "source": [
        "trackResults['items'][0]['artists'][0]['name']"
      ],
      "execution_count": null,
      "outputs": []
    },
    {
      "cell_type": "code",
      "metadata": {
        "id": "hC0mLjurjdUY"
      },
      "source": [
        "trackResults['items'][0]['artists'][0]['id']"
      ],
      "execution_count": null,
      "outputs": []
    },
    {
      "cell_type": "code",
      "metadata": {
        "id": "steLoW6fjdUZ"
      },
      "source": [
        "trackResults = spotifyObject.album_tracks(albumID)\n",
        "trackResults = trackResults['items']\n",
        "            \n",
        "            ## Loop over tracks\n",
        "            for track in trackResults:\n",
        "                \n",
        "                artists_names =[]\n",
        "                artists_ids = []\n",
        "                \n",
        "                for artist in track['artists']:\n",
        "                    artists_names.append(artist['name'])\n",
        "                    artists_ids.append(artist['id'])"
      ],
      "execution_count": null,
      "outputs": []
    },
    {
      "cell_type": "code",
      "metadata": {
        "id": "PbO2rMu0jdUa"
      },
      "source": [
        "\n"
      ],
      "execution_count": null,
      "outputs": []
    },
    {
      "cell_type": "code",
      "metadata": {
        "id": "fYKDBkZ7jdUa"
      },
      "source": [
        "# get track release date\n",
        "\n",
        "track_info = sp.search(q = 'track'+ 'Vital Rush', type='track')\n",
        "track_info"
      ],
      "execution_count": null,
      "outputs": []
    },
    {
      "cell_type": "markdown",
      "metadata": {
        "id": "BQDVH1LajdUe"
      },
      "source": [
        "# option 2 - top tracks"
      ]
    },
    {
      "cell_type": "code",
      "metadata": {
        "id": "ptR2NBDdjdUl"
      },
      "source": [
        "# get the top tracks per artist\n",
        " \n",
        "test_top_tracks = sp.artist_top_tracks('1aS5tqEs9ci5P9KD9tZWa6', country='DE')\n",
        "test_top_tracks"
      ],
      "execution_count": null,
      "outputs": []
    },
    {
      "cell_type": "code",
      "metadata": {
        "id": "4LMWaO8ojdUl"
      },
      "source": [
        "# we get 10 tracks per artist\n",
        "\n",
        "len(test_top_tracks['tracks'])"
      ],
      "execution_count": null,
      "outputs": []
    },
    {
      "cell_type": "code",
      "metadata": {
        "id": "6lhszWXWjdUm"
      },
      "source": [
        "test_top_tracks_all = []\n",
        "\n",
        "for artist in dr_artists_id_flat_ordered:\n",
        "    test_top_tracks_all.append(sp.artist_top_tracks('1aS5tqEs9ci5P9KD9tZWa6', country='DE'))\n",
        "\n",
        "test_top_tracks_all"
      ],
      "execution_count": null,
      "outputs": []
    },
    {
      "cell_type": "code",
      "metadata": {
        "id": "T5nFm1TyjdUw"
      },
      "source": [
        "# track name\n",
        "\n",
        "test_top_tracks['tracks'][0]['name']"
      ],
      "execution_count": null,
      "outputs": []
    },
    {
      "cell_type": "code",
      "metadata": {
        "id": "fkJfKjkhjdUx"
      },
      "source": [
        "# is it explicit?\n",
        "\n",
        "test_top_tracks['tracks'][0]['explicit']"
      ],
      "execution_count": null,
      "outputs": []
    },
    {
      "cell_type": "code",
      "metadata": {
        "id": "Qn_twXdSjdUy"
      },
      "source": [
        "# track id\n",
        "\n",
        "test_top_tracks['tracks'][0]['id']"
      ],
      "execution_count": null,
      "outputs": []
    },
    {
      "cell_type": "code",
      "metadata": {
        "id": "tozYKuewjdUy"
      },
      "source": [
        "# first artist name\n",
        "\n",
        "test_top_tracks['tracks'][0]['artists'][0]['name']"
      ],
      "execution_count": null,
      "outputs": []
    },
    {
      "cell_type": "code",
      "metadata": {
        "id": "zW1WxBqMjdU0"
      },
      "source": [
        "# first artist id\n",
        "\n",
        "test_top_tracks['tracks'][0]['artists'][0]['id']"
      ],
      "execution_count": null,
      "outputs": []
    }
  ]
}