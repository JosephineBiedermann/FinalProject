{
 "cells": [
  {
   "cell_type": "markdown",
   "metadata": {},
   "source": [
    "# Merging and cleaning overall audio feature df"
   ]
  },
  {
   "cell_type": "code",
   "execution_count": 2,
   "metadata": {},
   "outputs": [],
   "source": [
    "# impoarting needed libraries\n",
    "\n",
    "import pandas as pd"
   ]
  },
  {
   "cell_type": "code",
   "execution_count": 3,
   "metadata": {},
   "outputs": [],
   "source": [
    "# importing both audio feature data files\n",
    "\n",
    "audio_features_top100 = pd.read_csv('../data/top100_audio_features.csv')\n",
    "audio_features_dr_sample = pd.read_csv('../data/dr_sample_audio_features.csv')"
   ]
  },
  {
   "cell_type": "code",
   "execution_count": 4,
   "metadata": {},
   "outputs": [
    {
     "data": {
      "text/plain": [
       "Index(['Unnamed: 0', 'id', 'track_title', 'track_explicit', 'track_artist',\n",
       "       'danceability', 'energy', 'key', 'loudness', 'mode', 'speechiness',\n",
       "       'acousticness', 'instrumentalness', 'liveness', 'valence', 'tempo',\n",
       "       'type', 'uri', 'track_href', 'analysis_url', 'duration_ms',\n",
       "       'time_signature'],\n",
       "      dtype='object')"
      ]
     },
     "execution_count": 4,
     "metadata": {},
     "output_type": "execute_result"
    }
   ],
   "source": [
    "# checking columns top100\n",
    "\n",
    "audio_features_top100.columns\n",
    "\n",
    "# need to remove the Unnamed"
   ]
  },
  {
   "cell_type": "code",
   "execution_count": 5,
   "metadata": {},
   "outputs": [
    {
     "data": {
      "text/plain": [
       "Index(['Unnamed: 0', 'id', 'track_title', 'track_explicit', 'track_artist',\n",
       "       '0', 'acousticness', 'analysis_url', 'danceability', 'duration_ms',\n",
       "       'energy', 'instrumentalness', 'key', 'liveness', 'loudness', 'mode',\n",
       "       'speechiness', 'tempo', 'time_signature', 'track_href', 'type', 'uri',\n",
       "       'valence'],\n",
       "      dtype='object')"
      ]
     },
     "execution_count": 5,
     "metadata": {},
     "output_type": "execute_result"
    }
   ],
   "source": [
    "# checking columns dr sample\n",
    "\n",
    "audio_features_dr_sample.columns\n",
    "\n",
    "# need to remove the Unnamed and 0 column"
   ]
  },
  {
   "cell_type": "code",
   "execution_count": 6,
   "metadata": {},
   "outputs": [
    {
     "data": {
      "text/plain": [
       "(22, 23)"
      ]
     },
     "execution_count": 6,
     "metadata": {},
     "output_type": "execute_result"
    }
   ],
   "source": [
    "len(audio_features_top100.columns), len(audio_features_dr_sample.columns)"
   ]
  },
  {
   "cell_type": "markdown",
   "metadata": {},
   "source": [
    "to dos:\n",
    "- remove Unnamed column from both df\n",
    "- remove 0 column from dr df\n",
    "- rearrange df dr columns to same order as top100 dr\n",
    "- add column data source (dr sample, top100)\n",
    "- add genre in both\n",
    "- add release date (album)\n",
    "- concat both dfs to one"
   ]
  },
  {
   "cell_type": "code",
   "execution_count": 7,
   "metadata": {},
   "outputs": [],
   "source": [
    "# dropping not needed columns\n",
    "\n",
    "audio_features_top100 = audio_features_top100.drop(['Unnamed: 0'], axis = 1)\n",
    "audio_features_dr_sample = audio_features_dr_sample.drop(['Unnamed: 0'], axis = 1)\n",
    "audio_features_dr_sample = audio_features_dr_sample.drop(['0'], axis = 1)"
   ]
  },
  {
   "cell_type": "code",
   "execution_count": 8,
   "metadata": {},
   "outputs": [],
   "source": [
    "# adding column datasource\n",
    "\n",
    "audio_features_top100['data_source'] = 'top100'\n",
    "audio_features_dr_sample['data_source'] = 'dr_sample'"
   ]
  },
  {
   "cell_type": "code",
   "execution_count": 9,
   "metadata": {},
   "outputs": [],
   "source": [
    "# adding column genre in again dr sample\n",
    "\n",
    "audio_features_dr_sample['genre'] = 'deutschrap'"
   ]
  },
  {
   "cell_type": "code",
   "execution_count": 10,
   "metadata": {},
   "outputs": [],
   "source": [
    "# adding column genre in again top100\n",
    "\n",
    "# importing dr artist data\n",
    "dr_artists = pd.read_csv('../data/dr_artist_name_id_df.csv')\n",
    "\n",
    "# creating a list of all unique dr artist names\n",
    "dr_artists_lst = list(dr_artists['artist_name'].unique())\n",
    "\n",
    "# importing top20 hip hop data\n",
    "top20_hiphop = pd.read_csv('../data/top20_hiphop_tracks_raw.csv')\n",
    "\n",
    "# creating a list of all unique hiphop artist names\n",
    "top20_hiphop_artists_lst = list(top20_hiphop['artist'].unique())\n",
    "\n",
    "# importing christmas tracks\n",
    "christmas_tracks = pd.read_csv('../data/christmas_tracks.csv')\n",
    "\n",
    "# creating a list of all unique christmas tracks\n",
    "christmas_tracks_lst = list(christmas_tracks['title'].unique())\n",
    "\n",
    "audio_features_top100['genre'] = 0\n",
    "\n",
    "# creating new feature to mark the tracks which are christmas tracks\n",
    "for track in christmas_tracks_lst:\n",
    "    for i in range(len(audio_features_top100)):\n",
    "        if track in audio_features_top100.loc[i,'track_title']:\n",
    "            audio_features_top100.loc[i, 'genre'] = 'christmas'\n",
    "\n",
    "# filling empty genre column in top100 with hiphop from artists in top20\n",
    "for artist in top20_hiphop_artists_lst:\n",
    "    for i in range(len(audio_features_top100)):\n",
    "        if artist in audio_features_top100.loc[i,'track_artist']:\n",
    "            audio_features_top100.loc[i, 'genre'] = 'hiphop'\n",
    "            \n",
    "# filling empty genre column in top100 with dr artists from artists in dr\n",
    "\n",
    "for artist in dr_artists_lst:\n",
    "    for i in range(len(audio_features_top100)):\n",
    "        if artist in audio_features_top100.loc[i,'track_artist']:\n",
    "            audio_features_top100.loc[i, 'genre'] = 'deutschrap'"
   ]
  },
  {
   "cell_type": "code",
   "execution_count": 11,
   "metadata": {},
   "outputs": [
    {
     "data": {
      "text/plain": [
       "Index(['id', 'track_title', 'track_explicit', 'track_artist', 'danceability',\n",
       "       'energy', 'key', 'loudness', 'mode', 'speechiness', 'acousticness',\n",
       "       'instrumentalness', 'liveness', 'valence', 'tempo', 'type', 'uri',\n",
       "       'track_href', 'analysis_url', 'duration_ms', 'time_signature',\n",
       "       'data_source', 'genre'],\n",
       "      dtype='object')"
      ]
     },
     "execution_count": 11,
     "metadata": {},
     "output_type": "execute_result"
    }
   ],
   "source": [
    "audio_features_top100.columns"
   ]
  },
  {
   "cell_type": "code",
   "execution_count": 12,
   "metadata": {},
   "outputs": [],
   "source": [
    "# rearranging the columns\n",
    "\n",
    "audio_features_dr_sample = audio_features_dr_sample[['id', 'track_title', 'track_explicit', 'track_artist', 'danceability',\n",
    "       'energy', 'key', 'loudness', 'mode', 'speechiness', 'acousticness',\n",
    "       'instrumentalness', 'liveness', 'valence', 'tempo', 'type', 'uri',\n",
    "       'track_href', 'analysis_url', 'duration_ms', 'time_signature',\n",
    "       'data_source', 'genre']]"
   ]
  },
  {
   "cell_type": "code",
   "execution_count": 13,
   "metadata": {},
   "outputs": [
    {
     "data": {
      "text/plain": [
       "(17735, 28077)"
      ]
     },
     "execution_count": 13,
     "metadata": {},
     "output_type": "execute_result"
    }
   ],
   "source": [
    "len(audio_features_top100), len(audio_features_dr_sample)"
   ]
  },
  {
   "cell_type": "code",
   "execution_count": 14,
   "metadata": {},
   "outputs": [
    {
     "data": {
      "text/plain": [
       "45812"
      ]
     },
     "execution_count": 14,
     "metadata": {},
     "output_type": "execute_result"
    }
   ],
   "source": [
    "# concatenating the 2 df\n",
    "\n",
    "audio_features_all = pd.concat([audio_features_dr_sample, audio_features_top100], axis=0)\n",
    "len(audio_features_all)"
   ]
  },
  {
   "cell_type": "code",
   "execution_count": 16,
   "metadata": {},
   "outputs": [],
   "source": [
    "# importing release date data\n",
    "\n",
    "release_dates = pd.read_csv('../data/tracks_all_release.csv')"
   ]
  },
  {
   "cell_type": "code",
   "execution_count": 27,
   "metadata": {},
   "outputs": [
    {
     "data": {
      "text/plain": [
       "45812"
      ]
     },
     "execution_count": 27,
     "metadata": {},
     "output_type": "execute_result"
    }
   ],
   "source": [
    "len(release_dates)"
   ]
  },
  {
   "cell_type": "code",
   "execution_count": 19,
   "metadata": {},
   "outputs": [
    {
     "data": {
      "text/plain": [
       "Index(['Unnamed: 0', 'track_id', 'track_album_id', 'track_album_name',\n",
       "       'track_album_release'],\n",
       "      dtype='object')"
      ]
     },
     "execution_count": 19,
     "metadata": {},
     "output_type": "execute_result"
    }
   ],
   "source": [
    "release_dates.columns"
   ]
  },
  {
   "cell_type": "code",
   "execution_count": 28,
   "metadata": {},
   "outputs": [],
   "source": [
    "release_dates.columns = ['Unnamed: 0', 'id', 'track_album_id', 'track_album_name',\n",
    "       'track_album_release']"
   ]
  },
  {
   "cell_type": "code",
   "execution_count": 38,
   "metadata": {},
   "outputs": [],
   "source": [
    "audio_features_all_new = pd.merge(audio_features_all, release_dates, on='id')"
   ]
  },
  {
   "cell_type": "code",
   "execution_count": 39,
   "metadata": {},
   "outputs": [
    {
     "data": {
      "text/plain": [
       "Index(['id', 'track_title', 'track_explicit', 'track_artist', 'danceability',\n",
       "       'energy', 'key', 'loudness', 'mode', 'speechiness', 'acousticness',\n",
       "       'instrumentalness', 'liveness', 'valence', 'tempo', 'type', 'uri',\n",
       "       'track_href', 'analysis_url', 'duration_ms', 'time_signature',\n",
       "       'data_source', 'genre', 'release_date', 'Unnamed: 0', 'track_album_id',\n",
       "       'track_album_name', 'track_album_release'],\n",
       "      dtype='object')"
      ]
     },
     "execution_count": 39,
     "metadata": {},
     "output_type": "execute_result"
    }
   ],
   "source": [
    "audio_features_all_new.columns"
   ]
  },
  {
   "cell_type": "code",
   "execution_count": 40,
   "metadata": {},
   "outputs": [],
   "source": [
    "audio_features_all_new = audio_features_all_new.drop(['release_date', 'Unnamed: 0'], axis = 1)"
   ]
  },
  {
   "cell_type": "code",
   "execution_count": 41,
   "metadata": {},
   "outputs": [],
   "source": [
    "audio_features_all_new = audio_features_all_new[['id', 'track_title', 'track_artist',\n",
    "       'track_album_id','track_album_name', 'track_album_release', 'genre', 'track_explicit', 'data_source', 'danceability',\n",
    "       'energy', 'key', 'loudness', 'mode', 'speechiness', 'acousticness',\n",
    "       'instrumentalness', 'liveness', 'valence', 'tempo', 'type', 'uri',\n",
    "       'track_href', 'analysis_url', 'duration_ms', 'time_signature']]"
   ]
  },
  {
   "cell_type": "code",
   "execution_count": 42,
   "metadata": {},
   "outputs": [
    {
     "data": {
      "text/html": [
       "<div>\n",
       "<style scoped>\n",
       "    .dataframe tbody tr th:only-of-type {\n",
       "        vertical-align: middle;\n",
       "    }\n",
       "\n",
       "    .dataframe tbody tr th {\n",
       "        vertical-align: top;\n",
       "    }\n",
       "\n",
       "    .dataframe thead th {\n",
       "        text-align: right;\n",
       "    }\n",
       "</style>\n",
       "<table border=\"1\" class=\"dataframe\">\n",
       "  <thead>\n",
       "    <tr style=\"text-align: right;\">\n",
       "      <th></th>\n",
       "      <th>id</th>\n",
       "      <th>track_title</th>\n",
       "      <th>track_artist</th>\n",
       "      <th>track_album_id</th>\n",
       "      <th>track_album_name</th>\n",
       "      <th>track_album_release</th>\n",
       "      <th>genre</th>\n",
       "      <th>track_explicit</th>\n",
       "      <th>data_source</th>\n",
       "      <th>danceability</th>\n",
       "      <th>...</th>\n",
       "      <th>instrumentalness</th>\n",
       "      <th>liveness</th>\n",
       "      <th>valence</th>\n",
       "      <th>tempo</th>\n",
       "      <th>type</th>\n",
       "      <th>uri</th>\n",
       "      <th>track_href</th>\n",
       "      <th>analysis_url</th>\n",
       "      <th>duration_ms</th>\n",
       "      <th>time_signature</th>\n",
       "    </tr>\n",
       "  </thead>\n",
       "  <tbody>\n",
       "    <tr>\n",
       "      <th>0</th>\n",
       "      <td>5mrNkGIEJ0pSdXIR0eMwZQ</td>\n",
       "      <td>Bandolero</td>\n",
       "      <td>Azero</td>\n",
       "      <td>157IcJKKD2MNQtqTFy2HgT</td>\n",
       "      <td>Bela</td>\n",
       "      <td>2019-10-31</td>\n",
       "      <td>deutschrap</td>\n",
       "      <td>True</td>\n",
       "      <td>dr_sample</td>\n",
       "      <td>0.726</td>\n",
       "      <td>...</td>\n",
       "      <td>0.000002</td>\n",
       "      <td>0.131</td>\n",
       "      <td>0.318</td>\n",
       "      <td>145.955</td>\n",
       "      <td>audio_features</td>\n",
       "      <td>spotify:track:5mrNkGIEJ0pSdXIR0eMwZQ</td>\n",
       "      <td>https://api.spotify.com/v1/tracks/5mrNkGIEJ0pS...</td>\n",
       "      <td>https://api.spotify.com/v1/audio-analysis/5mrN...</td>\n",
       "      <td>173003.0</td>\n",
       "      <td>4.0</td>\n",
       "    </tr>\n",
       "    <tr>\n",
       "      <th>1</th>\n",
       "      <td>1EFbLCDFWIIiC6IMgthYsN</td>\n",
       "      <td>El Niño (Alarm)</td>\n",
       "      <td>Azero</td>\n",
       "      <td>157IcJKKD2MNQtqTFy2HgT</td>\n",
       "      <td>Bela</td>\n",
       "      <td>2019-10-31</td>\n",
       "      <td>deutschrap</td>\n",
       "      <td>True</td>\n",
       "      <td>dr_sample</td>\n",
       "      <td>0.765</td>\n",
       "      <td>...</td>\n",
       "      <td>0.000005</td>\n",
       "      <td>0.118</td>\n",
       "      <td>0.541</td>\n",
       "      <td>173.915</td>\n",
       "      <td>audio_features</td>\n",
       "      <td>spotify:track:1EFbLCDFWIIiC6IMgthYsN</td>\n",
       "      <td>https://api.spotify.com/v1/tracks/1EFbLCDFWIIi...</td>\n",
       "      <td>https://api.spotify.com/v1/audio-analysis/1EFb...</td>\n",
       "      <td>143867.0</td>\n",
       "      <td>4.0</td>\n",
       "    </tr>\n",
       "    <tr>\n",
       "      <th>2</th>\n",
       "      <td>3czNqQU3YvEcxaxIz16nb7</td>\n",
       "      <td>Es kocht</td>\n",
       "      <td>Azero</td>\n",
       "      <td>157IcJKKD2MNQtqTFy2HgT</td>\n",
       "      <td>Bela</td>\n",
       "      <td>2019-10-31</td>\n",
       "      <td>deutschrap</td>\n",
       "      <td>True</td>\n",
       "      <td>dr_sample</td>\n",
       "      <td>0.551</td>\n",
       "      <td>...</td>\n",
       "      <td>0.000339</td>\n",
       "      <td>0.147</td>\n",
       "      <td>0.158</td>\n",
       "      <td>94.261</td>\n",
       "      <td>audio_features</td>\n",
       "      <td>spotify:track:3czNqQU3YvEcxaxIz16nb7</td>\n",
       "      <td>https://api.spotify.com/v1/tracks/3czNqQU3YvEc...</td>\n",
       "      <td>https://api.spotify.com/v1/audio-analysis/3czN...</td>\n",
       "      <td>196682.0</td>\n",
       "      <td>4.0</td>\n",
       "    </tr>\n",
       "    <tr>\n",
       "      <th>3</th>\n",
       "      <td>4oqjF0RgQmtGGogG3paqOT</td>\n",
       "      <td>Barbaren</td>\n",
       "      <td>Azero</td>\n",
       "      <td>157IcJKKD2MNQtqTFy2HgT</td>\n",
       "      <td>Bela</td>\n",
       "      <td>2019-10-31</td>\n",
       "      <td>deutschrap</td>\n",
       "      <td>True</td>\n",
       "      <td>dr_sample</td>\n",
       "      <td>0.708</td>\n",
       "      <td>...</td>\n",
       "      <td>0.000040</td>\n",
       "      <td>0.111</td>\n",
       "      <td>0.359</td>\n",
       "      <td>170.071</td>\n",
       "      <td>audio_features</td>\n",
       "      <td>spotify:track:4oqjF0RgQmtGGogG3paqOT</td>\n",
       "      <td>https://api.spotify.com/v1/tracks/4oqjF0RgQmtG...</td>\n",
       "      <td>https://api.spotify.com/v1/audio-analysis/4oqj...</td>\n",
       "      <td>227509.0</td>\n",
       "      <td>4.0</td>\n",
       "    </tr>\n",
       "    <tr>\n",
       "      <th>4</th>\n",
       "      <td>5E3dnmFiGepqED3KpwJalV</td>\n",
       "      <td>Sierra Leone</td>\n",
       "      <td>Azero</td>\n",
       "      <td>157IcJKKD2MNQtqTFy2HgT</td>\n",
       "      <td>Bela</td>\n",
       "      <td>2019-10-31</td>\n",
       "      <td>deutschrap</td>\n",
       "      <td>True</td>\n",
       "      <td>dr_sample</td>\n",
       "      <td>0.724</td>\n",
       "      <td>...</td>\n",
       "      <td>0.000000</td>\n",
       "      <td>0.165</td>\n",
       "      <td>0.554</td>\n",
       "      <td>127.914</td>\n",
       "      <td>audio_features</td>\n",
       "      <td>spotify:track:5E3dnmFiGepqED3KpwJalV</td>\n",
       "      <td>https://api.spotify.com/v1/tracks/5E3dnmFiGepq...</td>\n",
       "      <td>https://api.spotify.com/v1/audio-analysis/5E3d...</td>\n",
       "      <td>130719.0</td>\n",
       "      <td>4.0</td>\n",
       "    </tr>\n",
       "  </tbody>\n",
       "</table>\n",
       "<p>5 rows × 26 columns</p>\n",
       "</div>"
      ],
      "text/plain": [
       "                       id      track_title track_artist  \\\n",
       "0  5mrNkGIEJ0pSdXIR0eMwZQ        Bandolero        Azero   \n",
       "1  1EFbLCDFWIIiC6IMgthYsN  El Niño (Alarm)        Azero   \n",
       "2  3czNqQU3YvEcxaxIz16nb7         Es kocht        Azero   \n",
       "3  4oqjF0RgQmtGGogG3paqOT         Barbaren        Azero   \n",
       "4  5E3dnmFiGepqED3KpwJalV     Sierra Leone        Azero   \n",
       "\n",
       "           track_album_id track_album_name track_album_release       genre  \\\n",
       "0  157IcJKKD2MNQtqTFy2HgT             Bela          2019-10-31  deutschrap   \n",
       "1  157IcJKKD2MNQtqTFy2HgT             Bela          2019-10-31  deutschrap   \n",
       "2  157IcJKKD2MNQtqTFy2HgT             Bela          2019-10-31  deutschrap   \n",
       "3  157IcJKKD2MNQtqTFy2HgT             Bela          2019-10-31  deutschrap   \n",
       "4  157IcJKKD2MNQtqTFy2HgT             Bela          2019-10-31  deutschrap   \n",
       "\n",
       "   track_explicit data_source  danceability  ...  instrumentalness  liveness  \\\n",
       "0            True   dr_sample         0.726  ...          0.000002     0.131   \n",
       "1            True   dr_sample         0.765  ...          0.000005     0.118   \n",
       "2            True   dr_sample         0.551  ...          0.000339     0.147   \n",
       "3            True   dr_sample         0.708  ...          0.000040     0.111   \n",
       "4            True   dr_sample         0.724  ...          0.000000     0.165   \n",
       "\n",
       "   valence    tempo            type                                   uri  \\\n",
       "0    0.318  145.955  audio_features  spotify:track:5mrNkGIEJ0pSdXIR0eMwZQ   \n",
       "1    0.541  173.915  audio_features  spotify:track:1EFbLCDFWIIiC6IMgthYsN   \n",
       "2    0.158   94.261  audio_features  spotify:track:3czNqQU3YvEcxaxIz16nb7   \n",
       "3    0.359  170.071  audio_features  spotify:track:4oqjF0RgQmtGGogG3paqOT   \n",
       "4    0.554  127.914  audio_features  spotify:track:5E3dnmFiGepqED3KpwJalV   \n",
       "\n",
       "                                          track_href  \\\n",
       "0  https://api.spotify.com/v1/tracks/5mrNkGIEJ0pS...   \n",
       "1  https://api.spotify.com/v1/tracks/1EFbLCDFWIIi...   \n",
       "2  https://api.spotify.com/v1/tracks/3czNqQU3YvEc...   \n",
       "3  https://api.spotify.com/v1/tracks/4oqjF0RgQmtG...   \n",
       "4  https://api.spotify.com/v1/tracks/5E3dnmFiGepq...   \n",
       "\n",
       "                                        analysis_url  duration_ms  \\\n",
       "0  https://api.spotify.com/v1/audio-analysis/5mrN...     173003.0   \n",
       "1  https://api.spotify.com/v1/audio-analysis/1EFb...     143867.0   \n",
       "2  https://api.spotify.com/v1/audio-analysis/3czN...     196682.0   \n",
       "3  https://api.spotify.com/v1/audio-analysis/4oqj...     227509.0   \n",
       "4  https://api.spotify.com/v1/audio-analysis/5E3d...     130719.0   \n",
       "\n",
       "   time_signature  \n",
       "0             4.0  \n",
       "1             4.0  \n",
       "2             4.0  \n",
       "3             4.0  \n",
       "4             4.0  \n",
       "\n",
       "[5 rows x 26 columns]"
      ]
     },
     "execution_count": 42,
     "metadata": {},
     "output_type": "execute_result"
    }
   ],
   "source": [
    "audio_features_all_new.head()"
   ]
  },
  {
   "cell_type": "code",
   "execution_count": 43,
   "metadata": {},
   "outputs": [],
   "source": [
    "# saving df \n",
    "\n",
    "audio_features_all_new.to_csv('../data/audio_features_all_V2.csv')"
   ]
  },
  {
   "cell_type": "code",
   "execution_count": 44,
   "metadata": {},
   "outputs": [
    {
     "name": "stdout",
     "output_type": "stream",
     "text": [
      "<class 'pandas.core.frame.DataFrame'>\n",
      "Int64Index: 50622 entries, 0 to 50621\n",
      "Data columns (total 26 columns):\n",
      " #   Column               Non-Null Count  Dtype  \n",
      "---  ------               --------------  -----  \n",
      " 0   id                   50622 non-null  object \n",
      " 1   track_title          50622 non-null  object \n",
      " 2   track_artist         50622 non-null  object \n",
      " 3   track_album_id       50622 non-null  object \n",
      " 4   track_album_name     50622 non-null  object \n",
      " 5   track_album_release  50622 non-null  object \n",
      " 6   genre                50622 non-null  object \n",
      " 7   track_explicit       50622 non-null  bool   \n",
      " 8   data_source          50622 non-null  object \n",
      " 9   danceability         49882 non-null  float64\n",
      " 10  energy               49882 non-null  float64\n",
      " 11  key                  49882 non-null  float64\n",
      " 12  loudness             49882 non-null  float64\n",
      " 13  mode                 49882 non-null  float64\n",
      " 14  speechiness          49882 non-null  float64\n",
      " 15  acousticness         49882 non-null  float64\n",
      " 16  instrumentalness     49882 non-null  float64\n",
      " 17  liveness             49882 non-null  float64\n",
      " 18  valence              49882 non-null  float64\n",
      " 19  tempo                49882 non-null  float64\n",
      " 20  type                 49882 non-null  object \n",
      " 21  uri                  49882 non-null  object \n",
      " 22  track_href           49882 non-null  object \n",
      " 23  analysis_url         49882 non-null  object \n",
      " 24  duration_ms          49882 non-null  float64\n",
      " 25  time_signature       49882 non-null  float64\n",
      "dtypes: bool(1), float64(13), object(12)\n",
      "memory usage: 10.1+ MB\n"
     ]
    }
   ],
   "source": [
    "audio_features_all_new.info()"
   ]
  },
  {
   "cell_type": "code",
   "execution_count": 53,
   "metadata": {},
   "outputs": [
    {
     "data": {
      "text/plain": [
       "deutschrap    35110\n",
       "0             14351\n",
       "hiphop         1155\n",
       "christmas         6\n",
       "Name: genre, dtype: int64"
      ]
     },
     "execution_count": 53,
     "metadata": {},
     "output_type": "execute_result"
    }
   ],
   "source": [
    "audio_features_all_new['genre'].value_counts()"
   ]
  },
  {
   "cell_type": "code",
   "execution_count": 50,
   "metadata": {},
   "outputs": [
    {
     "data": {
      "text/plain": [
       "dr_sample    31389\n",
       "top100       19233\n",
       "Name: data_source, dtype: int64"
      ]
     },
     "execution_count": 50,
     "metadata": {},
     "output_type": "execute_result"
    }
   ],
   "source": [
    "audio_features_all_new['data_source'].value_counts()"
   ]
  },
  {
   "cell_type": "code",
   "execution_count": 49,
   "metadata": {},
   "outputs": [
    {
     "data": {
      "text/plain": [
       "False    33898\n",
       "True     16724\n",
       "Name: track_explicit, dtype: int64"
      ]
     },
     "execution_count": 49,
     "metadata": {},
     "output_type": "execute_result"
    }
   ],
   "source": [
    "audio_features_all_new['track_explicit'].value_counts()"
   ]
  }
 ],
 "metadata": {
  "kernelspec": {
   "display_name": "Python 3",
   "language": "python",
   "name": "python3"
  },
  "language_info": {
   "codemirror_mode": {
    "name": "ipython",
    "version": 3
   },
   "file_extension": ".py",
   "mimetype": "text/x-python",
   "name": "python",
   "nbconvert_exporter": "python",
   "pygments_lexer": "ipython3",
   "version": "3.8.5"
  }
 },
 "nbformat": 4,
 "nbformat_minor": 4
}
