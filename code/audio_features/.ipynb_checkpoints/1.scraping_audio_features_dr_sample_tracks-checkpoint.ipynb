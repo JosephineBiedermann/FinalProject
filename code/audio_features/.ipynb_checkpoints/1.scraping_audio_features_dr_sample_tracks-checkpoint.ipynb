{
 "cells": [
  {
   "cell_type": "markdown",
   "metadata": {},
   "source": [
    "# Getting data 3 - audio features of sample dr artist album tracks"
   ]
  },
  {
   "cell_type": "markdown",
   "metadata": {},
   "source": [
    "Now that I got the sample of dr tracks, I need to get the audio features of said tracks.\n",
    "\n",
    "I got a csv with the following data:\n",
    "- track id\n",
    "- track artist\n",
    "- track title\n",
    "- track explicity\n",
    "\n",
    "<br/>\n",
    "\n",
    "Next steps are:\n",
    "- getting audio features from dr tracks"
   ]
  },
  {
   "cell_type": "code",
   "execution_count": 1,
   "metadata": {},
   "outputs": [],
   "source": [
    "# importing needed libraries\n",
    "\n",
    "import pandas as pd\n",
    "import numpy as np\n",
    "import getpass\n",
    "import spotipy\n",
    "from spotipy.oauth2 import SpotifyClientCredentials"
   ]
  },
  {
   "cell_type": "code",
   "execution_count": 8,
   "metadata": {},
   "outputs": [],
   "source": [
    "# importing data csv\n",
    "\n",
    "dr_sample_tracks = pd.read_csv('../data/dr_tracks_id_title_expl_artist_album.csv')"
   ]
  },
  {
   "cell_type": "code",
   "execution_count": 9,
   "metadata": {},
   "outputs": [
    {
     "data": {
      "text/plain": [
       "Index(['Unnamed: 0', 'id', 'track_title', 'track_explicit', 'track_artist'], dtype='object')"
      ]
     },
     "execution_count": 9,
     "metadata": {},
     "output_type": "execute_result"
    }
   ],
   "source": [
    "# checking the column\n",
    "\n",
    "dr_sample_tracks.columns"
   ]
  },
  {
   "cell_type": "code",
   "execution_count": 10,
   "metadata": {},
   "outputs": [],
   "source": [
    "# removing the not needed index column\n",
    "\n",
    "dr_sample_tracks = dr_sample_tracks.drop(['Unnamed: 0'], axis = 1)"
   ]
  },
  {
   "cell_type": "code",
   "execution_count": 12,
   "metadata": {},
   "outputs": [
    {
     "data": {
      "text/plain": [
       "28077"
      ]
     },
     "execution_count": 12,
     "metadata": {},
     "output_type": "execute_result"
    }
   ],
   "source": [
    "# checking length \n",
    "\n",
    "len(dr_sample_tracks)"
   ]
  },
  {
   "cell_type": "markdown",
   "metadata": {},
   "source": [
    "# Getting audio features\n",
    "\n",
    "To get the audio features I will use audio_features(tracks=[]) function."
   ]
  },
  {
   "cell_type": "code",
   "execution_count": 15,
   "metadata": {},
   "outputs": [
    {
     "name": "stdout",
     "output_type": "stream",
     "text": [
      "client_id?········\n",
      "client_secret?········\n"
     ]
    }
   ],
   "source": [
    "# setting passwords\n",
    "\n",
    "client_id = getpass.getpass('client_id?')\n",
    "client_secret = getpass.getpass('client_secret?')"
   ]
  },
  {
   "cell_type": "code",
   "execution_count": 16,
   "metadata": {},
   "outputs": [],
   "source": [
    "# connection to spotify API\n",
    "\n",
    "sp = spotipy.Spotify(auth_manager=SpotifyClientCredentials(client_id=client_id ,\n",
    "                                                           client_secret=client_secret))"
   ]
  },
  {
   "cell_type": "code",
   "execution_count": 30,
   "metadata": {},
   "outputs": [],
   "source": [
    "# creating list of all track ids from df to iterate over to get audio features\n",
    "\n",
    "track_ids = list(dr_sample_tracks['id'].unique())"
   ]
  },
  {
   "cell_type": "code",
   "execution_count": 19,
   "metadata": {},
   "outputs": [],
   "source": [
    "# building a function to put the song ids in track_ids into chunks\n",
    "# the audio feature function can only process 50 tracks at the time\n",
    "\n",
    "def chunks(lst, n):\n",
    "    \"\"\"Yield successive n-sized chunks from lst.\"\"\"\n",
    "    for i in range(0, len(lst), n):\n",
    "        yield lst[i:i + n]"
   ]
  },
  {
   "cell_type": "code",
   "execution_count": 31,
   "metadata": {},
   "outputs": [],
   "source": [
    "# getting the audio features from the top100 track ids\n",
    "# iterating over the top100 track list with the chunk function\n",
    "\n",
    "dr_sample_tracks_audiofeatures = []\n",
    "\n",
    "for chunk in list(chunks(track_ids, 50)):\n",
    "    dr_sample_tracks_audiofeatures.append(sp.audio_features(chunk))"
   ]
  },
  {
   "cell_type": "code",
   "execution_count": 32,
   "metadata": {},
   "outputs": [],
   "source": [
    "# turning the audio feature list into a df\n",
    "\n",
    "dr_sample_tracks_audiofeatures_df = pd.DataFrame(dr_sample_tracks_audiofeatures)"
   ]
  },
  {
   "cell_type": "code",
   "execution_count": 33,
   "metadata": {},
   "outputs": [
    {
     "data": {
      "text/html": [
       "<div>\n",
       "<style scoped>\n",
       "    .dataframe tbody tr th:only-of-type {\n",
       "        vertical-align: middle;\n",
       "    }\n",
       "\n",
       "    .dataframe tbody tr th {\n",
       "        vertical-align: top;\n",
       "    }\n",
       "\n",
       "    .dataframe thead th {\n",
       "        text-align: right;\n",
       "    }\n",
       "</style>\n",
       "<table border=\"1\" class=\"dataframe\">\n",
       "  <thead>\n",
       "    <tr style=\"text-align: right;\">\n",
       "      <th></th>\n",
       "      <th>0</th>\n",
       "      <th>acousticness</th>\n",
       "      <th>analysis_url</th>\n",
       "      <th>danceability</th>\n",
       "      <th>duration_ms</th>\n",
       "      <th>energy</th>\n",
       "      <th>id</th>\n",
       "      <th>instrumentalness</th>\n",
       "      <th>key</th>\n",
       "      <th>liveness</th>\n",
       "      <th>loudness</th>\n",
       "      <th>mode</th>\n",
       "      <th>speechiness</th>\n",
       "      <th>tempo</th>\n",
       "      <th>time_signature</th>\n",
       "      <th>track_href</th>\n",
       "      <th>type</th>\n",
       "      <th>uri</th>\n",
       "      <th>valence</th>\n",
       "    </tr>\n",
       "  </thead>\n",
       "  <tbody>\n",
       "    <tr>\n",
       "      <th>0</th>\n",
       "      <td>NaN</td>\n",
       "      <td>0.568</td>\n",
       "      <td>https://api.spotify.com/v1/audio-analysis/5mrN...</td>\n",
       "      <td>0.726</td>\n",
       "      <td>173003.0</td>\n",
       "      <td>0.684</td>\n",
       "      <td>5mrNkGIEJ0pSdXIR0eMwZQ</td>\n",
       "      <td>0.000002</td>\n",
       "      <td>6.0</td>\n",
       "      <td>0.131</td>\n",
       "      <td>-6.125</td>\n",
       "      <td>0.0</td>\n",
       "      <td>0.387</td>\n",
       "      <td>145.955</td>\n",
       "      <td>4.0</td>\n",
       "      <td>https://api.spotify.com/v1/tracks/5mrNkGIEJ0pS...</td>\n",
       "      <td>audio_features</td>\n",
       "      <td>spotify:track:5mrNkGIEJ0pSdXIR0eMwZQ</td>\n",
       "      <td>0.318</td>\n",
       "    </tr>\n",
       "    <tr>\n",
       "      <th>1</th>\n",
       "      <td>NaN</td>\n",
       "      <td>0.636</td>\n",
       "      <td>https://api.spotify.com/v1/audio-analysis/1EFb...</td>\n",
       "      <td>0.765</td>\n",
       "      <td>143867.0</td>\n",
       "      <td>0.646</td>\n",
       "      <td>1EFbLCDFWIIiC6IMgthYsN</td>\n",
       "      <td>0.000005</td>\n",
       "      <td>1.0</td>\n",
       "      <td>0.118</td>\n",
       "      <td>-5.292</td>\n",
       "      <td>1.0</td>\n",
       "      <td>0.308</td>\n",
       "      <td>173.915</td>\n",
       "      <td>4.0</td>\n",
       "      <td>https://api.spotify.com/v1/tracks/1EFbLCDFWIIi...</td>\n",
       "      <td>audio_features</td>\n",
       "      <td>spotify:track:1EFbLCDFWIIiC6IMgthYsN</td>\n",
       "      <td>0.541</td>\n",
       "    </tr>\n",
       "    <tr>\n",
       "      <th>2</th>\n",
       "      <td>NaN</td>\n",
       "      <td>0.138</td>\n",
       "      <td>https://api.spotify.com/v1/audio-analysis/3czN...</td>\n",
       "      <td>0.551</td>\n",
       "      <td>196682.0</td>\n",
       "      <td>0.638</td>\n",
       "      <td>3czNqQU3YvEcxaxIz16nb7</td>\n",
       "      <td>0.000339</td>\n",
       "      <td>9.0</td>\n",
       "      <td>0.147</td>\n",
       "      <td>-5.800</td>\n",
       "      <td>1.0</td>\n",
       "      <td>0.367</td>\n",
       "      <td>94.261</td>\n",
       "      <td>4.0</td>\n",
       "      <td>https://api.spotify.com/v1/tracks/3czNqQU3YvEc...</td>\n",
       "      <td>audio_features</td>\n",
       "      <td>spotify:track:3czNqQU3YvEcxaxIz16nb7</td>\n",
       "      <td>0.158</td>\n",
       "    </tr>\n",
       "    <tr>\n",
       "      <th>3</th>\n",
       "      <td>NaN</td>\n",
       "      <td>0.143</td>\n",
       "      <td>https://api.spotify.com/v1/audio-analysis/4oqj...</td>\n",
       "      <td>0.708</td>\n",
       "      <td>227509.0</td>\n",
       "      <td>0.760</td>\n",
       "      <td>4oqjF0RgQmtGGogG3paqOT</td>\n",
       "      <td>0.000040</td>\n",
       "      <td>7.0</td>\n",
       "      <td>0.111</td>\n",
       "      <td>-4.530</td>\n",
       "      <td>1.0</td>\n",
       "      <td>0.442</td>\n",
       "      <td>170.071</td>\n",
       "      <td>4.0</td>\n",
       "      <td>https://api.spotify.com/v1/tracks/4oqjF0RgQmtG...</td>\n",
       "      <td>audio_features</td>\n",
       "      <td>spotify:track:4oqjF0RgQmtGGogG3paqOT</td>\n",
       "      <td>0.359</td>\n",
       "    </tr>\n",
       "    <tr>\n",
       "      <th>4</th>\n",
       "      <td>NaN</td>\n",
       "      <td>0.521</td>\n",
       "      <td>https://api.spotify.com/v1/audio-analysis/5E3d...</td>\n",
       "      <td>0.724</td>\n",
       "      <td>130719.0</td>\n",
       "      <td>0.708</td>\n",
       "      <td>5E3dnmFiGepqED3KpwJalV</td>\n",
       "      <td>0.000000</td>\n",
       "      <td>8.0</td>\n",
       "      <td>0.165</td>\n",
       "      <td>-6.230</td>\n",
       "      <td>1.0</td>\n",
       "      <td>0.287</td>\n",
       "      <td>127.914</td>\n",
       "      <td>4.0</td>\n",
       "      <td>https://api.spotify.com/v1/tracks/5E3dnmFiGepq...</td>\n",
       "      <td>audio_features</td>\n",
       "      <td>spotify:track:5E3dnmFiGepqED3KpwJalV</td>\n",
       "      <td>0.554</td>\n",
       "    </tr>\n",
       "  </tbody>\n",
       "</table>\n",
       "</div>"
      ],
      "text/plain": [
       "     0  acousticness                                       analysis_url  \\\n",
       "0  NaN         0.568  https://api.spotify.com/v1/audio-analysis/5mrN...   \n",
       "1  NaN         0.636  https://api.spotify.com/v1/audio-analysis/1EFb...   \n",
       "2  NaN         0.138  https://api.spotify.com/v1/audio-analysis/3czN...   \n",
       "3  NaN         0.143  https://api.spotify.com/v1/audio-analysis/4oqj...   \n",
       "4  NaN         0.521  https://api.spotify.com/v1/audio-analysis/5E3d...   \n",
       "\n",
       "   danceability  duration_ms  energy                      id  \\\n",
       "0         0.726     173003.0   0.684  5mrNkGIEJ0pSdXIR0eMwZQ   \n",
       "1         0.765     143867.0   0.646  1EFbLCDFWIIiC6IMgthYsN   \n",
       "2         0.551     196682.0   0.638  3czNqQU3YvEcxaxIz16nb7   \n",
       "3         0.708     227509.0   0.760  4oqjF0RgQmtGGogG3paqOT   \n",
       "4         0.724     130719.0   0.708  5E3dnmFiGepqED3KpwJalV   \n",
       "\n",
       "   instrumentalness  key  liveness  loudness  mode  speechiness    tempo  \\\n",
       "0          0.000002  6.0     0.131    -6.125   0.0        0.387  145.955   \n",
       "1          0.000005  1.0     0.118    -5.292   1.0        0.308  173.915   \n",
       "2          0.000339  9.0     0.147    -5.800   1.0        0.367   94.261   \n",
       "3          0.000040  7.0     0.111    -4.530   1.0        0.442  170.071   \n",
       "4          0.000000  8.0     0.165    -6.230   1.0        0.287  127.914   \n",
       "\n",
       "   time_signature                                         track_href  \\\n",
       "0             4.0  https://api.spotify.com/v1/tracks/5mrNkGIEJ0pS...   \n",
       "1             4.0  https://api.spotify.com/v1/tracks/1EFbLCDFWIIi...   \n",
       "2             4.0  https://api.spotify.com/v1/tracks/3czNqQU3YvEc...   \n",
       "3             4.0  https://api.spotify.com/v1/tracks/4oqjF0RgQmtG...   \n",
       "4             4.0  https://api.spotify.com/v1/tracks/5E3dnmFiGepq...   \n",
       "\n",
       "             type                                   uri  valence  \n",
       "0  audio_features  spotify:track:5mrNkGIEJ0pSdXIR0eMwZQ    0.318  \n",
       "1  audio_features  spotify:track:1EFbLCDFWIIiC6IMgthYsN    0.541  \n",
       "2  audio_features  spotify:track:3czNqQU3YvEcxaxIz16nb7    0.158  \n",
       "3  audio_features  spotify:track:4oqjF0RgQmtGGogG3paqOT    0.359  \n",
       "4  audio_features  spotify:track:5E3dnmFiGepqED3KpwJalV    0.554  "
      ]
     },
     "execution_count": 33,
     "metadata": {},
     "output_type": "execute_result"
    }
   ],
   "source": [
    "# we need to unpack those dicts\n",
    "\n",
    "dr_sample_tracks_audiofeatures_df = pd.DataFrame()\n",
    "\n",
    "for i in range(len(dr_sample_tracks_audiofeatures)):\n",
    "    try:\n",
    "        dr_sample_tracks_audiofeatures_df = dr_sample_tracks_audiofeatures_df.append(pd.DataFrame(dr_sample_tracks_audiofeatures[i]))\n",
    "    except:\n",
    "        continue\n",
    "        \n",
    "dr_sample_tracks_audiofeatures_df.head()"
   ]
  },
  {
   "cell_type": "code",
   "execution_count": 34,
   "metadata": {},
   "outputs": [
    {
     "data": {
      "text/plain": [
       "(26735, 28077)"
      ]
     },
     "execution_count": 34,
     "metadata": {},
     "output_type": "execute_result"
    }
   ],
   "source": [
    "len(dr_sample_tracks_audiofeatures_df), len(dr_sample_tracks)"
   ]
  },
  {
   "cell_type": "code",
   "execution_count": 35,
   "metadata": {},
   "outputs": [
    {
     "data": {
      "text/html": [
       "<div>\n",
       "<style scoped>\n",
       "    .dataframe tbody tr th:only-of-type {\n",
       "        vertical-align: middle;\n",
       "    }\n",
       "\n",
       "    .dataframe tbody tr th {\n",
       "        vertical-align: top;\n",
       "    }\n",
       "\n",
       "    .dataframe thead th {\n",
       "        text-align: right;\n",
       "    }\n",
       "</style>\n",
       "<table border=\"1\" class=\"dataframe\">\n",
       "  <thead>\n",
       "    <tr style=\"text-align: right;\">\n",
       "      <th></th>\n",
       "      <th>id</th>\n",
       "      <th>track_title</th>\n",
       "      <th>track_explicit</th>\n",
       "      <th>track_artist</th>\n",
       "      <th>0</th>\n",
       "      <th>acousticness</th>\n",
       "      <th>analysis_url</th>\n",
       "      <th>danceability</th>\n",
       "      <th>duration_ms</th>\n",
       "      <th>energy</th>\n",
       "      <th>...</th>\n",
       "      <th>liveness</th>\n",
       "      <th>loudness</th>\n",
       "      <th>mode</th>\n",
       "      <th>speechiness</th>\n",
       "      <th>tempo</th>\n",
       "      <th>time_signature</th>\n",
       "      <th>track_href</th>\n",
       "      <th>type</th>\n",
       "      <th>uri</th>\n",
       "      <th>valence</th>\n",
       "    </tr>\n",
       "  </thead>\n",
       "  <tbody>\n",
       "    <tr>\n",
       "      <th>28072</th>\n",
       "      <td>6T3HETqZz2jWruWfQdMnnM</td>\n",
       "      <td>Gold</td>\n",
       "      <td>True</td>\n",
       "      <td>Jalle</td>\n",
       "      <td>NaN</td>\n",
       "      <td>0.24900</td>\n",
       "      <td>https://api.spotify.com/v1/audio-analysis/6T3H...</td>\n",
       "      <td>0.883</td>\n",
       "      <td>236190.0</td>\n",
       "      <td>0.565</td>\n",
       "      <td>...</td>\n",
       "      <td>0.1140</td>\n",
       "      <td>-9.079</td>\n",
       "      <td>1.0</td>\n",
       "      <td>0.0527</td>\n",
       "      <td>126.048</td>\n",
       "      <td>4.0</td>\n",
       "      <td>https://api.spotify.com/v1/tracks/6T3HETqZz2jW...</td>\n",
       "      <td>audio_features</td>\n",
       "      <td>spotify:track:6T3HETqZz2jWruWfQdMnnM</td>\n",
       "      <td>0.1700</td>\n",
       "    </tr>\n",
       "    <tr>\n",
       "      <th>28073</th>\n",
       "      <td>4x2ZGBnrYWKOHnd24PZUqQ</td>\n",
       "      <td>Gang Gang</td>\n",
       "      <td>True</td>\n",
       "      <td>Jalle</td>\n",
       "      <td>NaN</td>\n",
       "      <td>0.50500</td>\n",
       "      <td>https://api.spotify.com/v1/audio-analysis/4x2Z...</td>\n",
       "      <td>0.847</td>\n",
       "      <td>162462.0</td>\n",
       "      <td>0.548</td>\n",
       "      <td>...</td>\n",
       "      <td>0.1080</td>\n",
       "      <td>-9.007</td>\n",
       "      <td>1.0</td>\n",
       "      <td>0.0694</td>\n",
       "      <td>129.992</td>\n",
       "      <td>4.0</td>\n",
       "      <td>https://api.spotify.com/v1/tracks/4x2ZGBnrYWKO...</td>\n",
       "      <td>audio_features</td>\n",
       "      <td>spotify:track:4x2ZGBnrYWKOHnd24PZUqQ</td>\n",
       "      <td>0.0802</td>\n",
       "    </tr>\n",
       "    <tr>\n",
       "      <th>28074</th>\n",
       "      <td>5akBfZirObWAdp2ZlY5zmo</td>\n",
       "      <td>Was du laberst</td>\n",
       "      <td>True</td>\n",
       "      <td>Jalle</td>\n",
       "      <td>NaN</td>\n",
       "      <td>0.00801</td>\n",
       "      <td>https://api.spotify.com/v1/audio-analysis/5akB...</td>\n",
       "      <td>0.875</td>\n",
       "      <td>173015.0</td>\n",
       "      <td>0.666</td>\n",
       "      <td>...</td>\n",
       "      <td>0.0986</td>\n",
       "      <td>-10.176</td>\n",
       "      <td>0.0</td>\n",
       "      <td>0.2260</td>\n",
       "      <td>149.942</td>\n",
       "      <td>4.0</td>\n",
       "      <td>https://api.spotify.com/v1/tracks/5akBfZirObWA...</td>\n",
       "      <td>audio_features</td>\n",
       "      <td>spotify:track:5akBfZirObWAdp2ZlY5zmo</td>\n",
       "      <td>0.5730</td>\n",
       "    </tr>\n",
       "    <tr>\n",
       "      <th>28075</th>\n",
       "      <td>7vHJDGjGiJQrGORYZuXpVa</td>\n",
       "      <td>Fuck12</td>\n",
       "      <td>True</td>\n",
       "      <td>Jalle</td>\n",
       "      <td>NaN</td>\n",
       "      <td>0.00219</td>\n",
       "      <td>https://api.spotify.com/v1/audio-analysis/7vHJ...</td>\n",
       "      <td>0.790</td>\n",
       "      <td>173514.0</td>\n",
       "      <td>0.720</td>\n",
       "      <td>...</td>\n",
       "      <td>0.1100</td>\n",
       "      <td>-9.051</td>\n",
       "      <td>0.0</td>\n",
       "      <td>0.1130</td>\n",
       "      <td>148.031</td>\n",
       "      <td>4.0</td>\n",
       "      <td>https://api.spotify.com/v1/tracks/7vHJDGjGiJQr...</td>\n",
       "      <td>audio_features</td>\n",
       "      <td>spotify:track:7vHJDGjGiJQrGORYZuXpVa</td>\n",
       "      <td>0.3650</td>\n",
       "    </tr>\n",
       "    <tr>\n",
       "      <th>28076</th>\n",
       "      <td>3EYwKISvUTT2rFbK0eIBVE</td>\n",
       "      <td>Alles brennt</td>\n",
       "      <td>True</td>\n",
       "      <td>Jalle</td>\n",
       "      <td>NaN</td>\n",
       "      <td>0.08180</td>\n",
       "      <td>https://api.spotify.com/v1/audio-analysis/3EYw...</td>\n",
       "      <td>0.662</td>\n",
       "      <td>192414.0</td>\n",
       "      <td>0.665</td>\n",
       "      <td>...</td>\n",
       "      <td>0.1410</td>\n",
       "      <td>-6.311</td>\n",
       "      <td>0.0</td>\n",
       "      <td>0.0534</td>\n",
       "      <td>144.847</td>\n",
       "      <td>4.0</td>\n",
       "      <td>https://api.spotify.com/v1/tracks/3EYwKISvUTT2...</td>\n",
       "      <td>audio_features</td>\n",
       "      <td>spotify:track:3EYwKISvUTT2rFbK0eIBVE</td>\n",
       "      <td>0.1530</td>\n",
       "    </tr>\n",
       "  </tbody>\n",
       "</table>\n",
       "<p>5 rows × 22 columns</p>\n",
       "</div>"
      ],
      "text/plain": [
       "                           id     track_title  track_explicit track_artist  \\\n",
       "28072  6T3HETqZz2jWruWfQdMnnM            Gold            True        Jalle   \n",
       "28073  4x2ZGBnrYWKOHnd24PZUqQ       Gang Gang            True        Jalle   \n",
       "28074  5akBfZirObWAdp2ZlY5zmo  Was du laberst            True        Jalle   \n",
       "28075  7vHJDGjGiJQrGORYZuXpVa          Fuck12            True        Jalle   \n",
       "28076  3EYwKISvUTT2rFbK0eIBVE    Alles brennt            True        Jalle   \n",
       "\n",
       "         0  acousticness                                       analysis_url  \\\n",
       "28072  NaN       0.24900  https://api.spotify.com/v1/audio-analysis/6T3H...   \n",
       "28073  NaN       0.50500  https://api.spotify.com/v1/audio-analysis/4x2Z...   \n",
       "28074  NaN       0.00801  https://api.spotify.com/v1/audio-analysis/5akB...   \n",
       "28075  NaN       0.00219  https://api.spotify.com/v1/audio-analysis/7vHJ...   \n",
       "28076  NaN       0.08180  https://api.spotify.com/v1/audio-analysis/3EYw...   \n",
       "\n",
       "       danceability  duration_ms  energy  ...  liveness  loudness  mode  \\\n",
       "28072         0.883     236190.0   0.565  ...    0.1140    -9.079   1.0   \n",
       "28073         0.847     162462.0   0.548  ...    0.1080    -9.007   1.0   \n",
       "28074         0.875     173015.0   0.666  ...    0.0986   -10.176   0.0   \n",
       "28075         0.790     173514.0   0.720  ...    0.1100    -9.051   0.0   \n",
       "28076         0.662     192414.0   0.665  ...    0.1410    -6.311   0.0   \n",
       "\n",
       "       speechiness    tempo  time_signature  \\\n",
       "28072       0.0527  126.048             4.0   \n",
       "28073       0.0694  129.992             4.0   \n",
       "28074       0.2260  149.942             4.0   \n",
       "28075       0.1130  148.031             4.0   \n",
       "28076       0.0534  144.847             4.0   \n",
       "\n",
       "                                              track_href            type  \\\n",
       "28072  https://api.spotify.com/v1/tracks/6T3HETqZz2jW...  audio_features   \n",
       "28073  https://api.spotify.com/v1/tracks/4x2ZGBnrYWKO...  audio_features   \n",
       "28074  https://api.spotify.com/v1/tracks/5akBfZirObWA...  audio_features   \n",
       "28075  https://api.spotify.com/v1/tracks/7vHJDGjGiJQr...  audio_features   \n",
       "28076  https://api.spotify.com/v1/tracks/3EYwKISvUTT2...  audio_features   \n",
       "\n",
       "                                        uri valence  \n",
       "28072  spotify:track:6T3HETqZz2jWruWfQdMnnM  0.1700  \n",
       "28073  spotify:track:4x2ZGBnrYWKOHnd24PZUqQ  0.0802  \n",
       "28074  spotify:track:5akBfZirObWAdp2ZlY5zmo  0.5730  \n",
       "28075  spotify:track:7vHJDGjGiJQrGORYZuXpVa  0.3650  \n",
       "28076  spotify:track:3EYwKISvUTT2rFbK0eIBVE  0.1530  \n",
       "\n",
       "[5 rows x 22 columns]"
      ]
     },
     "execution_count": 35,
     "metadata": {},
     "output_type": "execute_result"
    }
   ],
   "source": [
    "# merging both dfs\n",
    "\n",
    "dr_sample_tracks_audiofeatures_df_merged = pd.merge(dr_sample_tracks, dr_sample_tracks_audiofeatures_df, how='left', on=['id'])\n",
    "dr_sample_tracks_audiofeatures_df_merged.tail()"
   ]
  },
  {
   "cell_type": "code",
   "execution_count": 36,
   "metadata": {},
   "outputs": [
    {
     "data": {
      "text/plain": [
       "28077"
      ]
     },
     "execution_count": 36,
     "metadata": {},
     "output_type": "execute_result"
    }
   ],
   "source": [
    "# checking length to see how it worked\n",
    "\n",
    "len(dr_sample_tracks_audiofeatures_df_merged)"
   ]
  },
  {
   "cell_type": "code",
   "execution_count": 37,
   "metadata": {},
   "outputs": [],
   "source": [
    "# saving df as csv\n",
    "\n",
    "dr_sample_tracks_audiofeatures_df_merged.to_csv('../data/dr_sample_audio_features.csv')"
   ]
  }
 ],
 "metadata": {
  "kernelspec": {
   "display_name": "Python 3",
   "language": "python",
   "name": "python3"
  },
  "language_info": {
   "codemirror_mode": {
    "name": "ipython",
    "version": 3
   },
   "file_extension": ".py",
   "mimetype": "text/x-python",
   "name": "python",
   "nbconvert_exporter": "python",
   "pygments_lexer": "ipython3",
   "version": "3.8.5"
  }
 },
 "nbformat": 4,
 "nbformat_minor": 4
}
