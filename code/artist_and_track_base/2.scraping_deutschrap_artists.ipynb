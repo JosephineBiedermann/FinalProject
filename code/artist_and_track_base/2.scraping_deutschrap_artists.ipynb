{
 "cells": [
  {
   "cell_type": "markdown",
   "metadata": {
    "id": "Q1-TmM7SjdOr"
   },
   "source": [
    "# Getting data 2 - Deutschrap artists & all tracks per album"
   ]
  },
  {
   "cell_type": "markdown",
   "metadata": {
    "id": "MW9sh_EjjdO-"
   },
   "source": [
    "I need to get a representative sample list of Deutschrap (dr) artists. I would like to go for at least 1000 artists.\n",
    "\n",
    "I will get the artists from specific dr spotify playlists. These are the playlists which are representative dr playlists:\n",
    "\n",
    "**Deutschrap Brandneu**\n",
    "<br/>ID:37i9dQZF1DWSTqUqJcxFk6\n",
    "<br/>creator: spotify\n",
    "\n",
    "**Modus Mio**\n",
    "<br/>ID:37i9dQZF1DX36edUJpD76c\n",
    "<br/>creator: spotify\n",
    "\n",
    "**The Sound of German Undergroup Rap**\n",
    "<br/>ID:2IcKLRiUHpjhMMubZqderY\n",
    "<br/>creator: The Sound of Spotify\n",
    "\n",
    "**The Sound of German Hip Hop**\n",
    "<br/>ID:0N2gkh3nggtCtksCU2cSty\n",
    "<br/>creator: The Sound of Spotify\n",
    "\n",
    "**Deutschrap Queens**\n",
    "<br/>ID:2SWuJuqh4yl3tK2CcvdSm4\n",
    "<br/>creator: blaenksy\n",
    "\n",
    "**Deutschrap: Die Klassiker**\n",
    "<br/>ID:37i9dQZF1DWSzguhfGl55y\n",
    "<br/>creator: spotify\n",
    "\n",
    "**Deutschrap Royal**\n",
    "<br/>ID:37i9dQZF1DX4TiN7pMwV0Z\n",
    "<br/>creator: spotify\n",
    "\n",
    "**Deutschrap Asphalt**\n",
    "<br/>ID:37i9dQZF1DXbWS0mKtnghU\n",
    "<br/>creator: spotify\n",
    "\n",
    "**Shisha Club**\n",
    "<br/>ID:37i9dQZF1DX2lUf1uE6Mre\n",
    "<br/>creator: spotify\n",
    "\n",
    "**Deutschtrap**\n",
    "<br/>ID:37i9dQZF1DX2uJ1OVfn3CH\n",
    "<br/>creator: spotify"
   ]
  },
  {
   "cell_type": "code",
   "execution_count": 1,
   "metadata": {
    "id": "CNQ0KW9mjdPF"
   },
   "outputs": [
    {
     "name": "stdout",
     "output_type": "stream",
     "text": [
      "client_id?········\n",
      "client_secret?········\n"
     ]
    }
   ],
   "source": [
    "# importing getpass to use on spotify credentials\n",
    "\n",
    "import getpass\n",
    "client_id = getpass.getpass('client_id?')\n",
    "client_secret = getpass.getpass('client_secret?')"
   ]
  },
  {
   "cell_type": "code",
   "execution_count": 2,
   "metadata": {
    "id": "HwPg5HU3jdPK"
   },
   "outputs": [],
   "source": [
    "# import spotify library\n",
    "\n",
    "import spotipy\n",
    "from spotipy.oauth2 import SpotifyClientCredentials"
   ]
  },
  {
   "cell_type": "code",
   "execution_count": 3,
   "metadata": {
    "id": "p9J1Z7RTjdPL"
   },
   "outputs": [],
   "source": [
    "# create API connection in a variable\n",
    "\n",
    "sp = spotipy.Spotify(auth_manager=SpotifyClientCredentials(client_id=client_id ,\n",
    "                                                           client_secret=client_secret))"
   ]
  },
  {
   "cell_type": "markdown",
   "metadata": {
    "id": "I_xtcCTOjdPM"
   },
   "source": [
    "Again I am going to try to get the artists from 1 playlist to see how it works and then apply this to all the playlists from above."
   ]
  },
  {
   "cell_type": "code",
   "execution_count": 4,
   "metadata": {
    "id": "tU7tSa9RjdPM"
   },
   "outputs": [],
   "source": [
    "# creating test variable with the playlist_track function on the first playlist\n",
    "\n",
    "test = sp.playlist_tracks('37i9dQZF1DWSTqUqJcxFk6')"
   ]
  },
  {
   "cell_type": "code",
   "execution_count": null,
   "metadata": {
    "id": "l-FCTxA6jdPS"
   },
   "outputs": [],
   "source": [
    "# checking if I get the artist of the first track of the playlist\n",
    "\n",
    "test['items'][0]['track']['artists'][0]['name']"
   ]
  },
  {
   "cell_type": "code",
   "execution_count": null,
   "metadata": {
    "id": "YcfvkUjTjdPU"
   },
   "outputs": [],
   "source": [
    "# checking if I get the artist of the first track of the playlist\n",
    "\n",
    "test['items'][0]['track']['artists'][0]['id']"
   ]
  },
  {
   "cell_type": "markdown",
   "metadata": {
    "id": "RwcPkod4jdPW"
   },
   "source": [
    "Now that this is working, lets see to get all the artists of all songs of the playlist."
   ]
  },
  {
   "cell_type": "code",
   "execution_count": 5,
   "metadata": {
    "id": "W6vXOBEKjdPW"
   },
   "outputs": [],
   "source": [
    "# building a function to get the artists name from the playlists\n",
    "\n",
    "def get_track_artists_name(playlist):\n",
    "    track_artists = []\n",
    "    track_artists_name = []\n",
    "    \n",
    "    for item in playlist['items']:\n",
    "        track_artists.append((item['track']['artists']))\n",
    "    \n",
    "    track_artists_flat = [y for x in track_artists for y in x]\n",
    "    track_artists_flat\n",
    "        \n",
    "    for i in track_artists_flat:\n",
    "        track_artists_name.append(i['name'])\n",
    "        \n",
    "    return track_artists_name"
   ]
  },
  {
   "cell_type": "code",
   "execution_count": 6,
   "metadata": {
    "id": "w2lWeBtDjdPX"
   },
   "outputs": [],
   "source": [
    "# building a function to get the artists ids from the playlists\n",
    "\n",
    "def get_track_artists_id(playlist):\n",
    "    track_artists = []\n",
    "    track_artists_id = []\n",
    "    \n",
    "    for item in playlist['items']:\n",
    "        track_artists.append((item['track']['artists']))\n",
    "    \n",
    "    track_artists_flat = [y for x in track_artists for y in x]\n",
    "    track_artists_flat\n",
    "        \n",
    "    for i in track_artists_flat:\n",
    "        track_artists_id.append(i['id'])\n",
    "        \n",
    "    return track_artists_id"
   ]
  },
  {
   "cell_type": "code",
   "execution_count": 7,
   "metadata": {
    "id": "2qm-VK0HjdPb"
   },
   "outputs": [],
   "source": [
    "# creating a list with all the playlist IDs\n",
    "\n",
    "dr_playlists = ['37i9dQZF1DWSTqUqJcxFk6','37i9dQZF1DX36edUJpD76c','2IcKLRiUHpjhMMubZqderY','0N2gkh3nggtCtksCU2cSty','2SWuJuqh4yl3tK2CcvdSm4','37i9dQZF1DWSzguhfGl55y','37i9dQZF1DX4TiN7pMwV0Z','37i9dQZF1DXbWS0mKtnghU','37i9dQZF1DX2lUf1uE6Mre','37i9dQZF1DX2uJ1OVfn3CH']"
   ]
  },
  {
   "cell_type": "code",
   "execution_count": 8,
   "metadata": {
    "id": "LGxF8HV4jdPg"
   },
   "outputs": [],
   "source": [
    "# get all the artist names from the dr playlists\n",
    "\n",
    "dr_artists_name = []\n",
    "\n",
    "for id_ in dr_playlists:\n",
    "    try:\n",
    "        dr_artists_name.append(get_track_artists_name(sp.playlist_tracks(id_)))\n",
    "    except:\n",
    "        continue"
   ]
  },
  {
   "cell_type": "code",
   "execution_count": 9,
   "metadata": {
    "id": "3Z8ntIPujdPh"
   },
   "outputs": [],
   "source": [
    "# get all the artist ids from the dr playlists\n",
    "\n",
    "dr_artists_id = []\n",
    "\n",
    "for id_ in dr_playlists:\n",
    "    try:\n",
    "        dr_artists_id.append(get_track_artists_id(sp.playlist_tracks(id_)))\n",
    "    except:\n",
    "        continue"
   ]
  },
  {
   "cell_type": "code",
   "execution_count": 10,
   "metadata": {
    "id": "hrUVRKbOjdPq"
   },
   "outputs": [],
   "source": [
    "# here we have all the artist names from the dr playlists\n",
    "\n",
    "dr_artists_name_flat = [y for x in dr_artists_name for y in x]"
   ]
  },
  {
   "cell_type": "code",
   "execution_count": 11,
   "metadata": {
    "id": "lsr2CCRyjdPu"
   },
   "outputs": [],
   "source": [
    "# here we have all the artist id from the dr playlists\n",
    "\n",
    "dr_artists_id_flat = [y for x in dr_artists_id for y in x]"
   ]
  },
  {
   "cell_type": "code",
   "execution_count": 12,
   "metadata": {
    "id": "w3VFcXcVjdPv"
   },
   "outputs": [
    {
     "data": {
      "text/plain": [
       "(1199, 1199)"
      ]
     },
     "execution_count": 12,
     "metadata": {},
     "output_type": "execute_result"
    }
   ],
   "source": [
    "# checking how many artists I got\n",
    "\n",
    "len(dr_artists_id_flat), len(dr_artists_name_flat)\n",
    "\n",
    "# thats good, its more then I anticipated\n",
    "# however I can see that there are duplicates"
   ]
  },
  {
   "cell_type": "code",
   "execution_count": 13,
   "metadata": {
    "id": "gOrrjf_AjdPv"
   },
   "outputs": [
    {
     "data": {
      "text/plain": [
       "472"
      ]
     },
     "execution_count": 13,
     "metadata": {},
     "output_type": "execute_result"
    }
   ],
   "source": [
    "# removing the duplicates from my lists\n",
    "\n",
    "dr_artists_name_flat_ordered = set(dr_artists_name_flat)\n",
    "temp_list = []\n",
    "\n",
    "for i in dr_artists_name_flat_ordered:\n",
    "    if i not in temp_list:\n",
    "        temp_list.append(i)\n",
    "\n",
    "dr_artists_name_flat_ordered = temp_list\n",
    "\n",
    "len(dr_artists_name_flat_ordered)\n",
    "\n",
    "# well now its less after removing the duplicates"
   ]
  },
  {
   "cell_type": "code",
   "execution_count": 14,
   "metadata": {
    "id": "fyVCA5zkjdPw"
   },
   "outputs": [
    {
     "data": {
      "text/plain": [
       "472"
      ]
     },
     "execution_count": 14,
     "metadata": {},
     "output_type": "execute_result"
    }
   ],
   "source": [
    "# removing the duplicates from my lists\n",
    "\n",
    "dr_artists_id_flat_ordered = set(dr_artists_id_flat)\n",
    "temp_list = []\n",
    "\n",
    "for i in dr_artists_id_flat_ordered:\n",
    "    if i not in temp_list:\n",
    "        temp_list.append(i)\n",
    "\n",
    "dr_artists_id_flat_ordered = temp_list\n",
    "\n",
    "len(dr_artists_id_flat_ordered)"
   ]
  },
  {
   "cell_type": "code",
   "execution_count": 15,
   "metadata": {
    "id": "cep6aBpEjdP3"
   },
   "outputs": [],
   "source": [
    "# quickly saving artist name and id in a df\n",
    "\n",
    "dr_artist_name_id = dict(zip(dr_artists_id_flat,dr_artists_name_flat))"
   ]
  },
  {
   "cell_type": "code",
   "execution_count": null,
   "metadata": {
    "id": "Oyak_hIHjdP4",
    "scrolled": true
   },
   "outputs": [],
   "source": [
    "# turning dict into df\n",
    "\n",
    "import pandas as pd\n",
    "\n",
    "dr_artist_name_id_df = pd.DataFrame(list(dr_artist_name_id.items()),columns = ['artist_id','artist_name'])"
   ]
  },
  {
   "cell_type": "code",
   "execution_count": null,
   "metadata": {
    "id": "YMzL4VcUjdP6"
   },
   "outputs": [],
   "source": [
    "# saving the df as a csv\n",
    "\n",
    "dr_artist_name_id_df.to_csv('../data/dr_artist_name_id_df.csv')"
   ]
  },
  {
   "cell_type": "markdown",
   "metadata": {
    "id": "45KVnTz8jdP6"
   },
   "source": [
    "Now that I have my list of artists, I want to get:\n",
    "- the albums and their release dates\n",
    "- their top tracks"
   ]
  },
  {
   "cell_type": "markdown",
   "metadata": {
    "id": "Tr-vaqzgjdP6"
   },
   "source": [
    "# option 1 - album tracks"
   ]
  },
  {
   "cell_type": "code",
   "execution_count": 16,
   "metadata": {
    "id": "shWvngN6jdP8"
   },
   "outputs": [
    {
     "data": {
      "text/plain": [
       "7"
      ]
     },
     "execution_count": 16,
     "metadata": {},
     "output_type": "execute_result"
    }
   ],
   "source": [
    "# getting albums for 1 exmaple artist\n",
    "\n",
    "albums = sp.artist_albums('0JBdTCGs111JKKYfLqOEBa', album_type='album')\n",
    "len(albums)"
   ]
  },
  {
   "cell_type": "code",
   "execution_count": 17,
   "metadata": {
    "id": "1tVvjrWCjdP-"
   },
   "outputs": [
    {
     "data": {
      "text/plain": [
       "472"
      ]
     },
     "execution_count": 17,
     "metadata": {},
     "output_type": "execute_result"
    }
   ],
   "source": [
    "# looping through the artist ids to get the album infos\n",
    "\n",
    "album = []\n",
    "\n",
    "for i in dr_artists_id_flat_ordered:\n",
    "    album.append(sp.artist_albums(i, album_type='album'))\n",
    "\n",
    "len(album)"
   ]
  },
  {
   "cell_type": "code",
   "execution_count": null,
   "metadata": {
    "id": "dqObFwxIjdQQ"
   },
   "outputs": [],
   "source": [
    "# album name\n",
    "\n",
    "album[0]['items'][0]['name']"
   ]
  },
  {
   "cell_type": "code",
   "execution_count": null,
   "metadata": {
    "id": "SCFZAxrJjdQR"
   },
   "outputs": [],
   "source": [
    "# album id\n",
    "\n",
    "album[0]['items'][0]['id']"
   ]
  },
  {
   "cell_type": "code",
   "execution_count": null,
   "metadata": {
    "id": "5FVeGrsLjdQS"
   },
   "outputs": [],
   "source": [
    "# album release date\n",
    "\n",
    "album[0]['items'][0]['release_date']"
   ]
  },
  {
   "cell_type": "code",
   "execution_count": null,
   "metadata": {
    "id": "6gSRv2s5jdQU"
   },
   "outputs": [],
   "source": [
    "# album artist name\n",
    "\n",
    "album[0]['items'][0]['artists'][0]['name']"
   ]
  },
  {
   "cell_type": "code",
   "execution_count": 18,
   "metadata": {
    "id": "T_kSUkKQjdQe"
   },
   "outputs": [],
   "source": [
    "# loop for album names\n",
    "\n",
    "album_info = []\n",
    "\n",
    "for i in range(len(album)):\n",
    "    album_info.append(album[i]['items'])\n",
    "    \n",
    "    album_info_flat = [y for x in album_info for y in x]\n",
    "    album_info_flat\n",
    "    \n",
    "    album_name = []\n",
    "    for x in album_info_flat:\n",
    "        album_name.append(x['name'])"
   ]
  },
  {
   "cell_type": "code",
   "execution_count": 19,
   "metadata": {
    "id": "oHjWL6mQjdQj"
   },
   "outputs": [],
   "source": [
    "# loop for album ids\n",
    "\n",
    "album_info = []\n",
    "\n",
    "for i in range(len(album)):\n",
    "    album_info.append(album[i]['items'])\n",
    "    \n",
    "    album_info_flat = [y for x in album_info for y in x]\n",
    "    album_info_flat\n",
    "    \n",
    "    album_id = []\n",
    "    for x in album_info_flat:\n",
    "        album_id.append(x['id'])"
   ]
  },
  {
   "cell_type": "code",
   "execution_count": 20,
   "metadata": {
    "id": "0aXXM6aUjdQk"
   },
   "outputs": [],
   "source": [
    "# loop for album release dates\n",
    "\n",
    "album_info = []\n",
    "\n",
    "for i in range(len(album)):\n",
    "    album_info.append(album[i]['items'])\n",
    "    \n",
    "    album_info_flat = [y for x in album_info for y in x]\n",
    "    album_info_flat\n",
    "    \n",
    "    album_release_date = []\n",
    "    for x in album_info_flat:\n",
    "        album_release_date.append(x['release_date'])"
   ]
  },
  {
   "cell_type": "code",
   "execution_count": 21,
   "metadata": {
    "id": "j9wK51DUH7GB"
   },
   "outputs": [],
   "source": [
    "# loop for album artists\n",
    "\n",
    "album_info = []\n",
    "\n",
    "for i in range(len(album)):\n",
    "    album_info.append(album[i]['items'])\n",
    "    \n",
    "    album_info_flat = [y for x in album_info for y in x]\n",
    "    album_info_flat\n",
    "    \n",
    "    album_artist = []\n",
    "    for x in album_info_flat:\n",
    "        album_artist.append(x['artists'][0]['name'])"
   ]
  },
  {
   "cell_type": "code",
   "execution_count": 22,
   "metadata": {
    "id": "EWyKosUsjdQq"
   },
   "outputs": [
    {
     "data": {
      "text/plain": [
       "(1617, 1617, 1617, 1617)"
      ]
     },
     "execution_count": 22,
     "metadata": {},
     "output_type": "execute_result"
    }
   ],
   "source": [
    "# checking the length of all lists to see if I can merge them to 1 df\n",
    "\n",
    "len(album_artist),len(album_release_date),len(album_id),len(album_name)"
   ]
  },
  {
   "cell_type": "code",
   "execution_count": 54,
   "metadata": {
    "id": "x4O0573AH7GG"
   },
   "outputs": [],
   "source": [
    "# creating a df from album id, title and release date to add later to the audio feautres again\n",
    "import pandas as pd\n",
    "\n",
    "dr_albums_id_title_release_df = pd.DataFrame({'album_id' : album_id,\n",
    "                                'album_name' : album_name,\n",
    "                                'album_artist' : album_artist,\n",
    "                                'album_release_date' : album_release_date }, \n",
    "                                columns=['album_id','album_name','album_artist','album_release_date'])"
   ]
  },
  {
   "cell_type": "code",
   "execution_count": null,
   "metadata": {
    "id": "UjyK49JyH7GI"
   },
   "outputs": [],
   "source": [
    "# renaming the column name track_ids to id, so its matches the id from spotify\n",
    "\n",
    "dr_albums_id_title_release_df.columns = ['id','album_name','album_artist','album_release_date']"
   ]
  },
  {
   "cell_type": "code",
   "execution_count": null,
   "metadata": {
    "id": "9UztE1NtH7GJ"
   },
   "outputs": [],
   "source": [
    "# saving df as csv\n",
    "\n",
    "dr_albums_id_title_release_df.to_csv('../data/dr_albums_id_title_release.csv')"
   ]
  },
  {
   "cell_type": "markdown",
   "metadata": {},
   "source": [
    "### getting the tracks per example album"
   ]
  },
  {
   "cell_type": "code",
   "execution_count": null,
   "metadata": {
    "id": "UTeOloSvjdQx"
   },
   "outputs": [],
   "source": [
    "# using spotipy function album_tracks\n",
    "\n",
    "trackResults = sp.album_tracks('6WmVszxhoZlftm89rz5FFq')"
   ]
  },
  {
   "cell_type": "code",
   "execution_count": 23,
   "metadata": {
    "id": "GWR9ik-KjdQy"
   },
   "outputs": [],
   "source": [
    "# getting the tracks for all the albums\n",
    "\n",
    "tracks_all_albums = []\n",
    "\n",
    "for album in album_id:\n",
    "    tracks_all_albums.append(sp.album_tracks(album))"
   ]
  },
  {
   "cell_type": "code",
   "execution_count": 31,
   "metadata": {
    "id": "uHUNWdCTjdUO"
   },
   "outputs": [
    {
     "data": {
      "text/plain": [
       "'5mrNkGIEJ0pSdXIR0eMwZQ'"
      ]
     },
     "execution_count": 31,
     "metadata": {},
     "output_type": "execute_result"
    }
   ],
   "source": [
    "# track id\n",
    "\n",
    "tracks_all_albums[0]['items'][0]['id']"
   ]
  },
  {
   "cell_type": "code",
   "execution_count": 32,
   "metadata": {
    "id": "da0c8y-jjdUT"
   },
   "outputs": [
    {
     "data": {
      "text/plain": [
       "'Bandolero'"
      ]
     },
     "execution_count": 32,
     "metadata": {},
     "output_type": "execute_result"
    }
   ],
   "source": [
    "# track name\n",
    "\n",
    "tracks_all_albums[0]['items'][0]['name']"
   ]
  },
  {
   "cell_type": "code",
   "execution_count": 33,
   "metadata": {
    "id": "fxpVnCjxjdUV"
   },
   "outputs": [
    {
     "data": {
      "text/plain": [
       "True"
      ]
     },
     "execution_count": 33,
     "metadata": {},
     "output_type": "execute_result"
    }
   ],
   "source": [
    "# is track explicit?\n",
    "\n",
    "tracks_all_albums[0]['items'][0]['explicit']"
   ]
  },
  {
   "cell_type": "code",
   "execution_count": 34,
   "metadata": {
    "id": "ttLt2eW5jdUX"
   },
   "outputs": [
    {
     "data": {
      "text/plain": [
       "'Azero'"
      ]
     },
     "execution_count": 34,
     "metadata": {},
     "output_type": "execute_result"
    }
   ],
   "source": [
    "# track artist name\n",
    "\n",
    "tracks_all_albums[0]['items'][0]['artists'][0]['name']"
   ]
  },
  {
   "cell_type": "code",
   "execution_count": 35,
   "metadata": {
    "id": "hC0mLjurjdUY"
   },
   "outputs": [
    {
     "data": {
      "text/plain": [
       "'1ClEKlqNYU7inZeZECZil5'"
      ]
     },
     "execution_count": 35,
     "metadata": {},
     "output_type": "execute_result"
    }
   ],
   "source": [
    "# track artist id\n",
    "\n",
    "tracks_all_albums[0]['items'][0]['artists'][0]['id']"
   ]
  },
  {
   "cell_type": "code",
   "execution_count": 49,
   "metadata": {
    "id": "YOhH0U_VjdUL"
   },
   "outputs": [],
   "source": [
    "# putting it together in a loop to get info for all albums\n",
    "\n",
    "track_ids = []\n",
    "track_title = []\n",
    "track_explicit = []\n",
    "track_artist = []\n",
    "    \n",
    "for dic in range(len(tracks_all_albums)):\n",
    "    for track in tracks_all_albums[dic]['items']:\n",
    "        track_ids.append(track['id'])\n",
    "        track_title.append(track['name'])\n",
    "        track_explicit.append(track['explicit'])\n",
    "        track_artist.append(track['artists'][0]['name'])"
   ]
  },
  {
   "cell_type": "code",
   "execution_count": 51,
   "metadata": {},
   "outputs": [
    {
     "data": {
      "text/plain": [
       "(28077, 28077, 28077, 28077)"
      ]
     },
     "execution_count": 51,
     "metadata": {},
     "output_type": "execute_result"
    }
   ],
   "source": [
    "# checking the length of all lists to see if I can merge them to 1 df\n",
    "\n",
    "len(track_ids), len(track_title), len(track_explicit), len(track_artist)"
   ]
  },
  {
   "cell_type": "code",
   "execution_count": 55,
   "metadata": {},
   "outputs": [],
   "source": [
    "# creating a df from album id, title and release date to add later to the audio feautres again\n",
    "\n",
    "dr_tracks_id_title_expl_artist_album_df = pd.DataFrame({'track_ids' : track_ids,\n",
    "                                'track_title' : track_title,\n",
    "                                'track_explicit' : track_explicit,\n",
    "                                'track_artist' : track_artist}, \n",
    "                                columns=['track_ids','track_title','track_explicit','track_artist'])"
   ]
  },
  {
   "cell_type": "code",
   "execution_count": 60,
   "metadata": {},
   "outputs": [
    {
     "data": {
      "text/plain": [
       "28077"
      ]
     },
     "execution_count": 60,
     "metadata": {},
     "output_type": "execute_result"
    }
   ],
   "source": [
    "# checking if all values went in the df\n",
    "\n",
    "len(dr_tracks_id_title_expl_artist_album_df)"
   ]
  },
  {
   "cell_type": "code",
   "execution_count": 56,
   "metadata": {
    "id": "PbO2rMu0jdUa"
   },
   "outputs": [],
   "source": [
    "# renaming the column name track_ids to id, so its matches the id from spotify\n",
    "\n",
    "dr_tracks_id_title_expl_artist_album_df.columns = ['id','track_title','track_explicit','track_artist']"
   ]
  },
  {
   "cell_type": "code",
   "execution_count": 57,
   "metadata": {},
   "outputs": [],
   "source": [
    "# saving df as csv\n",
    "\n",
    "dr_tracks_id_title_expl_artist_album_df.to_csv('../data/dr_tracks_id_title_expl_artist_album.csv')"
   ]
  },
  {
   "cell_type": "markdown",
   "metadata": {
    "id": "BQDVH1LajdUe"
   },
   "source": [
    "# option 2 - top tracks"
   ]
  },
  {
   "cell_type": "code",
   "execution_count": null,
   "metadata": {
    "id": "ptR2NBDdjdUl"
   },
   "outputs": [],
   "source": [
    "# get the top tracks per artist\n",
    " \n",
    "test_top_tracks = sp.artist_top_tracks('1aS5tqEs9ci5P9KD9tZWa6', country='DE')"
   ]
  },
  {
   "cell_type": "code",
   "execution_count": null,
   "metadata": {
    "id": "4LMWaO8ojdUl"
   },
   "outputs": [],
   "source": [
    "# we get 10 tracks per artist\n",
    "\n",
    "len(test_top_tracks['tracks'])"
   ]
  },
  {
   "cell_type": "code",
   "execution_count": null,
   "metadata": {
    "id": "6lhszWXWjdUm"
   },
   "outputs": [],
   "source": [
    "test_top_tracks_all = []\n",
    "\n",
    "for artist in dr_artists_id_flat_ordered:\n",
    "    test_top_tracks_all.append(sp.artist_top_tracks('1aS5tqEs9ci5P9KD9tZWa6', country='DE'))"
   ]
  },
  {
   "cell_type": "code",
   "execution_count": null,
   "metadata": {
    "id": "T5nFm1TyjdUw"
   },
   "outputs": [],
   "source": [
    "# track name\n",
    "\n",
    "test_top_tracks['tracks'][0]['name']"
   ]
  },
  {
   "cell_type": "code",
   "execution_count": null,
   "metadata": {
    "id": "fkJfKjkhjdUx"
   },
   "outputs": [],
   "source": [
    "# is it explicit?\n",
    "\n",
    "test_top_tracks['tracks'][0]['explicit']"
   ]
  },
  {
   "cell_type": "code",
   "execution_count": null,
   "metadata": {
    "id": "Qn_twXdSjdUy"
   },
   "outputs": [],
   "source": [
    "# track id\n",
    "\n",
    "test_top_tracks['tracks'][0]['id']"
   ]
  },
  {
   "cell_type": "code",
   "execution_count": null,
   "metadata": {
    "id": "tozYKuewjdUy"
   },
   "outputs": [],
   "source": [
    "# first artist name\n",
    "\n",
    "test_top_tracks['tracks'][0]['artists'][0]['name']"
   ]
  },
  {
   "cell_type": "code",
   "execution_count": null,
   "metadata": {
    "id": "zW1WxBqMjdU0"
   },
   "outputs": [],
   "source": [
    "# first artist id\n",
    "\n",
    "test_top_tracks['tracks'][0]['artists'][0]['id']"
   ]
  },
  {
   "cell_type": "markdown",
   "metadata": {},
   "source": [
    "Due to restricted time I went with the tracks per album per artist rather then with the second option getting the top tracks per artist. This should be fine though, as per album we will have more tracks in general.\n",
    "<br/><br/>An issue would be, that there are many artists, that dont release tracks via an album, but as singels. These are unfotunatly not picked up in my data set at the moment.\n",
    "<br/><br/>Here we could improve when revisiting this project."
   ]
  }
 ],
 "metadata": {
  "colab": {
   "collapsed_sections": [],
   "name": "scraping_deutschrap_artists_V2.ipynb",
   "provenance": []
  },
  "finalized": {
   "timestamp": 1620922365075,
   "trusted": true
  },
  "kernelspec": {
   "display_name": "Python 3",
   "language": "python",
   "name": "python3"
  },
  "language_info": {
   "codemirror_mode": {
    "name": "ipython",
    "version": 3
   },
   "file_extension": ".py",
   "mimetype": "text/x-python",
   "name": "python",
   "nbconvert_exporter": "python",
   "pygments_lexer": "ipython3",
   "version": "3.8.5"
  }
 },
 "nbformat": 4,
 "nbformat_minor": 1
}
