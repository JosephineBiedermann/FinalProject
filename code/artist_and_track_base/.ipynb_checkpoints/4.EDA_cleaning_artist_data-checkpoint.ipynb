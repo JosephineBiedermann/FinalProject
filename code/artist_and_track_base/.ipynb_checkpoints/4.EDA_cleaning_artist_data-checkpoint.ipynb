{
 "cells": [
  {
   "cell_type": "markdown",
   "metadata": {},
   "source": [
    "# EDA/Data cleaning artist data\n",
    "\n",
    "After scraping the top100 charts, the top20 hip hop charts and the dr artists from spotify, I'm now going to clean both data sets up for further processing (getting the audio features)."
   ]
  },
  {
   "cell_type": "markdown",
   "metadata": {},
   "source": [
    "Next steps are:\n",
    "- EDA\n",
    "- data cleaning/wrangling\n",
    "    - add another feature called genre\n",
    "      -  take the artists from the top20 hip hip charts and assign the genre hip hop to them\n",
    "    - clean up the not needed index column\n",
    "    - extract the year, month in a separate column\n",
    "    - check outliers like all the christmas songs\n",
    "- getting audio features from tracks (top100 & top20 hip hop)"
   ]
  },
  {
   "cell_type": "code",
   "execution_count": 1,
   "metadata": {},
   "outputs": [],
   "source": [
    "# importing needed libraries\n",
    "\n",
    "import pandas as pd\n",
    "import numpy as np\n",
    "from bs4 import BeautifulSoup\n",
    "import requests"
   ]
  },
  {
   "cell_type": "code",
   "execution_count": null,
   "metadata": {},
   "outputs": [],
   "source": [
    "# importing dr artist data\n",
    "\n",
    "dr_artists = pd.read_csv('../data/dr_artist_name_id_df.csv')"
   ]
  },
  {
   "cell_type": "code",
   "execution_count": null,
   "metadata": {},
   "outputs": [],
   "source": [
    "# creating a list of all unique dr artist names\n",
    "\n",
    "dr_artists_lst = list(dr_artists['artist_name'].unique())"
   ]
  },
  {
   "cell_type": "code",
   "execution_count": null,
   "metadata": {},
   "outputs": [],
   "source": [
    "# importing top20 hip hop data\n",
    "\n",
    "top20_hiphop = pd.read_csv('../data/top20_hiphop_tracks_raw.csv')"
   ]
  },
  {
   "cell_type": "code",
   "execution_count": null,
   "metadata": {},
   "outputs": [],
   "source": [
    "# creating a list of all unique hiphop artist names\n",
    "\n",
    "top20_hiphop_artists_lst = list(top20_hiphop['artist'].unique())"
   ]
  },
  {
   "cell_type": "code",
   "execution_count": null,
   "metadata": {},
   "outputs": [],
   "source": [
    "# importing top100 2010-2021 data\n",
    "\n",
    "top100 = pd.read_csv('../data/top100_tracks_raw.csv')"
   ]
  },
  {
   "cell_type": "markdown",
   "metadata": {},
   "source": [
    "- data cleaning/wrangling\n",
    "    - add another feature called genre - **NEXT**\n",
    "    - clean up the not needed index column\n",
    "    - extract the year in a separate column\n",
    "    - check outliers like all the christmas songs"
   ]
  },
  {
   "cell_type": "code",
   "execution_count": null,
   "metadata": {},
   "outputs": [],
   "source": [
    "# creating new empty column in top100 called genre\n",
    "\n",
    "top100['genre'] = 0"
   ]
  },
  {
   "cell_type": "code",
   "execution_count": null,
   "metadata": {},
   "outputs": [],
   "source": [
    "# filling empty genre column in top100 with hiphop from artists in top20\n",
    "\n",
    "for artist in top20_hiphop_artists_lst:\n",
    "    for i in range(len(top100)):\n",
    "        if artist in top100.loc[i,'artist']:\n",
    "            top100.loc[i, 'genre'] = 'HipHop'"
   ]
  },
  {
   "cell_type": "code",
   "execution_count": null,
   "metadata": {},
   "outputs": [],
   "source": [
    "# filling empty genre column in top100 with dr artists from artists in dr\n",
    "\n",
    "for artist in dr_artists_lst:\n",
    "    for i in range(len(top100)):\n",
    "        if artist in top100.loc[i,'artist']:\n",
    "            top100.loc[i, 'genre'] = 'Deutschrap'"
   ]
  },
  {
   "cell_type": "code",
   "execution_count": null,
   "metadata": {},
   "outputs": [],
   "source": [
    "# did it work?\n",
    "\n",
    "top100['genre'].unique()"
   ]
  },
  {
   "cell_type": "code",
   "execution_count": null,
   "metadata": {},
   "outputs": [],
   "source": [
    "# saving df with new feature genre \n",
    "\n",
    "top100.to_csv('../data/top100_tracks_V1.csv')"
   ]
  },
  {
   "cell_type": "markdown",
   "metadata": {},
   "source": [
    "- data cleaning/wrangling\n",
    "    - add another feature called genre - **DONE**\n",
    "    - clean up the not needed index column - **NEXT**\n",
    "    - extract the year in a separate column\n",
    "    - check outliers like all the christmas songs"
   ]
  },
  {
   "cell_type": "code",
   "execution_count": null,
   "metadata": {},
   "outputs": [],
   "source": [
    "# checking the column names\n",
    "\n",
    "top100.columns"
   ]
  },
  {
   "cell_type": "code",
   "execution_count": null,
   "metadata": {},
   "outputs": [],
   "source": [
    "# dropping the not needed columns\n",
    "\n",
    "top100 = top100.drop(['Unnamed: 0','artistMatch?'], axis=1)"
   ]
  },
  {
   "cell_type": "markdown",
   "metadata": {},
   "source": [
    "- data cleaning/wrangling\n",
    "    - add another feature called genre - **DONE**\n",
    "    - clean up the not needed index column - **DONE** \n",
    "    - extract the year in a separate column - **NEXT**\n",
    "    - check outliers like all the christmas songs"
   ]
  },
  {
   "cell_type": "code",
   "execution_count": null,
   "metadata": {},
   "outputs": [],
   "source": [
    "# creating the new column year and extracting the year from the week start column\n",
    "\n",
    "top100['year'] = pd.DatetimeIndex(top100['week_start']).year"
   ]
  },
  {
   "cell_type": "code",
   "execution_count": null,
   "metadata": {},
   "outputs": [],
   "source": [
    "# lets do the same for month which we could use to detect the christmas outlier tracks in e.g. DEC\n",
    "\n",
    "top100['month'] = pd.DatetimeIndex(top100['week_start']).day\n",
    "\n",
    "# needed to use \"day\" here although I mean month, but the date is set up other way around"
   ]
  },
  {
   "cell_type": "code",
   "execution_count": null,
   "metadata": {},
   "outputs": [],
   "source": [
    "# saving df with new features month and year \n",
    "\n",
    "top100.to_csv('../data/top100_tracks_V2.csv')"
   ]
  },
  {
   "cell_type": "markdown",
   "metadata": {},
   "source": [
    "- data cleaning/wrangling\n",
    "    - add another feature called genre - **DONE**\n",
    "    - clean up the not needed index column - **DONE** \n",
    "    - extract the year in a separate column - **DONE** \n",
    "    - check outliers like all the christmas songs - **NEXT**"
   ]
  },
  {
   "cell_type": "code",
   "execution_count": 2,
   "metadata": {},
   "outputs": [],
   "source": [
    "# found this wikipedia webside with a long list of christmas songs\n",
    "\n",
    "url = 'https://en.wikipedia.org/wiki/List_of_popular_Christmas_singles_in_the_United_States'\n",
    "\n",
    "website_text = requests.get(url).text\n",
    "soup = BeautifulSoup(website_text,'xml')\n",
    "\n",
    "table = soup.find('table',{'class':'wikitable sortable'})\n",
    "table_rows = table.find_all('tr')\n",
    "\n",
    "data = []\n",
    "for row in table_rows:\n",
    "    data.append([t.text.strip() for t in row.find_all('td')])\n",
    "\n",
    "christmas_tracks = pd.DataFrame(data, columns=['title', 'artist', 'year', 'info'])"
   ]
  },
  {
   "cell_type": "markdown",
   "metadata": {},
   "source": [
    "needs to be cleaned a bit:\n",
    "- remove \"\"\n",
    "- make everything lower case\n",
    "- if None in info, remove row"
   ]
  },
  {
   "cell_type": "code",
   "execution_count": 3,
   "metadata": {},
   "outputs": [],
   "source": [
    "christmas_tracks['title'] = christmas_tracks['title'].str.replace('\"','')\n",
    "christmas_tracks['title'] = christmas_tracks['title'].str.replace(r\"\\(.*\\)\",\"\")\n",
    "christmas_tracks['title'] = christmas_tracks['title'].str.lower()\n",
    "christmas_tracks = christmas_tracks.dropna(subset=['info'])"
   ]
  },
  {
   "cell_type": "code",
   "execution_count": null,
   "metadata": {},
   "outputs": [],
   "source": [
    "christmas_lst = list(christmas_tracks['title'].unique())\n",
    "christmas_lst"
   ]
  },
  {
   "cell_type": "code",
   "execution_count": 5,
   "metadata": {},
   "outputs": [],
   "source": [
    "# saving df with new features month and year \n",
    "\n",
    "christmas_tracks.to_csv('../data/christmas_tracks.csv')"
   ]
  },
  {
   "cell_type": "code",
   "execution_count": null,
   "metadata": {},
   "outputs": [],
   "source": [
    "# might want to make everything lower case\n",
    "\n",
    "top100['title'] = top100['title'].str.lower()\n",
    "top100['artist'] = top100['artist'].str.lower()\n",
    "top100['genre'] = top100['genre'].str.lower()\n",
    "top100['label'] = top100['label'].str.lower()"
   ]
  },
  {
   "cell_type": "code",
   "execution_count": null,
   "metadata": {},
   "outputs": [],
   "source": [
    "# lets see how many christmas songs we have\n",
    "\n",
    "count = 0\n",
    "\n",
    "for item in christmas_lst:\n",
    "    for i in range(len(top100)):\n",
    "        if item in top100.loc[i,'title']:\n",
    "            count += 1\n",
    "print(count)"
   ]
  },
  {
   "cell_type": "code",
   "execution_count": null,
   "metadata": {},
   "outputs": [],
   "source": [
    "# creating new feature to mark the tracks which are christmas tracks\n",
    "\n",
    "for track in christmas_lst:\n",
    "    for i in range(len(top100)):\n",
    "        if track in top100.loc[i,'title']:\n",
    "            top100.loc[i, 'genre'] = 'christmas'\n",
    "            \n",
    "top100['genre'].value_counts()"
   ]
  },
  {
   "cell_type": "code",
   "execution_count": null,
   "metadata": {},
   "outputs": [],
   "source": [
    "# saving df with new features month and year \n",
    "\n",
    "top100.to_csv('../data/top100_tracks_V3.csv')"
   ]
  }
 ],
 "metadata": {
  "finalized": {
   "timestamp": 1621342650789,
   "trusted": true
  },
  "kernelspec": {
   "display_name": "Python 3",
   "language": "python",
   "name": "python3"
  },
  "language_info": {
   "codemirror_mode": {
    "name": "ipython",
    "version": 3
   },
   "file_extension": ".py",
   "mimetype": "text/x-python",
   "name": "python",
   "nbconvert_exporter": "python",
   "pygments_lexer": "ipython3",
   "version": "3.8.5"
  }
 },
 "nbformat": 4,
 "nbformat_minor": 4
}
