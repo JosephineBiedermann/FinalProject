{
 "cells": [
  {
   "cell_type": "markdown",
   "metadata": {
    "id": "Q1-TmM7SjdOr"
   },
   "source": [
    "# Getting data 2 - Deutschrap Artists & their top tracks"
   ]
  },
  {
   "cell_type": "markdown",
   "metadata": {
    "id": "MW9sh_EjjdO-"
   },
   "source": [
    "I need to get a representative list of Deutschrap (dr) artists. I would like to go for at least 1000 artists.\n",
    "\n",
    "I will get the artists from specific dr spotify playlists. These are the playlists which are representative dr playlists:\n",
    "\n",
    "**Deutschrap Brandneu**\n",
    "<br/>ID:37i9dQZF1DWSTqUqJcxFk6\n",
    "<br/>creator: spotify\n",
    "\n",
    "**Modus Mio**\n",
    "<br/>ID:37i9dQZF1DX36edUJpD76c\n",
    "<br/>creator: spotify\n",
    "\n",
    "**The Sound of German Undergroup Rap**\n",
    "<br/>ID:2IcKLRiUHpjhMMubZqderY\n",
    "<br/>creator: The Sound of Spotify\n",
    "\n",
    "**The Sound of German Hip Hop**\n",
    "<br/>ID:0N2gkh3nggtCtksCU2cSty\n",
    "<br/>creator: The Sound of Spotify\n",
    "\n",
    "**Deutschrap Queens**\n",
    "<br/>ID:2SWuJuqh4yl3tK2CcvdSm4\n",
    "<br/>creator: blaenksy\n",
    "\n",
    "**Deutschrap: Die Klassiker**\n",
    "<br/>ID:37i9dQZF1DWSzguhfGl55y\n",
    "<br/>creator: spotify\n",
    "\n",
    "**Deutschrap Royal**\n",
    "<br/>ID:37i9dQZF1DX4TiN7pMwV0Z\n",
    "<br/>creator: spotify\n",
    "\n",
    "**Deutschrap Asphalt**\n",
    "<br/>ID:37i9dQZF1DXbWS0mKtnghU\n",
    "<br/>creator: spotify\n",
    "\n",
    "**Shisha Club**\n",
    "<br/>ID:37i9dQZF1DX2lUf1uE6Mre\n",
    "<br/>creator: spotify\n",
    "\n",
    "**Deutschtrap**\n",
    "<br/>ID:37i9dQZF1DX2uJ1OVfn3CH\n",
    "<br/>creator: spotify"
   ]
  },
  {
   "cell_type": "markdown",
   "metadata": {
    "id": "fn-GrDU2jdPD"
   },
   "source": [
    "# REMOVE THE CELL BELOW BEFOR UPLOADING TO GITHUB"
   ]
  },
  {
   "cell_type": "markdown",
   "metadata": {
    "id": "hNk4LGMojdPE"
   },
   "source": [
    "Client ID 7b18135698b64fc1a318a0e688ec8eec\n",
    "\n",
    "Client Secret 12df486c28dd44f7a3dbb6435e67afeb"
   ]
  },
  {
   "cell_type": "code",
   "execution_count": null,
   "metadata": {
    "id": "CNQ0KW9mjdPF"
   },
   "outputs": [],
   "source": [
    "# importing getpass to use on spotify credentials\n",
    "\n",
    "import getpass\n",
    "client_id = getpass.getpass('client_id?')\n",
    "client_secret = getpass.getpass('client_secret?')"
   ]
  },
  {
   "cell_type": "code",
   "execution_count": null,
   "metadata": {
    "id": "HwPg5HU3jdPK"
   },
   "outputs": [],
   "source": [
    "# import spotify library\n",
    "\n",
    "import spotipy\n",
    "from spotipy.oauth2 import SpotifyClientCredentials"
   ]
  },
  {
   "cell_type": "code",
   "execution_count": null,
   "metadata": {
    "id": "p9J1Z7RTjdPL"
   },
   "outputs": [],
   "source": [
    "# create API connection in a variable\n",
    "\n",
    "sp = spotipy.Spotify(auth_manager=SpotifyClientCredentials(client_id=client_id ,\n",
    "                                                           client_secret=client_secret))"
   ]
  },
  {
   "cell_type": "markdown",
   "metadata": {
    "id": "I_xtcCTOjdPM"
   },
   "source": [
    "Again I am going to try to get the artists from 1 playlist to see how it works and then apply this to all the playlists from above."
   ]
  },
  {
   "cell_type": "code",
   "execution_count": null,
   "metadata": {
    "id": "tU7tSa9RjdPM"
   },
   "outputs": [],
   "source": [
    "# creating test variable with the playlist_track function on the first playlist\n",
    "\n",
    "test = sp.playlist_tracks('37i9dQZF1DWSTqUqJcxFk6')\n",
    "test"
   ]
  },
  {
   "cell_type": "code",
   "execution_count": null,
   "metadata": {
    "id": "l-FCTxA6jdPS"
   },
   "outputs": [],
   "source": [
    "# checking if I get the artist of the first track of the playlist\n",
    "\n",
    "test['items'][0]['track']['artists'][0]['name']"
   ]
  },
  {
   "cell_type": "code",
   "execution_count": null,
   "metadata": {
    "id": "YcfvkUjTjdPU"
   },
   "outputs": [],
   "source": [
    "# checking if I get the artist of the first track of the playlist\n",
    "\n",
    "test['items'][0]['track']['artists'][0]['id']"
   ]
  },
  {
   "cell_type": "markdown",
   "metadata": {
    "id": "RwcPkod4jdPW"
   },
   "source": [
    "Now that this is working, lets see to get all the artists of all songs of the playlist."
   ]
  },
  {
   "cell_type": "code",
   "execution_count": null,
   "metadata": {
    "id": "W6vXOBEKjdPW"
   },
   "outputs": [],
   "source": [
    "# building a function to get the artists name from the playlists\n",
    "\n",
    "def get_track_artists_name(playlist):\n",
    "    track_artists = []\n",
    "    track_artists_name = []\n",
    "    \n",
    "    for item in playlist['items']:\n",
    "        track_artists.append((item['track']['artists']))\n",
    "    \n",
    "    track_artists_flat = [y for x in track_artists for y in x]\n",
    "    track_artists_flat\n",
    "        \n",
    "    for i in track_artists_flat:\n",
    "        track_artists_name.append(i['name'])\n",
    "        \n",
    "    return track_artists_name"
   ]
  },
  {
   "cell_type": "code",
   "execution_count": null,
   "metadata": {
    "id": "w2lWeBtDjdPX"
   },
   "outputs": [],
   "source": [
    "# building a function to get the artists ids from the playlists\n",
    "\n",
    "def get_track_artists_id(playlist):\n",
    "    track_artists = []\n",
    "    track_artists_id = []\n",
    "    \n",
    "    for item in playlist['items']:\n",
    "        track_artists.append((item['track']['artists']))\n",
    "    \n",
    "    track_artists_flat = [y for x in track_artists for y in x]\n",
    "    track_artists_flat\n",
    "        \n",
    "    for i in track_artists_flat:\n",
    "        track_artists_id.append(i['id'])\n",
    "        \n",
    "    return track_artists_id"
   ]
  },
  {
   "cell_type": "code",
   "execution_count": null,
   "metadata": {
    "id": "2qm-VK0HjdPb"
   },
   "outputs": [],
   "source": [
    "# creating a list with all the playlist IDs\n",
    "\n",
    "dr_playlists = ['37i9dQZF1DWSTqUqJcxFk6','37i9dQZF1DX36edUJpD76c','2IcKLRiUHpjhMMubZqderY','0N2gkh3nggtCtksCU2cSty','2SWuJuqh4yl3tK2CcvdSm4','37i9dQZF1DWSzguhfGl55y','37i9dQZF1DX4TiN7pMwV0Z','37i9dQZF1DXbWS0mKtnghU','37i9dQZF1DX2lUf1uE6Mre','37i9dQZF1DX2uJ1OVfn3CH']"
   ]
  },
  {
   "cell_type": "code",
   "execution_count": null,
   "metadata": {
    "id": "LGxF8HV4jdPg"
   },
   "outputs": [],
   "source": [
    "# get all the artist names from the dr playlists\n",
    "\n",
    "dr_artists_name = []\n",
    "\n",
    "for id_ in dr_playlists:\n",
    "    try:\n",
    "        dr_artists_name.append(get_track_artists_name(sp.playlist_tracks(id_)))\n",
    "    except:\n",
    "        continue\n",
    "        \n",
    "dr_artists_name"
   ]
  },
  {
   "cell_type": "code",
   "execution_count": null,
   "metadata": {
    "id": "3Z8ntIPujdPh"
   },
   "outputs": [],
   "source": [
    "# get all the artist ids from the dr playlists\n",
    "\n",
    "dr_artists_id = []\n",
    "\n",
    "for id_ in dr_playlists:\n",
    "    try:\n",
    "        dr_artists_id.append(get_track_artists_id(sp.playlist_tracks(id_)))\n",
    "    except:\n",
    "        continue\n",
    "        \n",
    "dr_artists_id"
   ]
  },
  {
   "cell_type": "code",
   "execution_count": null,
   "metadata": {
    "id": "hrUVRKbOjdPq"
   },
   "outputs": [],
   "source": [
    "# here we have all the artist names from the dr playlists\n",
    "\n",
    "dr_artists_name_flat = [y for x in dr_artists_name for y in x]\n",
    "dr_artists_name_flat"
   ]
  },
  {
   "cell_type": "code",
   "execution_count": null,
   "metadata": {
    "id": "lsr2CCRyjdPu"
   },
   "outputs": [],
   "source": [
    "# here we have all the artist id from the dr playlists\n",
    "\n",
    "dr_artists_id_flat = [y for x in dr_artists_id for y in x]\n",
    "dr_artists_id_flat"
   ]
  },
  {
   "cell_type": "code",
   "execution_count": null,
   "metadata": {
    "id": "w3VFcXcVjdPv"
   },
   "outputs": [],
   "source": [
    "# checking how many artists I got\n",
    "\n",
    "len(dr_artists_id_flat), len(dr_artists_name_flat)\n",
    "\n",
    "# thats good, its more then I anticipated\n",
    "# however I can see that there are duplicates"
   ]
  },
  {
   "cell_type": "code",
   "execution_count": null,
   "metadata": {
    "id": "gOrrjf_AjdPv"
   },
   "outputs": [],
   "source": [
    "# removing the duplicates from my lists\n",
    "\n",
    "dr_artists_name_flat_ordered = set(dr_artists_name_flat)\n",
    "temp_list = []\n",
    "\n",
    "for i in dr_artists_name_flat_ordered:\n",
    "    if i not in temp_list:\n",
    "        temp_list.append(i)\n",
    "\n",
    "dr_artists_name_flat_ordered = temp_list\n",
    "\n",
    "len(dr_artists_name_flat_ordered)\n",
    "\n",
    "# well now its less after removing the duplicates"
   ]
  },
  {
   "cell_type": "code",
   "execution_count": null,
   "metadata": {
    "id": "fyVCA5zkjdPw"
   },
   "outputs": [],
   "source": [
    "# removing the duplicates from my lists\n",
    "\n",
    "dr_artists_id_flat_ordered = set(dr_artists_id_flat)\n",
    "temp_list = []\n",
    "\n",
    "for i in dr_artists_id_flat_ordered:\n",
    "    if i not in temp_list:\n",
    "        temp_list.append(i)\n",
    "\n",
    "dr_artists_id_flat_ordered = temp_list\n",
    "\n",
    "len(dr_artists_id_flat_ordered)"
   ]
  },
  {
   "cell_type": "code",
   "execution_count": null,
   "metadata": {
    "id": "cep6aBpEjdP3"
   },
   "outputs": [],
   "source": [
    "# quickly saving artist name and id in a df\n",
    "\n",
    "dr_artist_name_id = dict(zip(dr_artists_id_flat,dr_artists_name_flat))\n",
    "dr_artist_name_id"
   ]
  },
  {
   "cell_type": "code",
   "execution_count": null,
   "metadata": {
    "id": "Oyak_hIHjdP4",
    "scrolled": true
   },
   "outputs": [],
   "source": [
    "# turning dict into df\n",
    "\n",
    "import pandas as pd\n",
    "\n",
    "dr_artist_name_id_df = pd.DataFrame(list(dr_artist_name_id.items()),columns = ['artist_id','artist_name'])\n",
    "dr_artist_name_id_df.head()"
   ]
  },
  {
   "cell_type": "code",
   "execution_count": null,
   "metadata": {
    "id": "YMzL4VcUjdP6"
   },
   "outputs": [],
   "source": [
    "# saving the df as a csv\n",
    "\n",
    "dr_artist_name_id_df.to_csv('../data/dr_artist_name_id_df.csv')"
   ]
  },
  {
   "cell_type": "raw",
   "metadata": {
    "id": "45KVnTz8jdP6"
   },
   "source": [
    "Now that I have my list of artists, I want to get:\n",
    "- the albums and their release dates\n",
    "- their top tracks"
   ]
  },
  {
   "cell_type": "markdown",
   "metadata": {
    "id": "Tr-vaqzgjdP6"
   },
   "source": [
    "# option 1 - album tracks"
   ]
  },
  {
   "cell_type": "code",
   "execution_count": null,
   "metadata": {
    "id": "shWvngN6jdP8"
   },
   "outputs": [],
   "source": [
    "# create dict with key = album name, value = artist\n",
    "\n",
    "albums = sp.artist_albums('3tQzzidoPfVifoURnDfgmD', album_type='album')\n",
    "albums"
   ]
  },
  {
   "cell_type": "code",
   "execution_count": null,
   "metadata": {
    "id": "1tVvjrWCjdP-"
   },
   "outputs": [],
   "source": [
    "# looping through the artist ids to get the album infos\n",
    "\n",
    "album = []\n",
    "\n",
    "for i in dr_artists_id_flat_ordered:\n",
    "    album.append(sp.artist_albums(i, album_type='album'))\n",
    "\n",
    "len(album)"
   ]
  },
  {
   "cell_type": "code",
   "execution_count": null,
   "metadata": {
    "id": "AWuwdCtrjdP_"
   },
   "outputs": [],
   "source": [
    "album"
   ]
  },
  {
   "cell_type": "code",
   "execution_count": null,
   "metadata": {
    "id": "dqObFwxIjdQQ"
   },
   "outputs": [],
   "source": [
    "# album name\n",
    "\n",
    "album[0]['items'][0]['name']"
   ]
  },
  {
   "cell_type": "code",
   "execution_count": null,
   "metadata": {
    "id": "SCFZAxrJjdQR"
   },
   "outputs": [],
   "source": [
    "# album id\n",
    "\n",
    "album[0]['items'][0]['id']"
   ]
  },
  {
   "cell_type": "code",
   "execution_count": null,
   "metadata": {
    "id": "5FVeGrsLjdQS"
   },
   "outputs": [],
   "source": [
    "# album release date\n",
    "\n",
    "album[0]['items'][0]['release_date']"
   ]
  },
  {
   "cell_type": "code",
   "execution_count": null,
   "metadata": {
    "id": "6gSRv2s5jdQU"
   },
   "outputs": [],
   "source": [
    "# album artist name\n",
    "\n",
    "album[0]['items'][0]['artists'][0]['name']"
   ]
  },
  {
   "cell_type": "code",
   "execution_count": null,
   "metadata": {
    "id": "YbDWVUcAjdQc"
   },
   "outputs": [],
   "source": [
    "album[0]"
   ]
  },
  {
   "cell_type": "code",
   "execution_count": null,
   "metadata": {
    "id": "T_kSUkKQjdQe"
   },
   "outputs": [],
   "source": [
    "album_info = []\n",
    "\n",
    "for i in range(len(album)):\n",
    "    album_info.append(album[i]['items'])\n",
    "    \n",
    "    album_info_flat = [y for x in album_info for y in x]\n",
    "    album_info_flat\n",
    "    \n",
    "    album_name = []\n",
    "    for x in album_info_flat:\n",
    "        album_name.append(x['name'])\n",
    "    \n",
    "album_name"
   ]
  },
  {
   "cell_type": "code",
   "execution_count": null,
   "metadata": {
    "id": "oHjWL6mQjdQj"
   },
   "outputs": [],
   "source": [
    "album_info = []\n",
    "\n",
    "for i in range(len(album)):\n",
    "    album_info.append(album[i]['items'])\n",
    "    \n",
    "    album_info_flat = [y for x in album_info for y in x]\n",
    "    album_info_flat\n",
    "    \n",
    "    album_id = []\n",
    "    for x in album_info_flat:\n",
    "        album_id.append(x['id'])\n",
    "    \n",
    "album_id"
   ]
  },
  {
   "cell_type": "code",
   "execution_count": null,
   "metadata": {
    "id": "0aXXM6aUjdQk"
   },
   "outputs": [],
   "source": [
    "album_info = []\n",
    "\n",
    "for i in range(len(album)):\n",
    "    album_info.append(album[i]['items'])\n",
    "    \n",
    "    album_info_flat = [y for x in album_info for y in x]\n",
    "    album_info_flat\n",
    "    \n",
    "    album_release_date = []\n",
    "    for x in album_info_flat:\n",
    "        album_release_date.append(x['release_date'])\n",
    "    \n",
    "album_release_date"
   ]
  },
  {
   "cell_type": "code",
   "execution_count": null,
   "metadata": {
    "id": "Qr0tQhysjdQl"
   },
   "outputs": [],
   "source": [
    "album_info = []\n",
    "\n",
    "for i in range(len(album)):\n",
    "    album_info.append(album[i]['items'])\n",
    "    \n",
    "    album_info_flat = [y for x in album_info for y in x]\n",
    "    album_info_flat\n",
    "    \n",
    "    album_artist = []\n",
    "    for x in album_info_flat:\n",
    "        album_artist.append(x['artists'])\n",
    "        \n",
    "    album_artist_flat = [y for x in album_artist for y in x]\n",
    "    album_artist_flat\n",
    "        \n",
    "    album_artist_names = []\n",
    "    for artist in album_artist_flat:\n",
    "        album_artist_names.append(artist['name'])\n",
    "\n",
    "album_artist_names"
   ]
  },
  {
   "cell_type": "code",
   "execution_count": null,
   "metadata": {
    "id": "Xold6YQZjdQm"
   },
   "outputs": [],
   "source": [
    "album_info = []\n",
    "\n",
    "for i in range(len(album)):\n",
    "    album_info.append(album[i]['items'])\n",
    "    \n",
    "    album_info_flat = [y for x in album_info for y in x]\n",
    "    album_info_flat\n",
    "    \n",
    "    album_artist = []\n",
    "    for x in album_info_flat:\n",
    "        album_artist.append(x['artists'])\n",
    "        \n",
    "    album_artist_flat = [y for x in album_artist for y in x]\n",
    "\n",
    "album_artist_flat"
   ]
  },
  {
   "cell_type": "code",
   "execution_count": null,
   "metadata": {
    "id": "BzsyJ0l7jdQo"
   },
   "outputs": [],
   "source": [
    "album_info_flat[1]['artists'][0]"
   ]
  },
  {
   "cell_type": "code",
   "execution_count": null,
   "metadata": {
    "id": "EWyKosUsjdQq"
   },
   "outputs": [],
   "source": [
    "len(album_release_date), len(album_id), len(album_name), len(album_artist_names)"
   ]
  },
  {
   "cell_type": "code",
   "execution_count": null,
   "metadata": {
    "id": "2QqvidHHjdQt"
   },
   "outputs": [],
   "source": [
    "# create dict with key = album name, value = release date\n",
    "\n",
    "# quickly saving artist name and id in a df\n",
    "\n",
    "dr_albums_name_id = dict(zip(album_id,album_name))\n",
    "dr_albums_name_id"
   ]
  },
  {
   "cell_type": "code",
   "execution_count": null,
   "metadata": {
    "id": "JwiIcOUyjdQw"
   },
   "outputs": [],
   "source": [
    "# create dict with key = album name, value = release date\n",
    "\n",
    "# quickly saving artist name and id in a df\n",
    "\n",
    "dr_albums_name_released = dict(zip(album_id,album_release_date))\n",
    "dr_albums_name_released"
   ]
  },
  {
   "cell_type": "code",
   "execution_count": null,
   "metadata": {},
   "outputs": [],
   "source": [
    "# save as a df!"
   ]
  },
  {
   "cell_type": "code",
   "execution_count": null,
   "metadata": {
    "id": "UTeOloSvjdQx"
   },
   "outputs": [],
   "source": [
    "# getting the tracks per example album\n",
    "\n",
    "trackResults = sp.album_tracks('6WmVszxhoZlftm89rz5FFq')\n",
    "trackResults"
   ]
  },
  {
   "cell_type": "code",
   "execution_count": null,
   "metadata": {
    "id": "GWR9ik-KjdQy"
   },
   "outputs": [],
   "source": [
    "# getting the tracks for all the albums\n",
    "\n",
    "tracks_all_albums = []\n",
    "\n",
    "for album in album_id:\n",
    "    tracks_all_albums.append(sp.album_tracks(album))\n",
    "    \n",
    "tracks_all_albums"
   ]
  },
  {
   "cell_type": "code",
   "execution_count": null,
   "metadata": {
    "id": "YOhH0U_VjdUL"
   },
   "outputs": [],
   "source": [
    "track_ids = []\n",
    "track_name = []\n",
    "track_explicit = []\n",
    "    \n",
    "for track in range(len(tracks_all_albums)):\n",
    "    track_ids.append(tracks_all_albums['items'][track]['id'])\n",
    "    track_name(tracks_all_albums['items'][track]['name'])\n",
    "    track_explicit(tracks_all_albums['items'][track]['explicit'])"
   ]
  },
  {
   "cell_type": "code",
   "execution_count": null,
   "metadata": {
    "id": "w38O_NIvjdUM"
   },
   "outputs": [],
   "source": [
    "tracks_all_albums['items']"
   ]
  },
  {
   "cell_type": "code",
   "execution_count": null,
   "metadata": {
    "id": "vF5Zdh6wjdUN"
   },
   "outputs": [],
   "source": [
    "helps = tracks_all_albums['items']\n",
    "    \n",
    "    artists_names =[]\n",
    "    artists_ids = []\n",
    "                       \n",
    "    for x in helps:\n",
    "        for artist in x['artists']:\n",
    "            artists_names.append(x['name'])\n",
    "            artists_ids.append(x['id'])"
   ]
  },
  {
   "cell_type": "code",
   "execution_count": null,
   "metadata": {
    "id": "uHUNWdCTjdUO"
   },
   "outputs": [],
   "source": [
    "# track id\n",
    "\n",
    "trackResults['items'][0]['id']"
   ]
  },
  {
   "cell_type": "code",
   "execution_count": null,
   "metadata": {
    "id": "da0c8y-jjdUT"
   },
   "outputs": [],
   "source": [
    "# track name\n",
    "\n",
    "trackResults['items'][0]['name']"
   ]
  },
  {
   "cell_type": "code",
   "execution_count": null,
   "metadata": {
    "id": "fxpVnCjxjdUV"
   },
   "outputs": [],
   "source": [
    "# is track explicit?\n",
    "\n",
    "trackResults['items'][0]['explicit']"
   ]
  },
  {
   "cell_type": "code",
   "execution_count": null,
   "metadata": {
    "id": "ttLt2eW5jdUX"
   },
   "outputs": [],
   "source": [
    "trackResults['items'][0]['artists'][0]['name']"
   ]
  },
  {
   "cell_type": "code",
   "execution_count": null,
   "metadata": {
    "id": "hC0mLjurjdUY"
   },
   "outputs": [],
   "source": [
    "trackResults['items'][0]['artists'][0]['id']"
   ]
  },
  {
   "cell_type": "code",
   "execution_count": null,
   "metadata": {
    "id": "steLoW6fjdUZ"
   },
   "outputs": [],
   "source": [
    "trackResults = spotifyObject.album_tracks(albumID)\n",
    "trackResults = trackResults['items']\n",
    "            \n",
    "            ## Loop over tracks\n",
    "            for track in trackResults:\n",
    "                \n",
    "                artists_names =[]\n",
    "                artists_ids = []\n",
    "                \n",
    "                for artist in track['artists']:\n",
    "                    artists_names.append(artist['name'])\n",
    "                    artists_ids.append(artist['id'])"
   ]
  },
  {
   "cell_type": "code",
   "execution_count": null,
   "metadata": {
    "id": "PbO2rMu0jdUa"
   },
   "outputs": [],
   "source": [
    "\n"
   ]
  },
  {
   "cell_type": "code",
   "execution_count": null,
   "metadata": {
    "id": "fYKDBkZ7jdUa"
   },
   "outputs": [],
   "source": [
    "# get track release date\n",
    "\n",
    "track_info = sp.search(q = 'track'+ 'Vital Rush', type='track')\n",
    "track_info"
   ]
  },
  {
   "cell_type": "markdown",
   "metadata": {
    "id": "BQDVH1LajdUe"
   },
   "source": [
    "# option 2 - top tracks"
   ]
  },
  {
   "cell_type": "code",
   "execution_count": null,
   "metadata": {
    "id": "ptR2NBDdjdUl"
   },
   "outputs": [],
   "source": [
    "# get the top tracks per artist\n",
    " \n",
    "test_top_tracks = sp.artist_top_tracks('1aS5tqEs9ci5P9KD9tZWa6', country='DE')\n",
    "test_top_tracks"
   ]
  },
  {
   "cell_type": "code",
   "execution_count": null,
   "metadata": {
    "id": "4LMWaO8ojdUl"
   },
   "outputs": [],
   "source": [
    "# we get 10 tracks per artist\n",
    "\n",
    "len(test_top_tracks['tracks'])"
   ]
  },
  {
   "cell_type": "code",
   "execution_count": null,
   "metadata": {
    "id": "6lhszWXWjdUm"
   },
   "outputs": [],
   "source": [
    "test_top_tracks_all = []\n",
    "\n",
    "for artist in dr_artists_id_flat_ordered:\n",
    "    test_top_tracks_all.append(sp.artist_top_tracks('1aS5tqEs9ci5P9KD9tZWa6', country='DE'))\n",
    "\n",
    "test_top_tracks_all"
   ]
  },
  {
   "cell_type": "code",
   "execution_count": null,
   "metadata": {
    "id": "T5nFm1TyjdUw"
   },
   "outputs": [],
   "source": [
    "# track name\n",
    "\n",
    "test_top_tracks['tracks'][0]['name']"
   ]
  },
  {
   "cell_type": "code",
   "execution_count": null,
   "metadata": {
    "id": "fkJfKjkhjdUx"
   },
   "outputs": [],
   "source": [
    "# is it explicit?\n",
    "\n",
    "test_top_tracks['tracks'][0]['explicit']"
   ]
  },
  {
   "cell_type": "code",
   "execution_count": null,
   "metadata": {
    "id": "Qn_twXdSjdUy"
   },
   "outputs": [],
   "source": [
    "# track id\n",
    "\n",
    "test_top_tracks['tracks'][0]['id']"
   ]
  },
  {
   "cell_type": "code",
   "execution_count": null,
   "metadata": {
    "id": "tozYKuewjdUy"
   },
   "outputs": [],
   "source": [
    "# first artist name\n",
    "\n",
    "test_top_tracks['tracks'][0]['artists'][0]['name']"
   ]
  },
  {
   "cell_type": "code",
   "execution_count": null,
   "metadata": {
    "id": "zW1WxBqMjdU0"
   },
   "outputs": [],
   "source": [
    "# first artist id\n",
    "\n",
    "test_top_tracks['tracks'][0]['artists'][0]['id']"
   ]
  }
 ],
 "metadata": {
  "colab": {
   "collapsed_sections": [],
   "include_colab_link": true,
   "name": "scraping_deutschrap_artists.ipynb",
   "provenance": []
  },
  "finalized": {
   "timestamp": 1620922365075,
   "trusted": true
  },
  "kernelspec": {
   "display_name": "Python 3",
   "language": "python",
   "name": "python3"
  },
  "language_info": {
   "codemirror_mode": {
    "name": "ipython",
    "version": 3
   },
   "file_extension": ".py",
   "mimetype": "text/x-python",
   "name": "python",
   "nbconvert_exporter": "python",
   "pygments_lexer": "ipython3",
   "version": "3.8.5"
  }
 },
 "nbformat": 4,
 "nbformat_minor": 1
}
