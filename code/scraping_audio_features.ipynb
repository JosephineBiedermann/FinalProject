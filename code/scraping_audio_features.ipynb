{
 "cells": [
  {
   "cell_type": "markdown",
   "metadata": {},
   "source": [
    "# Getting data 3 - audio features of top100/top20 hip hip tracks & dr artist top tracks"
   ]
  },
  {
   "cell_type": "markdown",
   "metadata": {},
   "source": [
    "Now that I got the weekly top100 tracks for 2010-2021, I need to get the audio features of said tracks.\n",
    "\n",
    "I got a csv with the following data:\n",
    "- artist\n",
    "- track title\n",
    "- label\n",
    "- rank\n",
    "- week\n",
    "\n",
    "<br/>\n",
    "\n",
    "Next steps are:\n",
    "- EDA\n",
    "- data cleaning/wrangling\n",
    "    - clean up the not needed index column\n",
    "    - extract the year in a separate column\n",
    "    - check the individual artist values and decide on how to deal with features\n",
    "    - check outliers like all the christmas songs\n",
    "    - add another feature called genre\n",
    "      -  take the artists from the top20 hip hip charts and assign the genre hip hop to them\n",
    "- getting audio features from tracks (top100 & top20 hip hop)"
   ]
  },
  {
   "cell_type": "code",
   "execution_count": null,
   "metadata": {},
   "outputs": [],
   "source": []
  },
  {
   "cell_type": "code",
   "execution_count": null,
   "metadata": {},
   "outputs": [],
   "source": []
  },
  {
   "cell_type": "code",
   "execution_count": null,
   "metadata": {},
   "outputs": [],
   "source": []
  },
  {
   "cell_type": "code",
   "execution_count": null,
   "metadata": {},
   "outputs": [],
   "source": []
  },
  {
   "cell_type": "code",
   "execution_count": null,
   "metadata": {},
   "outputs": [],
   "source": []
  }
 ],
 "metadata": {
  "kernelspec": {
   "display_name": "Python 3",
   "language": "python",
   "name": "python3"
  },
  "language_info": {
   "codemirror_mode": {
    "name": "ipython",
    "version": 3
   },
   "file_extension": ".py",
   "mimetype": "text/x-python",
   "name": "python",
   "nbconvert_exporter": "python",
   "pygments_lexer": "ipython3",
   "version": "3.8.5"
  }
 },
 "nbformat": 4,
 "nbformat_minor": 4
}
