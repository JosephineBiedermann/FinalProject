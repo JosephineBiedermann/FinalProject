{
 "cells": [
  {
   "cell_type": "markdown",
   "metadata": {},
   "source": [
    "# Getting Song Lyrics\n",
    "\n",
    "from Genius\n",
    "\n",
    "for dr tracks in top100"
   ]
  },
  {
   "cell_type": "code",
   "execution_count": 2,
   "metadata": {},
   "outputs": [],
   "source": [
    "# import needed libraries\n",
    "\n",
    "import lyricsgenius\n",
    "import pandas as pd\n",
    "import numpy as np\n",
    "import getpass\n",
    "from tqdm import tqdm\n",
    "from bs4 import BeautifulSoup\n",
    "import requests"
   ]
  },
  {
   "cell_type": "code",
   "execution_count": 7,
   "metadata": {},
   "outputs": [],
   "source": [
    "# import data\n",
    "\n",
    "top100_dr_tracks = pd.read_csv('../data/top100/top100_tracks_V3.csv')"
   ]
  },
  {
   "cell_type": "code",
   "execution_count": 8,
   "metadata": {},
   "outputs": [
    {
     "data": {
      "text/html": [
       "<div>\n",
       "<style scoped>\n",
       "    .dataframe tbody tr th:only-of-type {\n",
       "        vertical-align: middle;\n",
       "    }\n",
       "\n",
       "    .dataframe tbody tr th {\n",
       "        vertical-align: top;\n",
       "    }\n",
       "\n",
       "    .dataframe thead th {\n",
       "        text-align: right;\n",
       "    }\n",
       "</style>\n",
       "<table border=\"1\" class=\"dataframe\">\n",
       "  <thead>\n",
       "    <tr style=\"text-align: right;\">\n",
       "      <th></th>\n",
       "      <th>Unnamed: 0</th>\n",
       "      <th>artist</th>\n",
       "      <th>title</th>\n",
       "      <th>label</th>\n",
       "      <th>rank</th>\n",
       "      <th>week_start</th>\n",
       "      <th>week_end</th>\n",
       "      <th>genre</th>\n",
       "      <th>year</th>\n",
       "      <th>month</th>\n",
       "    </tr>\n",
       "  </thead>\n",
       "  <tbody>\n",
       "    <tr>\n",
       "      <th>0</th>\n",
       "      <td>0</td>\n",
       "      <td>nathan evans</td>\n",
       "      <td>wellerman</td>\n",
       "      <td>polydor</td>\n",
       "      <td>1</td>\n",
       "      <td>07.05.2021</td>\n",
       "      <td>13.05.2021</td>\n",
       "      <td>NaN</td>\n",
       "      <td>2021</td>\n",
       "      <td>5</td>\n",
       "    </tr>\n",
       "    <tr>\n",
       "      <th>1</th>\n",
       "      <td>1</td>\n",
       "      <td>cro feat. capital bra</td>\n",
       "      <td>blessed</td>\n",
       "      <td>urban</td>\n",
       "      <td>2</td>\n",
       "      <td>07.05.2021</td>\n",
       "      <td>13.05.2021</td>\n",
       "      <td>deutschrap</td>\n",
       "      <td>2021</td>\n",
       "      <td>5</td>\n",
       "    </tr>\n",
       "    <tr>\n",
       "      <th>2</th>\n",
       "      <td>2</td>\n",
       "      <td>jamule</td>\n",
       "      <td>liege wieder wach</td>\n",
       "      <td>life is pain</td>\n",
       "      <td>3</td>\n",
       "      <td>07.05.2021</td>\n",
       "      <td>13.05.2021</td>\n",
       "      <td>deutschrap</td>\n",
       "      <td>2021</td>\n",
       "      <td>5</td>\n",
       "    </tr>\n",
       "    <tr>\n",
       "      <th>3</th>\n",
       "      <td>3</td>\n",
       "      <td>riton x nightcrawlers feat. mufasa &amp; hypeman</td>\n",
       "      <td>friday (dopamine re-edit)</td>\n",
       "      <td>columbia</td>\n",
       "      <td>4</td>\n",
       "      <td>07.05.2021</td>\n",
       "      <td>13.05.2021</td>\n",
       "      <td>NaN</td>\n",
       "      <td>2021</td>\n",
       "      <td>5</td>\n",
       "    </tr>\n",
       "    <tr>\n",
       "      <th>4</th>\n",
       "      <td>4</td>\n",
       "      <td>lil nas x</td>\n",
       "      <td>montero (call me by your name)</td>\n",
       "      <td>columbia</td>\n",
       "      <td>5</td>\n",
       "      <td>07.05.2021</td>\n",
       "      <td>13.05.2021</td>\n",
       "      <td>hiphop</td>\n",
       "      <td>2021</td>\n",
       "      <td>5</td>\n",
       "    </tr>\n",
       "  </tbody>\n",
       "</table>\n",
       "</div>"
      ],
      "text/plain": [
       "   Unnamed: 0                                        artist  \\\n",
       "0           0                                  nathan evans   \n",
       "1           1                         cro feat. capital bra   \n",
       "2           2                                        jamule   \n",
       "3           3  riton x nightcrawlers feat. mufasa & hypeman   \n",
       "4           4                                     lil nas x   \n",
       "\n",
       "                            title         label  rank  week_start    week_end  \\\n",
       "0                       wellerman       polydor     1  07.05.2021  13.05.2021   \n",
       "1                         blessed         urban     2  07.05.2021  13.05.2021   \n",
       "2               liege wieder wach  life is pain     3  07.05.2021  13.05.2021   \n",
       "3       friday (dopamine re-edit)      columbia     4  07.05.2021  13.05.2021   \n",
       "4  montero (call me by your name)      columbia     5  07.05.2021  13.05.2021   \n",
       "\n",
       "        genre  year  month  \n",
       "0         NaN  2021      5  \n",
       "1  deutschrap  2021      5  \n",
       "2  deutschrap  2021      5  \n",
       "3         NaN  2021      5  \n",
       "4      hiphop  2021      5  "
      ]
     },
     "execution_count": 8,
     "metadata": {},
     "output_type": "execute_result"
    }
   ],
   "source": [
    "top100_dr_tracks.head()"
   ]
  },
  {
   "cell_type": "code",
   "execution_count": 12,
   "metadata": {},
   "outputs": [],
   "source": [
    "# remove all rows where genre NaN, christmas\n",
    "\n",
    "top100_dr_tracks = topp100_dr_tracks.loc[topp100_dr_tracks['genre'] == 'deutschrap']\n",
    "len(top100_dr_tracks)"
   ]
  },
  {
   "cell_type": "code",
   "execution_count": 18,
   "metadata": {},
   "outputs": [
    {
     "name": "stderr",
     "output_type": "stream",
     "text": [
      "2021-05-18 08:31:42,570 [88225] WARNING  py.warnings:109: [JupyterRequire] <ipython-input-18-a77bc5ab395c>:3: SettingWithCopyWarning: \n",
      "A value is trying to be set on a copy of a slice from a DataFrame\n",
      "\n",
      "See the caveats in the documentation: https://pandas.pydata.org/pandas-docs/stable/user_guide/indexing.html#returning-a-view-versus-a-copy\n",
      "  top100_dr_tracks.sort_values(\"title\", inplace = True)\n",
      "\n",
      "2021-05-18 08:31:42,584 [88225] WARNING  py.warnings:109: [JupyterRequire] <ipython-input-18-a77bc5ab395c>:4: SettingWithCopyWarning: \n",
      "A value is trying to be set on a copy of a slice from a DataFrame\n",
      "\n",
      "See the caveats in the documentation: https://pandas.pydata.org/pandas-docs/stable/user_guide/indexing.html#returning-a-view-versus-a-copy\n",
      "  top100_dr_tracks.drop_duplicates(subset =\"title\",\n",
      "\n"
     ]
    }
   ],
   "source": [
    "# removing duplicates\n",
    "\n",
    "top100_dr_tracks.sort_values(\"title\", inplace = True)\n",
    "top100_dr_tracks.drop_duplicates(subset =\"title\",\n",
    "                     keep = False, inplace = True)\n",
    "\n",
    "len(top100_dr_tracks)"
   ]
  },
  {
   "cell_type": "code",
   "execution_count": 21,
   "metadata": {},
   "outputs": [],
   "source": [
    "# getting a list of clean artist and track titles\n",
    "\n",
    "artisttweaked = [a.split(\" feat. \")[0].split(\" x \")[0].replace(\" & \", \" \").replace(\" / \", \" \").replace(\"'\", \"\").replace(\" [de]\", \"\").replace(\".\", \" \").replace(\"?\", \"\").replace(\"¿\", \"\").replace(\" +\", \"\").replace(\" [Live]\", \"\") for a in top100_dr_tracks['artist']]\n",
    "titletweaked = [t.split(\" feat. \")[0].split(\" x \")[0].replace(\" & \", \" \").replace(\" / \", \" \").replace(\"'\", \" \").replace(\" [de]\", \"\").replace(\".\", \" \").replace(\"?\", \"\").replace(\"¿\", \"\").replace(\" +\", \"\").replace(\" [Live]\", \"\") for t in top100_dr_tracks['title']]\n",
    "\n",
    "searchterms = []\n",
    "for a, t in zip(artisttweaked, titletweaked):\n",
    "    s = a + \" \" + t\n",
    "    searchterms.append(s)\n",
    "    \n",
    "len(searchterms)"
   ]
  },
  {
   "cell_type": "code",
   "execution_count": 23,
   "metadata": {},
   "outputs": [
    {
     "name": "stdout",
     "output_type": "stream",
     "text": [
      "········\n"
     ]
    }
   ],
   "source": [
    "token = getpass.getpass()"
   ]
  },
  {
   "cell_type": "code",
   "execution_count": 24,
   "metadata": {},
   "outputs": [],
   "source": [
    "# accessing genius API\n",
    "\n",
    "client_access_token = token\n",
    "genius = lyricsgenius.Genius(client_access_token, remove_section_headers=True,\n",
    "                 skip_non_songs=True, excluded_terms=[\"Remix\", \"Live\", \"Edit\", \"Mix\", \"Club\"])"
   ]
  },
  {
   "cell_type": "code",
   "execution_count": 25,
   "metadata": {},
   "outputs": [
    {
     "name": "stderr",
     "output_type": "stream",
     "text": [
      "100%|██████████| 661/661 [35:02<00:00,  3.18s/it]\n"
     ]
    }
   ],
   "source": [
    "# getting lyrics per track\n",
    "\n",
    "lyrics_lst = []\n",
    "\n",
    "for searchy in tqdm(searchterms):\n",
    "    try:\n",
    "        songsind = genius.search_songs(searchy)\n",
    "        url = songsind['hits'][0]['result']['url']\n",
    "        page = requests.get(url)\n",
    "        html = BeautifulSoup(page.text, \"html.parser\") # Extract the page's HTML as a string\n",
    "\n",
    "        # Scrape the song lyrics from the HTML\n",
    "        lyrics = html.find(\"div\", class_=\"lyrics\").get_text()\n",
    "        lyrics_lst.append(lyrics)\n",
    "    except:\n",
    "        lyrics_lst.append(np.nan)"
   ]
  },
  {
   "cell_type": "code",
   "execution_count": 26,
   "metadata": {},
   "outputs": [
    {
     "data": {
      "text/plain": [
       "345"
      ]
     },
     "execution_count": 26,
     "metadata": {},
     "output_type": "execute_result"
    }
   ],
   "source": [
    "# checking for how many tracks I did not get lyrics\n",
    "\n",
    "lyrics_lst.count(np.nan)"
   ]
  },
  {
   "cell_type": "code",
   "execution_count": 48,
   "metadata": {},
   "outputs": [
    {
     "name": "stderr",
     "output_type": "stream",
     "text": [
      "2021-05-18 09:26:49,458 [88225] WARNING  py.warnings:109: [JupyterRequire] <ipython-input-48-d95b4fa4b34f>:1: SettingWithCopyWarning: \n",
      "A value is trying to be set on a copy of a slice from a DataFrame.\n",
      "Try using .loc[row_indexer,col_indexer] = value instead\n",
      "\n",
      "See the caveats in the documentation: https://pandas.pydata.org/pandas-docs/stable/user_guide/indexing.html#returning-a-view-versus-a-copy\n",
      "  top100_dr_tracks['lyrics'] = lyrics_lst\n",
      "\n"
     ]
    }
   ],
   "source": [
    "top100_dr_tracks['lyrics'] = lyrics_lst"
   ]
  },
  {
   "cell_type": "code",
   "execution_count": 49,
   "metadata": {},
   "outputs": [
    {
     "name": "stdout",
     "output_type": "stream",
     "text": [
      "<class 'pandas.core.frame.DataFrame'>\n",
      "Int64Index: 661 entries, 1778 to 17837\n",
      "Data columns (total 11 columns):\n",
      " #   Column      Non-Null Count  Dtype \n",
      "---  ------      --------------  ----- \n",
      " 0   Unnamed: 0  661 non-null    int64 \n",
      " 1   artist      661 non-null    object\n",
      " 2   title       661 non-null    object\n",
      " 3   label       659 non-null    object\n",
      " 4   rank        661 non-null    int64 \n",
      " 5   week_start  661 non-null    object\n",
      " 6   week_end    661 non-null    object\n",
      " 7   genre       661 non-null    object\n",
      " 8   year        661 non-null    int64 \n",
      " 9   month       661 non-null    int64 \n",
      " 10  lyrics      316 non-null    object\n",
      "dtypes: int64(4), object(7)\n",
      "memory usage: 62.0+ KB\n"
     ]
    }
   ],
   "source": [
    "# checking data\n",
    "\n",
    "top100_dr_tracks.info()"
   ]
  },
  {
   "cell_type": "code",
   "execution_count": 50,
   "metadata": {},
   "outputs": [
    {
     "data": {
      "text/html": [
       "<div>\n",
       "<style scoped>\n",
       "    .dataframe tbody tr th:only-of-type {\n",
       "        vertical-align: middle;\n",
       "    }\n",
       "\n",
       "    .dataframe tbody tr th {\n",
       "        vertical-align: top;\n",
       "    }\n",
       "\n",
       "    .dataframe thead th {\n",
       "        text-align: right;\n",
       "    }\n",
       "</style>\n",
       "<table border=\"1\" class=\"dataframe\">\n",
       "  <thead>\n",
       "    <tr style=\"text-align: right;\">\n",
       "      <th></th>\n",
       "      <th>Unnamed: 0</th>\n",
       "      <th>artist</th>\n",
       "      <th>title</th>\n",
       "      <th>label</th>\n",
       "      <th>rank</th>\n",
       "      <th>week_start</th>\n",
       "      <th>week_end</th>\n",
       "      <th>genre</th>\n",
       "      <th>year</th>\n",
       "      <th>month</th>\n",
       "      <th>lyrics</th>\n",
       "    </tr>\n",
       "  </thead>\n",
       "  <tbody>\n",
       "    <tr>\n",
       "      <th>1778</th>\n",
       "      <td>1778</td>\n",
       "      <td>kasimir1441 &amp; chapo102</td>\n",
       "      <td>1,50</td>\n",
       "      <td>1441</td>\n",
       "      <td>79</td>\n",
       "      <td>08.01.2021</td>\n",
       "      <td>14.01.2021</td>\n",
       "      <td>deutschrap</td>\n",
       "      <td>2021</td>\n",
       "      <td>1</td>\n",
       "      <td>\\n\\n[Songtext zu „1,50“]\\n\\n[Intro: KASIMIR144...</td>\n",
       "    </tr>\n",
       "    <tr>\n",
       "      <th>2337</th>\n",
       "      <td>2337</td>\n",
       "      <td>pa sports</td>\n",
       "      <td>100 bars final kill</td>\n",
       "      <td>life is pain</td>\n",
       "      <td>38</td>\n",
       "      <td>27.11.2020</td>\n",
       "      <td>03.12.2020</td>\n",
       "      <td>deutschrap</td>\n",
       "      <td>2020</td>\n",
       "      <td>27</td>\n",
       "      <td>\\n\\n[Songtext zu „100 Bars Final Kill“]\\n\\n[In...</td>\n",
       "    </tr>\n",
       "    <tr>\n",
       "      <th>11970</th>\n",
       "      <td>11970</td>\n",
       "      <td>gent feat. kurdo</td>\n",
       "      <td>100 k</td>\n",
       "      <td>alpha empire</td>\n",
       "      <td>71</td>\n",
       "      <td>25.01.2019</td>\n",
       "      <td>31.01.2019</td>\n",
       "      <td>deutschrap</td>\n",
       "      <td>2019</td>\n",
       "      <td>25</td>\n",
       "      <td>\\n\\n[Songtext zu „100 K“]\\n\\n[Intro]\\nAlpha Mu...</td>\n",
       "    </tr>\n",
       "    <tr>\n",
       "      <th>51659</th>\n",
       "      <td>51659</td>\n",
       "      <td>anna-maria zimmermann</td>\n",
       "      <td>100.000 leuchtende sterne</td>\n",
       "      <td>electrola</td>\n",
       "      <td>60</td>\n",
       "      <td>24.06.2011</td>\n",
       "      <td>30.06.2011</td>\n",
       "      <td>deutschrap</td>\n",
       "      <td>2011</td>\n",
       "      <td>24</td>\n",
       "      <td>\\n\\n[Songtext zu „100.000 leuchtende Sterne“]\\...</td>\n",
       "    </tr>\n",
       "    <tr>\n",
       "      <th>42649</th>\n",
       "      <td>42649</td>\n",
       "      <td>prinz pi feat. casper</td>\n",
       "      <td>100x</td>\n",
       "      <td>keine lieb</td>\n",
       "      <td>50</td>\n",
       "      <td>15.03.2013</td>\n",
       "      <td>21.03.2013</td>\n",
       "      <td>deutschrap</td>\n",
       "      <td>2013</td>\n",
       "      <td>15</td>\n",
       "      <td>NaN</td>\n",
       "    </tr>\n",
       "  </tbody>\n",
       "</table>\n",
       "</div>"
      ],
      "text/plain": [
       "       Unnamed: 0                  artist                      title  \\\n",
       "1778         1778  kasimir1441 & chapo102                       1,50   \n",
       "2337         2337               pa sports        100 bars final kill   \n",
       "11970       11970        gent feat. kurdo                      100 k   \n",
       "51659       51659   anna-maria zimmermann  100.000 leuchtende sterne   \n",
       "42649       42649   prinz pi feat. casper                       100x   \n",
       "\n",
       "              label  rank  week_start    week_end       genre  year  month  \\\n",
       "1778           1441    79  08.01.2021  14.01.2021  deutschrap  2021      1   \n",
       "2337   life is pain    38  27.11.2020  03.12.2020  deutschrap  2020     27   \n",
       "11970  alpha empire    71  25.01.2019  31.01.2019  deutschrap  2019     25   \n",
       "51659     electrola    60  24.06.2011  30.06.2011  deutschrap  2011     24   \n",
       "42649    keine lieb    50  15.03.2013  21.03.2013  deutschrap  2013     15   \n",
       "\n",
       "                                                  lyrics  \n",
       "1778   \\n\\n[Songtext zu „1,50“]\\n\\n[Intro: KASIMIR144...  \n",
       "2337   \\n\\n[Songtext zu „100 Bars Final Kill“]\\n\\n[In...  \n",
       "11970  \\n\\n[Songtext zu „100 K“]\\n\\n[Intro]\\nAlpha Mu...  \n",
       "51659  \\n\\n[Songtext zu „100.000 leuchtende Sterne“]\\...  \n",
       "42649                                                NaN  "
      ]
     },
     "execution_count": 50,
     "metadata": {},
     "output_type": "execute_result"
    }
   ],
   "source": [
    "top100_dr_tracks.head()"
   ]
  },
  {
   "cell_type": "code",
   "execution_count": 46,
   "metadata": {},
   "outputs": [
    {
     "data": {
      "text/plain": [
       "'kasimir1441 chapo102 1,50'"
      ]
     },
     "execution_count": 46,
     "metadata": {},
     "output_type": "execute_result"
    }
   ],
   "source": [
    "# sense check\n",
    "\n",
    "searchterms[0]"
   ]
  },
  {
   "cell_type": "code",
   "execution_count": 47,
   "metadata": {},
   "outputs": [
    {
     "data": {
      "text/plain": [
       "\"\\n\\n[Songtext zu „1,50“]\\n\\n[Intro: KASIMIR1441, Chapo102 & Luka]\\nEy, ja, das' ein Jaynbeat! Was ein Beat-Tag? Du Nutten\\nDas ProblemKindMukke, Digga\\nAlter, er hat mich von 'ner eins Meter fünfzig (Ey, ey) hohen Kante runter geschmissen (Ey)\\n\\n[Hook: KASIMIR1441]\\nEy, ja, 1,50, Digga, ich fall' da nicht runter (Ey, ja, nein)\\nWir sind nachts auf Henny und sie macht was mit dem Mund klar (Ah)\\nIch bin im Hotel und die Schlampe hat nix drunter (Rrah)\\nDie will alles haben, was sie nicht kriegt, sind die Klunker\\n1,50, Digga, ich fall' da nicht runter (Bah, bah, bah, bah, bah)\\nWir sind nachts auf Henny und sie macht was mit dem Mund klar (Ah)\\nIch bin im Hotel und die Schlampe hat nix drunter (Nein)\\nDie will alles haben, was sie nicht kriegt, sind die Klunker (Bah, bah, bah, bah, bah, bah)\\n\\n[Bridge: Luka]\\nUnd da hat er gelacht, als ich geheult hab', also erzähl mir nichts von Zahnschmerzen!\\n\\n[Part: Chapo102 & KASIMIR1441]\\nSchmier' mir Koka an die Zähne, doch ich habe keine Schmerzen (Rrah)\\nLasst ihn heulen, lasst ihn wimmern, das sind Brüder ohne Herzen (Bah, bah, bah, bah, bah)\\nLasst ihn fallen, lasst ihn brechen, lasst ihn ficken ohne Scherzen (Hah)\\nUnd ich gib ihm, gib ihm, gib ihm, Leder wie die Gerste (Gib ihm)\\nWir sind eins Meter, Mann, das sind fünfzig (Fünfzig)\\nDas sind fünfzig, Mann, was für vernünftig? (Baoh)\\nDas sind fünfzig Gramm an seiner Hüfte (Das sind fünfzig)\\nIch geb' ihr stündlich Schwanz in ihre Früchte (Baoh, baoh)\\n\\n[Bridge: Luka & KASIMIR1441]\\nAlter, er hat mich von 'ner eins Meter fünfzig (Ja, ja, ja, ja, ja) hohen Kante runter geschmissen\\n\\n[Hook: KASIMIR1441]\\nEy, ja, 1,50, Digga, ich fall' da nicht runter (Bah)\\nWir sind nachts auf Henny und sie macht was mit dem Mund klar\\nIch bin im Hotel und die Schlampe hat nix drunter\\nDie will alles haben, was sie nicht kriegt, sind die Klunker\\n1,50, Digga, ich fall' da nicht runter (Rr-Rrah)\\nWir sind nachts auf Henny und sie macht was mit dem Mund klar (Ja)\\nIch bin im Hotel und die Schlampe hat nix drunter (Ja, Mann, brra)\\nDie will alles haben, was sie nicht kriegt, sind die Klunker (Baoh, ey, ja)\\n\\n[Outro: KASIMIR1441, Chapo102 & Luka]\\nEy, Lüge! Du hast mich nie geschubst\\nIch hab' dich die ganze Zeit angelogen\\nDigga, ich schwöre, Digga\\nJa, du brauchst gar nichts erzählen\\nDu bist von eins Meter fünfzig Kante runter\\nAls du Zahnschmerzen hattest, hab' ich gelacht, ich hab' gelacht\\nIch schwöre, Dicka, ich bin gar nicht runter geflogen\\nEy, du hast mich nie geschubst\\nHalt die Fresse, Dicka! Halt die Fresse\\nEy, ey, du hast mich nie geschubst\\nEy, ich hab' dich geschubst\\nEy, ahh!\\nProblemKindMukke, Digga\\nUnd da hat er gelacht, als ich geheult hab'\\nHahahaha\\n(Jaynbeats)\\n\\n\""
      ]
     },
     "execution_count": 47,
     "metadata": {},
     "output_type": "execute_result"
    }
   ],
   "source": [
    "# sense check\n",
    "\n",
    "lyrics_lst[0]"
   ]
  },
  {
   "cell_type": "code",
   "execution_count": 51,
   "metadata": {},
   "outputs": [],
   "source": [
    "# save data\n",
    "\n",
    "top100_dr_tracks.to_csv('../data/lyrics/lyrics_top100_dr_tracks.csv')"
   ]
  },
  {
   "cell_type": "code",
   "execution_count": null,
   "metadata": {},
   "outputs": [],
   "source": []
  },
  {
   "cell_type": "code",
   "execution_count": null,
   "metadata": {},
   "outputs": [],
   "source": []
  }
 ],
 "metadata": {
  "finalized": {
   "timestamp": 1621342644866,
   "trusted": true
  },
  "kernelspec": {
   "display_name": "Python 3",
   "language": "python",
   "name": "python3"
  },
  "language_info": {
   "codemirror_mode": {
    "name": "ipython",
    "version": 3
   },
   "file_extension": ".py",
   "mimetype": "text/x-python",
   "name": "python",
   "nbconvert_exporter": "python",
   "pygments_lexer": "ipython3",
   "version": "3.8.5"
  }
 },
 "nbformat": 4,
 "nbformat_minor": 4
}
