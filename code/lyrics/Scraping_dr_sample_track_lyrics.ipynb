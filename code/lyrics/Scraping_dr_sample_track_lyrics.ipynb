{
 "cells": [
  {
   "cell_type": "markdown",
   "metadata": {},
   "source": [
    "# Getting Song Lyrics\n",
    "\n",
    "from Genius\n",
    "\n",
    "for dr sample tracks from Spotify playlists"
   ]
  },
  {
   "cell_type": "code",
   "execution_count": null,
   "metadata": {},
   "outputs": [],
   "source": [
    "# client id oaVTKqlIXns6qFZo-KMDJ98kWME1tigxZKO4fp4jevr2poAMQixUGLwi56RfZxYU\n",
    "# client secret xkxYifkJ6oaQ2zGIl4-22lNQ4XZ3JE3wYiiE4iY7nAoUpfvPJM_GIXr1urd3Bd9bb56GBKyLpzKYYPZmozJGfg\n",
    "# access token 3kl3bgPgBFar-5_Awek8AJiIM4f3SJrbTsFn2kP02iLY_xYujpEd8BobJ-Npi_1x"
   ]
  },
  {
   "cell_type": "code",
   "execution_count": 1,
   "metadata": {},
   "outputs": [],
   "source": [
    "# import needed libraries\n",
    "\n",
    "import lyricsgenius\n",
    "import pandas as pd\n",
    "import numpy as np\n",
    "import getpass\n",
    "from tqdm import tqdm\n",
    "from bs4 import BeautifulSoup\n",
    "import requests"
   ]
  },
  {
   "cell_type": "code",
   "execution_count": 2,
   "metadata": {},
   "outputs": [],
   "source": [
    "# import data\n",
    "\n",
    "dr_tracks = pd.read_csv('../data/dr_sample/dr_tracks_id_title_expl_artist_album.csv')"
   ]
  },
  {
   "cell_type": "code",
   "execution_count": null,
   "metadata": {},
   "outputs": [],
   "source": [
    "dr_tracks.head()"
   ]
  },
  {
   "cell_type": "code",
   "execution_count": 3,
   "metadata": {},
   "outputs": [],
   "source": [
    "# getting a list of clean artist and track titles\n",
    "\n",
    "artisttweaked = [a.split(\" feat. \")[0].split(\" x \")[0].replace(\" & \", \" \").replace(\" / \", \" \").replace(\"'\", \"\").replace(\" [DE]\", \"\").replace(\".\", \" \").replace(\"?\", \"\").replace(\"¿\", \"\").replace(\" +\", \"\").replace(\" [UK]\", \"\").replace(\" [2019]\", \"\").replace(\" [Live]\", \"\") for a in dr_tracks['track_artist']]\n",
    "titletweaked = [t.split(\" feat. \")[0].split(\" x \")[0].replace(\" & \", \" \").replace(\" / \", \" \").replace(\"'\", \" \").replace(\" [DE]\", \"\").replace(\".\", \" \").replace(\"?\", \"\").replace(\"¿\", \"\").replace(\" +\", \"\").replace(\" [UK]\", \"\").replace(\" [2019]\", \"\").replace(\" [Live]\", \"\") for t in dr_tracks['track_title']]\n",
    "\n",
    "searchterms = []\n",
    "for a, t in zip(artisttweaked, titletweaked):\n",
    "    s = a + \" \" + t\n",
    "    searchterms.append(s)"
   ]
  },
  {
   "cell_type": "code",
   "execution_count": null,
   "metadata": {},
   "outputs": [],
   "source": [
    "searchterms"
   ]
  },
  {
   "cell_type": "code",
   "execution_count": 4,
   "metadata": {},
   "outputs": [
    {
     "name": "stdout",
     "output_type": "stream",
     "text": [
      "········\n"
     ]
    }
   ],
   "source": [
    "token = getpass.getpass()"
   ]
  },
  {
   "cell_type": "code",
   "execution_count": 5,
   "metadata": {},
   "outputs": [],
   "source": [
    "# accessing genius API\n",
    "\n",
    "client_access_token = token\n",
    "genius = lyricsgenius.Genius(client_access_token, remove_section_headers=True,\n",
    "                 skip_non_songs=True, excluded_terms=[\"Remix\", \"Live\", \"Edit\", \"Mix\", \"Club\"])"
   ]
  },
  {
   "cell_type": "code",
   "execution_count": null,
   "metadata": {},
   "outputs": [],
   "source": [
    "# getting lyrics for sample tracks\n",
    "\n",
    "lyrics_lst = []\n",
    "\n",
    "test = ['Die Fantastischen Vier Single','Cro GOOD VIBES', 'Kontra K Lass mich los']\n",
    "\n",
    "for searchy in tqdm(test):\n",
    "    try:\n",
    "        songsind = genius.search_songs(searchy)\n",
    "        url = url = songsind['hits'][0]['result']['url']\n",
    "        page = requests.get(url)\n",
    "        html = BeautifulSoup(page.text, \"html.parser\") # Extract the page's HTML as a string\n",
    "\n",
    "        # Scrape the song lyrics from the HTML\n",
    "        lyrics = html.find(\"div\", class_=\"lyrics\").get_text()\n",
    "        lyrics_lst.append(lyrics)\n",
    "    except:\n",
    "        lyrics_lst.append(np.nan)\n",
    "        \n",
    "len(lyrics_lst)"
   ]
  },
  {
   "cell_type": "code",
   "execution_count": null,
   "metadata": {},
   "outputs": [
    {
     "name": "stderr",
     "output_type": "stream",
     "text": [
      " 52%|█████▏    | 14548/28077 [10:09:50<10:43:33,  2.85s/it]"
     ]
    }
   ],
   "source": [
    "# getting lyrics per track\n",
    "\n",
    "lyrics_lst = []\n",
    "\n",
    "for searchy in tqdm(searchterms):\n",
    "    try:\n",
    "        songsind = genius.search_songs(searchy)\n",
    "        url = songsind['hits'][0]['result']['url']\n",
    "        page = requests.get(url)\n",
    "        html = BeautifulSoup(page.text, \"html.parser\") # Extract the page's HTML as a string\n",
    "\n",
    "        # Scrape the song lyrics from the HTML\n",
    "        lyrics = html.find(\"div\", class_=\"lyrics\").get_text()\n",
    "        lyrics_lst.append(lyrics)\n",
    "    except:\n",
    "        lyrics_lst.append(np.nan)"
   ]
  },
  {
   "cell_type": "code",
   "execution_count": null,
   "metadata": {},
   "outputs": [],
   "source": [
    "len(lyrics_lst)"
   ]
  },
  {
   "cell_type": "code",
   "execution_count": null,
   "metadata": {},
   "outputs": [],
   "source": [
    "# checking for how many tracks I did not get lyrics\n",
    "\n",
    "lyrics_lst.count(np.nan)"
   ]
  },
  {
   "cell_type": "code",
   "execution_count": null,
   "metadata": {},
   "outputs": [],
   "source": [
    "# assigning lyrics to tracks in df\n",
    "\n",
    "dr_tracks['lyrics'] = lyrics"
   ]
  },
  {
   "cell_type": "code",
   "execution_count": null,
   "metadata": {},
   "outputs": [],
   "source": [
    "# checking data\n",
    "\n",
    "dr_tracks.info()"
   ]
  },
  {
   "cell_type": "code",
   "execution_count": null,
   "metadata": {},
   "outputs": [],
   "source": []
  }
 ],
 "metadata": {
  "kernelspec": {
   "display_name": "Python 3",
   "language": "python",
   "name": "python3"
  },
  "language_info": {
   "codemirror_mode": {
    "name": "ipython",
    "version": 3
   },
   "file_extension": ".py",
   "mimetype": "text/x-python",
   "name": "python",
   "nbconvert_exporter": "python",
   "pygments_lexer": "ipython3",
   "version": "3.8.5"
  }
 },
 "nbformat": 4,
 "nbformat_minor": 4
}
