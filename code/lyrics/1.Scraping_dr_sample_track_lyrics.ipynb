{
 "cells": [
  {
   "cell_type": "markdown",
   "metadata": {},
   "source": [
    "# Getting lyrics from dr sample tracks\n",
    "\n",
    "I will be using the Genius API in order to get the lyrics of the dr sample tracks which I scraped from the Spotify playlists.\n",
    "<br/>With the lyrics I want to apply NLP and analyse what kind of words are used in dr tracks over time and their frequency."
   ]
  },
  {
   "cell_type": "code",
   "execution_count": 1,
   "metadata": {},
   "outputs": [],
   "source": [
    "# import needed libraries\n",
    "\n",
    "import lyricsgenius\n",
    "import pandas as pd\n",
    "import numpy as np\n",
    "import getpass\n",
    "from tqdm import tqdm\n",
    "from bs4 import BeautifulSoup\n",
    "import requests"
   ]
  },
  {
   "cell_type": "code",
   "execution_count": 2,
   "metadata": {},
   "outputs": [],
   "source": [
    "# import data\n",
    "\n",
    "dr_tracks = pd.read_csv('../data/dr_sample/dr_tracks_id_title_expl_artist_album.csv')"
   ]
  },
  {
   "cell_type": "code",
   "execution_count": null,
   "metadata": {},
   "outputs": [],
   "source": [
    "dr_tracks.head()"
   ]
  },
  {
   "cell_type": "code",
   "execution_count": 3,
   "metadata": {},
   "outputs": [],
   "source": [
    "# getting a list of clean artist and track titles\n",
    "\n",
    "artisttweaked = [a.split(\" feat. \")[0].split(\" x \")[0].replace(\" & \", \" \").replace(\" / \", \" \").replace(\"'\", \"\").replace(\" [DE]\", \"\").replace(\".\", \" \").replace(\"?\", \"\").replace(\"¿\", \"\").replace(\" +\", \"\").replace(\" [UK]\", \"\").replace(\" [2019]\", \"\").replace(\" [Live]\", \"\") for a in dr_tracks['track_artist']]\n",
    "titletweaked = [t.split(\" feat. \")[0].split(\" x \")[0].replace(\" & \", \" \").replace(\" / \", \" \").replace(\"'\", \" \").replace(\" [DE]\", \"\").replace(\".\", \" \").replace(\"?\", \"\").replace(\"¿\", \"\").replace(\" +\", \"\").replace(\" [UK]\", \"\").replace(\" [2019]\", \"\").replace(\" [Live]\", \"\") for t in dr_tracks['track_title']]\n",
    "\n",
    "searchterms = []\n",
    "for a, t in zip(artisttweaked, titletweaked):\n",
    "    s = a + \" \" + t\n",
    "    searchterms.append(s)"
   ]
  },
  {
   "cell_type": "code",
   "execution_count": 4,
   "metadata": {},
   "outputs": [
    {
     "name": "stdout",
     "output_type": "stream",
     "text": [
      "········\n"
     ]
    }
   ],
   "source": [
    "# setting password\n",
    "\n",
    "token = getpass.getpass()"
   ]
  },
  {
   "cell_type": "code",
   "execution_count": 5,
   "metadata": {},
   "outputs": [],
   "source": [
    "# accessing genius API\n",
    "\n",
    "client_access_token = token\n",
    "genius = lyricsgenius.Genius(client_access_token, remove_section_headers=True,\n",
    "                 skip_non_songs=True, excluded_terms=[\"Remix\", \"Live\", \"Edit\", \"Mix\", \"Club\"])"
   ]
  },
  {
   "cell_type": "code",
   "execution_count": null,
   "metadata": {},
   "outputs": [],
   "source": [
    "# getting lyrics for sample tracks\n",
    "\n",
    "lyrics_lst = []\n",
    "\n",
    "test = ['Die Fantastischen Vier Single','Cro GOOD VIBES', 'Kontra K Lass mich los']\n",
    "\n",
    "for searchy in tqdm(test):\n",
    "    try:\n",
    "        songsind = genius.search_songs(searchy)\n",
    "        url = url = songsind['hits'][0]['result']['url']\n",
    "        page = requests.get(url)\n",
    "        html = BeautifulSoup(page.text, \"html.parser\") # Extract the page's HTML as a string\n",
    "\n",
    "        # Scrape the song lyrics from the HTML\n",
    "        lyrics = html.find(\"div\", class_=\"lyrics\").get_text()\n",
    "        lyrics_lst.append(lyrics)\n",
    "    except:\n",
    "        lyrics_lst.append(np.nan)\n",
    "        \n",
    "len(lyrics_lst)"
   ]
  },
  {
   "cell_type": "code",
   "execution_count": null,
   "metadata": {},
   "outputs": [
    {
     "name": "stderr",
     "output_type": "stream",
     "text": [
      " 52%|█████▏    | 14548/28077 [10:09:50<10:43:33,  2.85s/it]"
     ]
    }
   ],
   "source": [
    "# getting lyrics per track\n",
    "\n",
    "lyrics_lst = []\n",
    "\n",
    "for searchy in tqdm(searchterms):\n",
    "    try:\n",
    "        songsind = genius.search_songs(searchy)\n",
    "        url = songsind['hits'][0]['result']['url']\n",
    "        page = requests.get(url)\n",
    "        html = BeautifulSoup(page.text, \"html.parser\") # Extract the page's HTML as a string\n",
    "\n",
    "        # Scrape the song lyrics from the HTML\n",
    "        lyrics = html.find(\"div\", class_=\"lyrics\").get_text()\n",
    "        lyrics_lst.append(lyrics)\n",
    "    except:\n",
    "        lyrics_lst.append(np.nan)"
   ]
  },
  {
   "cell_type": "markdown",
   "metadata": {},
   "source": [
    "### Unfortunatly there were too many tracks in the df for the code to finish. I tried several times over hours, also with Google Collab, but it never run through.\n",
    "I could reduce the number of tracks to check. This would be an option when revisiting this project, to improve. \n",
    "As if now I scraped the lyrics of all dr tracks from the German top 100 charts."
   ]
  },
  {
   "cell_type": "code",
   "execution_count": null,
   "metadata": {},
   "outputs": [],
   "source": [
    "len(lyrics_lst)"
   ]
  },
  {
   "cell_type": "code",
   "execution_count": null,
   "metadata": {},
   "outputs": [],
   "source": [
    "# checking for how many tracks I did not get lyrics\n",
    "\n",
    "lyrics_lst.count(np.nan)"
   ]
  },
  {
   "cell_type": "code",
   "execution_count": null,
   "metadata": {},
   "outputs": [],
   "source": [
    "# assigning lyrics to tracks in df\n",
    "\n",
    "dr_tracks['lyrics'] = lyrics"
   ]
  },
  {
   "cell_type": "code",
   "execution_count": null,
   "metadata": {},
   "outputs": [],
   "source": [
    "# checking data\n",
    "\n",
    "dr_tracks.info()"
   ]
  }
 ],
 "metadata": {
  "kernelspec": {
   "display_name": "Python 3",
   "language": "python",
   "name": "python3"
  },
  "language_info": {
   "codemirror_mode": {
    "name": "ipython",
    "version": 3
   },
   "file_extension": ".py",
   "mimetype": "text/x-python",
   "name": "python",
   "nbconvert_exporter": "python",
   "pygments_lexer": "ipython3",
   "version": "3.8.5"
  }
 },
 "nbformat": 4,
 "nbformat_minor": 4
}
