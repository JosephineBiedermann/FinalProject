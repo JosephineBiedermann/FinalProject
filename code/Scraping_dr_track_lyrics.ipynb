{
 "cells": [
  {
   "cell_type": "markdown",
   "metadata": {},
   "source": [
    "# Getting Song Lyrics\n",
    "\n",
    "from Genius"
   ]
  },
  {
   "cell_type": "code",
   "execution_count": null,
   "metadata": {},
   "outputs": [],
   "source": [
    "# client id oaVTKqlIXns6qFZo-KMDJ98kWME1tigxZKO4fp4jevr2poAMQixUGLwi56RfZxYU\n",
    "# client secret xkxYifkJ6oaQ2zGIl4-22lNQ4XZ3JE3wYiiE4iY7nAoUpfvPJM_GIXr1urd3Bd9bb56GBKyLpzKYYPZmozJGfg\n",
    "# access token 3kl3bgPgBFar-5_Awek8AJiIM4f3SJrbTsFn2kP02iLY_xYujpEd8BobJ-Npi_1x"
   ]
  },
  {
   "cell_type": "code",
   "execution_count": 1,
   "metadata": {},
   "outputs": [],
   "source": [
    "import lyricsgenius\n",
    "import pandas as pd\n",
    "import numpy as np\n",
    "import getpass\n",
    "from tqdm import tqdm"
   ]
  },
  {
   "cell_type": "code",
   "execution_count": 2,
   "metadata": {},
   "outputs": [],
   "source": [
    "# import data\n",
    "\n",
    "dr_tracks = pd.read_csv('../data/dr_tracks_id_title_expl_artist_album.csv')"
   ]
  },
  {
   "cell_type": "code",
   "execution_count": 3,
   "metadata": {},
   "outputs": [
    {
     "data": {
      "text/html": [
       "<div>\n",
       "<style scoped>\n",
       "    .dataframe tbody tr th:only-of-type {\n",
       "        vertical-align: middle;\n",
       "    }\n",
       "\n",
       "    .dataframe tbody tr th {\n",
       "        vertical-align: top;\n",
       "    }\n",
       "\n",
       "    .dataframe thead th {\n",
       "        text-align: right;\n",
       "    }\n",
       "</style>\n",
       "<table border=\"1\" class=\"dataframe\">\n",
       "  <thead>\n",
       "    <tr style=\"text-align: right;\">\n",
       "      <th></th>\n",
       "      <th>Unnamed: 0</th>\n",
       "      <th>id</th>\n",
       "      <th>track_title</th>\n",
       "      <th>track_explicit</th>\n",
       "      <th>track_artist</th>\n",
       "    </tr>\n",
       "  </thead>\n",
       "  <tbody>\n",
       "    <tr>\n",
       "      <th>0</th>\n",
       "      <td>0</td>\n",
       "      <td>5mrNkGIEJ0pSdXIR0eMwZQ</td>\n",
       "      <td>Bandolero</td>\n",
       "      <td>True</td>\n",
       "      <td>Azero</td>\n",
       "    </tr>\n",
       "    <tr>\n",
       "      <th>1</th>\n",
       "      <td>1</td>\n",
       "      <td>1EFbLCDFWIIiC6IMgthYsN</td>\n",
       "      <td>El Niño (Alarm)</td>\n",
       "      <td>True</td>\n",
       "      <td>Azero</td>\n",
       "    </tr>\n",
       "    <tr>\n",
       "      <th>2</th>\n",
       "      <td>2</td>\n",
       "      <td>3czNqQU3YvEcxaxIz16nb7</td>\n",
       "      <td>Es kocht</td>\n",
       "      <td>True</td>\n",
       "      <td>Azero</td>\n",
       "    </tr>\n",
       "    <tr>\n",
       "      <th>3</th>\n",
       "      <td>3</td>\n",
       "      <td>4oqjF0RgQmtGGogG3paqOT</td>\n",
       "      <td>Barbaren</td>\n",
       "      <td>True</td>\n",
       "      <td>Azero</td>\n",
       "    </tr>\n",
       "    <tr>\n",
       "      <th>4</th>\n",
       "      <td>4</td>\n",
       "      <td>5E3dnmFiGepqED3KpwJalV</td>\n",
       "      <td>Sierra Leone</td>\n",
       "      <td>True</td>\n",
       "      <td>Azero</td>\n",
       "    </tr>\n",
       "  </tbody>\n",
       "</table>\n",
       "</div>"
      ],
      "text/plain": [
       "   Unnamed: 0                      id      track_title  track_explicit  \\\n",
       "0           0  5mrNkGIEJ0pSdXIR0eMwZQ        Bandolero            True   \n",
       "1           1  1EFbLCDFWIIiC6IMgthYsN  El Niño (Alarm)            True   \n",
       "2           2  3czNqQU3YvEcxaxIz16nb7         Es kocht            True   \n",
       "3           3  4oqjF0RgQmtGGogG3paqOT         Barbaren            True   \n",
       "4           4  5E3dnmFiGepqED3KpwJalV     Sierra Leone            True   \n",
       "\n",
       "  track_artist  \n",
       "0        Azero  \n",
       "1        Azero  \n",
       "2        Azero  \n",
       "3        Azero  \n",
       "4        Azero  "
      ]
     },
     "execution_count": 3,
     "metadata": {},
     "output_type": "execute_result"
    }
   ],
   "source": [
    "dr_tracks.head()"
   ]
  },
  {
   "cell_type": "code",
   "execution_count": 4,
   "metadata": {},
   "outputs": [],
   "source": [
    "artisttweaked = [a.split(\" feat. \")[0].split(\" x \")[0].replace(\" & \", \" \").replace(\" / \", \" \").replace(\"'\", \"\").replace(\" [DE]\", \"\").replace(\".\", \" \").replace(\"?\", \"\").replace(\"¿\", \"\").replace(\" +\", \"\").replace(\" [UK]\", \"\").replace(\" [2019]\", \"\").replace(\" [Live]\", \"\") for a in dr_tracks['track_artist']]\n",
    "titletweaked = [t.split(\" feat. \")[0].split(\" x \")[0].replace(\" & \", \" \").replace(\" / \", \" \").replace(\"'\", \" \").replace(\" [DE]\", \"\").replace(\".\", \" \").replace(\"?\", \"\").replace(\"¿\", \"\").replace(\" +\", \"\").replace(\" [UK]\", \"\").replace(\" [2019]\", \"\").replace(\" [Live]\", \"\") for t in dr_tracks['track_title']]\n",
    "\n",
    "searchterms = []\n",
    "for a, t in zip(artisttweaked, titletweaked):\n",
    "    s = a + \" \" + t\n",
    "    searchterms.append(s)"
   ]
  },
  {
   "cell_type": "code",
   "execution_count": 5,
   "metadata": {},
   "outputs": [
    {
     "name": "stdout",
     "output_type": "stream",
     "text": [
      "········\n"
     ]
    }
   ],
   "source": [
    "token = getpass.getpass()"
   ]
  },
  {
   "cell_type": "code",
   "execution_count": 6,
   "metadata": {},
   "outputs": [],
   "source": [
    "genius = lyricsgenius.Genius(token)"
   ]
  },
  {
   "cell_type": "code",
   "execution_count": null,
   "metadata": {},
   "outputs": [
    {
     "name": "stderr",
     "output_type": "stream",
     "text": [
      "  8%|▊         | 2208/28077 [43:31<4:37:21,  1.55it/s] "
     ]
    }
   ],
   "source": [
    "lyrics = []\n",
    "\n",
    "for searchy in tqdm(searchterms):\n",
    "    try:\n",
    "        songsind = genius.search_songs(searchy)\n",
    "        url = songsind['hits'][0]['result']['url']\n",
    "        song_lyrics = genius.lyrics(url)\n",
    "        lyrics.append(song_lyrics)\n",
    "    except:\n",
    "        lyrics.append(np.nan)"
   ]
  },
  {
   "cell_type": "code",
   "execution_count": null,
   "metadata": {},
   "outputs": [],
   "source": [
    "len(lyrics)"
   ]
  },
  {
   "cell_type": "code",
   "execution_count": null,
   "metadata": {},
   "outputs": [],
   "source": [
    "dr_tracks['lyrics'] = lyrics"
   ]
  },
  {
   "cell_type": "code",
   "execution_count": null,
   "metadata": {},
   "outputs": [],
   "source": [
    "dr_tracks.head()"
   ]
  },
  {
   "cell_type": "code",
   "execution_count": null,
   "metadata": {},
   "outputs": [],
   "source": []
  },
  {
   "cell_type": "code",
   "execution_count": null,
   "metadata": {},
   "outputs": [],
   "source": []
  }
 ],
 "metadata": {
  "kernelspec": {
   "display_name": "Python 3",
   "language": "python",
   "name": "python3"
  },
  "language_info": {
   "codemirror_mode": {
    "name": "ipython",
    "version": 3
   },
   "file_extension": ".py",
   "mimetype": "text/x-python",
   "name": "python",
   "nbconvert_exporter": "python",
   "pygments_lexer": "ipython3",
   "version": "3.8.5"
  }
 },
 "nbformat": 4,
 "nbformat_minor": 4
}
