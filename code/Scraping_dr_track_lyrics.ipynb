{
 "cells": [
  {
   "cell_type": "markdown",
   "metadata": {},
   "source": [
    "# Getting Song Lyrics\n",
    "\n",
    "from Genius"
   ]
  },
  {
   "cell_type": "code",
   "execution_count": null,
   "metadata": {},
   "outputs": [],
   "source": [
    "# client id oaVTKqlIXns6qFZo-KMDJ98kWME1tigxZKO4fp4jevr2poAMQixUGLwi56RfZxYU\n",
    "# client secret xkxYifkJ6oaQ2zGIl4-22lNQ4XZ3JE3wYiiE4iY7nAoUpfvPJM_GIXr1urd3Bd9bb56GBKyLpzKYYPZmozJGfg\n",
    "# access token 3kl3bgPgBFar-5_Awek8AJiIM4f3SJrbTsFn2kP02iLY_xYujpEd8BobJ-Npi_1x"
   ]
  },
  {
   "cell_type": "code",
   "execution_count": 1,
   "metadata": {},
   "outputs": [],
   "source": [
    "import lyricsgenius\n",
    "import pandas as pd\n",
    "import numpy as np\n",
    "import getpass\n",
    "from tqdm import tqdm"
   ]
  },
  {
   "cell_type": "code",
   "execution_count": 2,
   "metadata": {},
   "outputs": [],
   "source": [
    "# import data\n",
    "\n",
    "dr_tracks = pd.read_csv('../data/dr_tracks_id_title_expl_artist_album.csv')"
   ]
  },
  {
   "cell_type": "code",
   "execution_count": null,
   "metadata": {},
   "outputs": [],
   "source": [
    "dr_tracks.head()"
   ]
  },
  {
   "cell_type": "code",
   "execution_count": 3,
   "metadata": {},
   "outputs": [],
   "source": [
    "artisttweaked = [a.split(\" feat. \")[0].split(\" x \")[0].replace(\" & \", \" \").replace(\" / \", \" \").replace(\"'\", \"\").replace(\" [DE]\", \"\").replace(\".\", \" \").replace(\"?\", \"\").replace(\"¿\", \"\").replace(\" +\", \"\").replace(\" [UK]\", \"\").replace(\" [2019]\", \"\").replace(\" [Live]\", \"\") for a in dr_tracks['track_artist']]\n",
    "titletweaked = [t.split(\" feat. \")[0].split(\" x \")[0].replace(\" & \", \" \").replace(\" / \", \" \").replace(\"'\", \" \").replace(\" [DE]\", \"\").replace(\".\", \" \").replace(\"?\", \"\").replace(\"¿\", \"\").replace(\" +\", \"\").replace(\" [UK]\", \"\").replace(\" [2019]\", \"\").replace(\" [Live]\", \"\") for t in dr_tracks['track_title']]\n",
    "\n",
    "searchterms = []\n",
    "for a, t in zip(artisttweaked, titletweaked):\n",
    "    s = a + \" \" + t\n",
    "    searchterms.append(s)"
   ]
  },
  {
   "cell_type": "code",
   "execution_count": 4,
   "metadata": {},
   "outputs": [
    {
     "name": "stdout",
     "output_type": "stream",
     "text": [
      "········\n"
     ]
    }
   ],
   "source": [
    "token = getpass.getpass()"
   ]
  },
  {
   "cell_type": "code",
   "execution_count": 5,
   "metadata": {},
   "outputs": [],
   "source": [
    "genius = lyricsgenius.Genius(token)"
   ]
  },
  {
   "cell_type": "code",
   "execution_count": null,
   "metadata": {},
   "outputs": [
    {
     "name": "stderr",
     "output_type": "stream",
     "text": [
      "  3%|▎         | 894/28077 [15:02<5:44:22,  1.32it/s] "
     ]
    }
   ],
   "source": [
    "lyrics = []\n",
    "\n",
    "for searchy in tqdm(searchterms):\n",
    "    try:\n",
    "        songsind = genius.search_songs(searchy)\n",
    "        url = songsind['hits'][0]['result']['url']\n",
    "        song_lyrics = genius.lyrics(url)\n",
    "        lyrics.append(song_lyrics)\n",
    "    except:\n",
    "        lyrics.append(np.nan)"
   ]
  },
  {
   "cell_type": "code",
   "execution_count": null,
   "metadata": {},
   "outputs": [],
   "source": [
    "len(lyrics)"
   ]
  },
  {
   "cell_type": "code",
   "execution_count": null,
   "metadata": {},
   "outputs": [],
   "source": [
    "dr_tracks['lyrics'] = lyrics"
   ]
  },
  {
   "cell_type": "code",
   "execution_count": null,
   "metadata": {},
   "outputs": [],
   "source": [
    "dr_tracks.head()"
   ]
  },
  {
   "cell_type": "code",
   "execution_count": null,
   "metadata": {},
   "outputs": [],
   "source": []
  },
  {
   "cell_type": "code",
   "execution_count": null,
   "metadata": {},
   "outputs": [],
   "source": []
  }
 ],
 "metadata": {
  "kernelspec": {
   "display_name": "Python 3",
   "language": "python",
   "name": "python3"
  },
  "language_info": {
   "codemirror_mode": {
    "name": "ipython",
    "version": 3
   },
   "file_extension": ".py",
   "mimetype": "text/x-python",
   "name": "python",
   "nbconvert_exporter": "python",
   "pygments_lexer": "ipython3",
   "version": "3.8.5"
  }
 },
 "nbformat": 4,
 "nbformat_minor": 4
}
