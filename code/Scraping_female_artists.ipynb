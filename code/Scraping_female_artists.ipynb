{
 "cells": [
  {
   "cell_type": "markdown",
   "metadata": {},
   "source": [
    "# Scraping female artists\n",
    "\n",
    "I want to find out if there are more female artists nowerdays.\n",
    "Therefore I need a list of female artists to add another column (gender) to the dr artist csv."
   ]
  },
  {
   "cell_type": "code",
   "execution_count": 3,
   "metadata": {},
   "outputs": [],
   "source": [
    "# importing needed libraries\n",
    "\n",
    "import pandas as pd\n",
    "from bs4 import BeautifulSoup\n",
    "import requests"
   ]
  },
  {
   "cell_type": "code",
   "execution_count": 2,
   "metadata": {},
   "outputs": [],
   "source": [
    "# importing data\n",
    "\n",
    "dr_artists = pd.read_csv('../data/dr_artist_name_id_df.csv')"
   ]
  },
  {
   "cell_type": "code",
   "execution_count": 4,
   "metadata": {},
   "outputs": [],
   "source": [
    "# urls I want to scrape\n",
    "\n",
    "url1 = 'https://www.tonspion.de/news/die-20-besten-deutschen-rapperinnen'\n",
    "url2 = 'https://www.br.de/radio/bayern2/sendungen/zuendfunk/diese-vierzehn-female-mcs-muesst-ihr-kennen-rap-hip-hop-german-rnb-100.html'\n",
    "url3 = 'https://www.musikexpress.de/frauen-im-deutschrap-1301833/'\n",
    "url4 = 'https://www.delamar.de/musikbusiness/deutsche-rapperinnen-53024/'"
   ]
  },
  {
   "cell_type": "code",
   "execution_count": 5,
   "metadata": {},
   "outputs": [],
   "source": [
    "response1 = requests.get(url1)\n",
    "response2 = requests.get(url2)\n",
    "response3 = requests.get(url3)\n",
    "response4 = requests.get(url4)"
   ]
  },
  {
   "cell_type": "code",
   "execution_count": 6,
   "metadata": {},
   "outputs": [],
   "source": [
    "# lets make it a bit more readable\n",
    "\n",
    "soup1 = BeautifulSoup(response1.content, 'html.parser')\n",
    "soup2 = BeautifulSoup(response2.content, 'html.parser')\n",
    "soup3 = BeautifulSoup(response3.content, 'html.parser')\n",
    "soup4 = BeautifulSoup(response4.content, 'html.parser')"
   ]
  },
  {
   "cell_type": "code",
   "execution_count": 15,
   "metadata": {},
   "outputs": [
    {
     "data": {
      "text/plain": [
       "'addeN'"
      ]
     },
     "execution_count": 15,
     "metadata": {},
     "output_type": "execute_result"
    }
   ],
   "source": [
    "# getting the artist name\n",
    "\n",
    "soup1.select('strong')[0].text"
   ]
  },
  {
   "cell_type": "code",
   "execution_count": 18,
   "metadata": {},
   "outputs": [],
   "source": [
    "female_artists1 = []\n",
    "\n",
    "for artist in range(len(soup1.select('strong'))):\n",
    "    female_artists1.append(soup1.select('strong')[artist].text)"
   ]
  },
  {
   "cell_type": "code",
   "execution_count": 46,
   "metadata": {},
   "outputs": [
    {
     "data": {
      "text/plain": [
       "'1. Die P'"
      ]
     },
     "execution_count": 46,
     "metadata": {},
     "output_type": "execute_result"
    }
   ],
   "source": [
    "soup2.select('h2')[6].text"
   ]
  },
  {
   "cell_type": "code",
   "execution_count": 49,
   "metadata": {},
   "outputs": [],
   "source": [
    "female_artists2 = []\n",
    "\n",
    "for artist in range(len(soup2.select('h2'))):\n",
    "    female_artists2.append(soup2.select('h2')[artist].text)"
   ]
  },
  {
   "cell_type": "code",
   "execution_count": 60,
   "metadata": {},
   "outputs": [
    {
     "data": {
      "text/plain": [
       "'Antifuchs'"
      ]
     },
     "execution_count": 60,
     "metadata": {},
     "output_type": "execute_result"
    }
   ],
   "source": [
    "soup3.select('h3')[5].text"
   ]
  },
  {
   "cell_type": "code",
   "execution_count": 62,
   "metadata": {},
   "outputs": [],
   "source": [
    "female_artists3 = []\n",
    "\n",
    "for artist in range(len(soup3.select('h3'))):\n",
    "    female_artists3.append(soup3.select('h3')[artist].text)"
   ]
  },
  {
   "cell_type": "code",
   "execution_count": 63,
   "metadata": {},
   "outputs": [
    {
     "data": {
      "text/plain": [
       "'Lumaraa'"
      ]
     },
     "execution_count": 63,
     "metadata": {},
     "output_type": "execute_result"
    }
   ],
   "source": [
    "soup4.select('h3')[5].text"
   ]
  },
  {
   "cell_type": "code",
   "execution_count": 65,
   "metadata": {},
   "outputs": [],
   "source": [
    "female_artists4 = []\n",
    "\n",
    "for artist in range(len(soup4.select('h3'))):\n",
    "    female_artists4.append(soup4.select('h3')[artist].text)"
   ]
  },
  {
   "cell_type": "code",
   "execution_count": 66,
   "metadata": {},
   "outputs": [],
   "source": [
    "female_artists = female_artists1 + female_artists2 + female_artists3 + female_artists4"
   ]
  },
  {
   "cell_type": "code",
   "execution_count": 71,
   "metadata": {},
   "outputs": [],
   "source": [
    "for i in range(len(female_artists)):\n",
    "    female_artists[i] = female_artists[i].lower()"
   ]
  },
  {
   "cell_type": "code",
   "execution_count": 86,
   "metadata": {},
   "outputs": [],
   "source": [
    "female_artists = [\n",
    " 'ebow',\n",
    " 'eunique',\n",
    " 'katja krasavice',\n",
    " 'leila akinyi',\n",
    " 'lumaraa',\n",
    " 'antifuchs',\n",
    " 'pyranya',\n",
    " 'ace tee',\n",
    " 'fanstasma goria',\n",
    " 'namika',\n",
    " 'sabrina setlur',\n",
    " 'haiyti',\n",
    " 'loredana',\n",
    " 'sookee',\n",
    " 'shirin david',\n",
    " 'katja krasavice',\n",
    " 'kitty kat','kitty kat',\n",
    " 'leila akinyi',\n",
    " 'lumaraa',\n",
    " 'nura',\n",
    " 'pilz',\n",
    " 'schwesta ewa',\n",
    " 'shirin david',\n",
    " 'sookee / sukini',\n",
    " 'taiga trece',\n",
    " 'aylo',\n",
    " 'die p',\n",
    " 'fantasma goria',\n",
    " 'hava',\n",
    " 'layla',\n",
    " 'mine',\n",
    " 'sly vee',\n",
    " 'toni strange',\n",
    " 'xiara','haszcara',\n",
    " 'juju','nura','haiyti','éasy',\n",
    " 'eunique','badmomzjay',\n",
    " 'ebow', 'badmomzjay','adden',\n",
    " 'antifuchs','ace tee','die p',\n",
    " 'badmómzjay',\n",
    " 'yael',\n",
    " 'alyssa',\n",
    " 'layla',\n",
    " 'eunique',\n",
    " 'genuva',\n",
    " 'ace tee',\n",
    " 'ebow',\n",
    " 'azisa',\n",
    " 'babyjoy',\n",
    " 'haszcara',\n",
    " 'presslufthanna','die p',\n",
    " 'badmómzjay',\n",
    " 'yael',\n",
    " 'alyssa',\n",
    " 'layla',\n",
    " 'eunique',\n",
    " 'genuva',\n",
    " 'ace tee',\n",
    " 'ebow',\n",
    " 'azisa',\n",
    " 'babyjoy',\n",
    " 'haszcara',\n",
    " 'presslufthanna','adden',\n",
    " 'aylo',\n",
    " 'badmómzjay',\n",
    " 'cora e.',\n",
    " 'die p',\n",
    " 'ebow',\n",
    " 'eunique',\n",
    " 'haszcara',\n",
    " 'hava',\n",
    " 'juju',\n",
    " 'layla',\n",
    " 'loredana',\n",
    " 'lumaraa',\n",
    " 'nura',\n",
    " 'pilz',\n",
    " 'pyranja',\n",
    " 'schwesta',\n",
    " 'shirin david',\n",
    " 'sookee',\n",
    " 'xiara']"
   ]
  },
  {
   "cell_type": "code",
   "execution_count": 92,
   "metadata": {},
   "outputs": [],
   "source": [
    "\n",
    "female_artists_clean = []\n",
    "\n",
    "for i in female_artists:\n",
    "    if i not in female_artists_clean:\n",
    "        female_artists_clean.append(i)"
   ]
  },
  {
   "cell_type": "code",
   "execution_count": 94,
   "metadata": {},
   "outputs": [],
   "source": [
    "female_artists_clean.sort()"
   ]
  },
  {
   "cell_type": "code",
   "execution_count": null,
   "metadata": {},
   "outputs": [],
   "source": []
  },
  {
   "cell_type": "code",
   "execution_count": null,
   "metadata": {},
   "outputs": [],
   "source": []
  },
  {
   "cell_type": "code",
   "execution_count": null,
   "metadata": {},
   "outputs": [],
   "source": []
  }
 ],
 "metadata": {
  "kernelspec": {
   "display_name": "Python 3",
   "language": "python",
   "name": "python3"
  },
  "language_info": {
   "codemirror_mode": {
    "name": "ipython",
    "version": 3
   },
   "file_extension": ".py",
   "mimetype": "text/x-python",
   "name": "python",
   "nbconvert_exporter": "python",
   "pygments_lexer": "ipython3",
   "version": "3.8.5"
  }
 },
 "nbformat": 4,
 "nbformat_minor": 4
}
