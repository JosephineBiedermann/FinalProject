{
 "cells": [
  {
   "cell_type": "markdown",
   "metadata": {},
   "source": [
    "# Scraping female artists\n",
    "\n",
    "I want to find out if there are more female artists nowerdays.\n",
    "Therefore I need a list of female artists to add another column (gender) to the dr artist csv."
   ]
  },
  {
   "cell_type": "code",
   "execution_count": 3,
   "metadata": {},
   "outputs": [],
   "source": [
    "# importing needed libraries\n",
    "\n",
    "import pandas as pd\n",
    "from bs4 import BeautifulSoup\n",
    "import requests"
   ]
  },
  {
   "cell_type": "code",
   "execution_count": 2,
   "metadata": {},
   "outputs": [],
   "source": [
    "# importing data\n",
    "\n",
    "dr_artists = pd.read_csv('../data/dr_artist_name_id_df.csv')"
   ]
  },
  {
   "cell_type": "code",
   "execution_count": 4,
   "metadata": {},
   "outputs": [],
   "source": [
    "# urls I want to scrape\n",
    "\n",
    "url1 = 'https://www.tonspion.de/news/die-20-besten-deutschen-rapperinnen'\n",
    "url2 = 'https://www.br.de/radio/bayern2/sendungen/zuendfunk/diese-vierzehn-female-mcs-muesst-ihr-kennen-rap-hip-hop-german-rnb-100.html'\n",
    "url3 = 'https://www.musikexpress.de/frauen-im-deutschrap-1301833/'\n",
    "url4 = 'https://www.delamar.de/musikbusiness/deutsche-rapperinnen-53024/'"
   ]
  },
  {
   "cell_type": "code",
   "execution_count": 5,
   "metadata": {},
   "outputs": [],
   "source": [
    "response1 = requests.get(url1)\n",
    "response2 = requests.get(url2)\n",
    "response3 = requests.get(url3)\n",
    "response4 = requests.get(url4)"
   ]
  },
  {
   "cell_type": "code",
   "execution_count": 6,
   "metadata": {},
   "outputs": [],
   "source": [
    "# lets make it a bit more readable\n",
    "\n",
    "soup1 = BeautifulSoup(response1.content, 'html.parser')\n",
    "soup2 = BeautifulSoup(response2.content, 'html.parser')\n",
    "soup3 = BeautifulSoup(response3.content, 'html.parser')\n",
    "soup4 = BeautifulSoup(response4.content, 'html.parser')"
   ]
  },
  {
   "cell_type": "code",
   "execution_count": 15,
   "metadata": {},
   "outputs": [
    {
     "data": {
      "text/plain": [
       "'addeN'"
      ]
     },
     "execution_count": 15,
     "metadata": {},
     "output_type": "execute_result"
    }
   ],
   "source": [
    "# getting the artist name\n",
    "\n",
    "soup1.select('strong')[0].text"
   ]
  },
  {
   "cell_type": "code",
   "execution_count": 18,
   "metadata": {},
   "outputs": [],
   "source": [
    "female_artists1 = []\n",
    "\n",
    "for artist in range(len(soup1.select('strong'))):\n",
    "    female_artists1.append(soup1.select('strong')[artist].text)"
   ]
  },
  {
   "cell_type": "code",
   "execution_count": 46,
   "metadata": {},
   "outputs": [
    {
     "data": {
      "text/plain": [
       "'1. Die P'"
      ]
     },
     "execution_count": 46,
     "metadata": {},
     "output_type": "execute_result"
    }
   ],
   "source": [
    "soup2.select('h2')[6].text"
   ]
  },
  {
   "cell_type": "code",
   "execution_count": 49,
   "metadata": {},
   "outputs": [],
   "source": [
    "female_artists2 = []\n",
    "\n",
    "for artist in range(len(soup2.select('h2'))):\n",
    "    female_artists2.append(soup2.select('h2')[artist].text)"
   ]
  },
  {
   "cell_type": "code",
   "execution_count": 60,
   "metadata": {},
   "outputs": [
    {
     "data": {
      "text/plain": [
       "'Antifuchs'"
      ]
     },
     "execution_count": 60,
     "metadata": {},
     "output_type": "execute_result"
    }
   ],
   "source": [
    "soup3.select('h3')[5].text"
   ]
  },
  {
   "cell_type": "code",
   "execution_count": 62,
   "metadata": {},
   "outputs": [],
   "source": [
    "female_artists3 = []\n",
    "\n",
    "for artist in range(len(soup3.select('h3'))):\n",
    "    female_artists3.append(soup3.select('h3')[artist].text)"
   ]
  },
  {
   "cell_type": "code",
   "execution_count": 63,
   "metadata": {},
   "outputs": [
    {
     "data": {
      "text/plain": [
       "'Lumaraa'"
      ]
     },
     "execution_count": 63,
     "metadata": {},
     "output_type": "execute_result"
    }
   ],
   "source": [
    "soup4.select('h3')[5].text"
   ]
  },
  {
   "cell_type": "code",
   "execution_count": 65,
   "metadata": {},
   "outputs": [],
   "source": [
    "female_artists4 = []\n",
    "\n",
    "for artist in range(len(soup4.select('h3'))):\n",
    "    female_artists4.append(soup4.select('h3')[artist].text)"
   ]
  },
  {
   "cell_type": "code",
   "execution_count": 66,
   "metadata": {},
   "outputs": [],
   "source": [
    "female_artists = female_artists1 + female_artists2 + female_artists3 + female_artists4"
   ]
  },
  {
   "cell_type": "code",
   "execution_count": 71,
   "metadata": {},
   "outputs": [],
   "source": [
    "for i in range(len(female_artists)):\n",
    "    female_artists[i] = female_artists[i].lower()"
   ]
  },
  {
   "cell_type": "code",
   "execution_count": 86,
   "metadata": {},
   "outputs": [],
   "source": [
    "female_artists = [\n",
    " 'ebow',\n",
    " 'eunique',\n",
    " 'katja krasavice',\n",
    " 'leila akinyi',\n",
    " 'lumaraa',\n",
    " 'antifuchs',\n",
    " 'pyranya',\n",
    " 'ace tee',\n",
    " 'fanstasma goria',\n",
    " 'namika',\n",
    " 'sabrina setlur',\n",
    " 'haiyti',\n",
    " 'loredana',\n",
    " 'sookee',\n",
    " 'shirin david',\n",
    " 'katja krasavice',\n",
    " 'kitty kat','kitty kat',\n",
    " 'leila akinyi',\n",
    " 'lumaraa',\n",
    " 'nura',\n",
    " 'pilz',\n",
    " 'schwesta ewa',\n",
    " 'shirin david',\n",
    " 'sookee / sukini',\n",
    " 'taiga trece',\n",
    " 'aylo',\n",
    " 'die p',\n",
    " 'fantasma goria',\n",
    " 'hava',\n",
    " 'layla',\n",
    " 'mine',\n",
    " 'sly vee',\n",
    " 'toni strange',\n",
    " 'xiara','haszcara',\n",
    " 'juju','nura','haiyti','éasy',\n",
    " 'eunique','badmomzjay',\n",
    " 'ebow', 'badmomzjay','adden',\n",
    " 'antifuchs','ace tee','die p',\n",
    " 'badmómzjay',\n",
    " 'yael',\n",
    " 'alyssa',\n",
    " 'layla',\n",
    " 'eunique',\n",
    " 'genuva',\n",
    " 'ace tee',\n",
    " 'ebow',\n",
    " 'azisa',\n",
    " 'babyjoy',\n",
    " 'haszcara',\n",
    " 'presslufthanna','die p',\n",
    " 'badmómzjay',\n",
    " 'yael',\n",
    " 'alyssa',\n",
    " 'layla',\n",
    " 'eunique',\n",
    " 'genuva',\n",
    " 'ace tee',\n",
    " 'ebow',\n",
    " 'azisa',\n",
    " 'babyjoy',\n",
    " 'haszcara',\n",
    " 'presslufthanna','adden',\n",
    " 'aylo',\n",
    " 'badmómzjay',\n",
    " 'cora e.',\n",
    " 'die p',\n",
    " 'ebow',\n",
    " 'eunique',\n",
    " 'haszcara',\n",
    " 'hava',\n",
    " 'juju',\n",
    " 'layla',\n",
    " 'loredana',\n",
    " 'lumaraa',\n",
    " 'nura',\n",
    " 'pilz',\n",
    " 'pyranja',\n",
    " 'schwesta',\n",
    " 'shirin david',\n",
    " 'sookee',\n",
    " 'xiara']"
   ]
  },
  {
   "cell_type": "code",
   "execution_count": 92,
   "metadata": {},
   "outputs": [],
   "source": [
    "\n",
    "female_artists_clean = []\n",
    "\n",
    "for i in female_artists:\n",
    "    if i not in female_artists_clean:\n",
    "        female_artists_clean.append(i)\n",
    "        \n",
    "female_artists_clean.sort()"
   ]
  },
  {
   "cell_type": "code",
   "execution_count": 99,
   "metadata": {},
   "outputs": [
    {
     "data": {
      "text/plain": [
       "45"
      ]
     },
     "execution_count": 99,
     "metadata": {},
     "output_type": "execute_result"
    }
   ],
   "source": [
    "len(female_artists_clean)"
   ]
  },
  {
   "cell_type": "code",
   "execution_count": 104,
   "metadata": {},
   "outputs": [],
   "source": [
    "# import data\n",
    "\n",
    "dr_albums = pd.read_csv('../data/dr_sample/dr_albums_id_title_release.csv')"
   ]
  },
  {
   "cell_type": "code",
   "execution_count": 109,
   "metadata": {},
   "outputs": [
    {
     "data": {
      "text/html": [
       "<div>\n",
       "<style scoped>\n",
       "    .dataframe tbody tr th:only-of-type {\n",
       "        vertical-align: middle;\n",
       "    }\n",
       "\n",
       "    .dataframe tbody tr th {\n",
       "        vertical-align: top;\n",
       "    }\n",
       "\n",
       "    .dataframe thead th {\n",
       "        text-align: right;\n",
       "    }\n",
       "</style>\n",
       "<table border=\"1\" class=\"dataframe\">\n",
       "  <thead>\n",
       "    <tr style=\"text-align: right;\">\n",
       "      <th></th>\n",
       "      <th>Unnamed: 0</th>\n",
       "      <th>id</th>\n",
       "      <th>album_name</th>\n",
       "      <th>album_artist</th>\n",
       "      <th>album_release_date</th>\n",
       "      <th>gender</th>\n",
       "    </tr>\n",
       "  </thead>\n",
       "  <tbody>\n",
       "    <tr>\n",
       "      <th>1612</th>\n",
       "      <td>1612</td>\n",
       "      <td>05AUajtuvqig0rOSsiKcaa</td>\n",
       "      <td>lieder (deluxe version)</td>\n",
       "      <td>adel tawil</td>\n",
       "      <td>2013-11-08</td>\n",
       "      <td>male</td>\n",
       "    </tr>\n",
       "    <tr>\n",
       "      <th>1613</th>\n",
       "      <td>1613</td>\n",
       "      <td>4nqKPTaD2l41GWPwc9KbO2</td>\n",
       "      <td>sampler volume 1</td>\n",
       "      <td>steuerfreimoney</td>\n",
       "      <td>2018-10-26</td>\n",
       "      <td>male</td>\n",
       "    </tr>\n",
       "    <tr>\n",
       "      <th>1614</th>\n",
       "      <td>1614</td>\n",
       "      <td>7DJh8lMZtqcQPBFme34TcD</td>\n",
       "      <td>bounce</td>\n",
       "      <td>jazn</td>\n",
       "      <td>2020-08-07</td>\n",
       "      <td>male</td>\n",
       "    </tr>\n",
       "    <tr>\n",
       "      <th>1615</th>\n",
       "      <td>1615</td>\n",
       "      <td>1K7r5jgTdhhs48CGxADMnr</td>\n",
       "      <td>28° (instrumentals)</td>\n",
       "      <td>jazn</td>\n",
       "      <td>2018-11-23</td>\n",
       "      <td>male</td>\n",
       "    </tr>\n",
       "    <tr>\n",
       "      <th>1616</th>\n",
       "      <td>1616</td>\n",
       "      <td>2FWekUfvrwLmUUpLDAFaUG</td>\n",
       "      <td>28°</td>\n",
       "      <td>jazn</td>\n",
       "      <td>2018-11-23</td>\n",
       "      <td>male</td>\n",
       "    </tr>\n",
       "  </tbody>\n",
       "</table>\n",
       "</div>"
      ],
      "text/plain": [
       "      Unnamed: 0                      id               album_name  \\\n",
       "1612        1612  05AUajtuvqig0rOSsiKcaa  lieder (deluxe version)   \n",
       "1613        1613  4nqKPTaD2l41GWPwc9KbO2         sampler volume 1   \n",
       "1614        1614  7DJh8lMZtqcQPBFme34TcD                   bounce   \n",
       "1615        1615  1K7r5jgTdhhs48CGxADMnr      28° (instrumentals)   \n",
       "1616        1616  2FWekUfvrwLmUUpLDAFaUG                      28°   \n",
       "\n",
       "         album_artist album_release_date gender  \n",
       "1612       adel tawil         2013-11-08   male  \n",
       "1613  steuerfreimoney         2018-10-26   male  \n",
       "1614             jazn         2020-08-07   male  \n",
       "1615             jazn         2018-11-23   male  \n",
       "1616             jazn         2018-11-23   male  "
      ]
     },
     "execution_count": 109,
     "metadata": {},
     "output_type": "execute_result"
    }
   ],
   "source": [
    "dr_albums.tail()"
   ]
  },
  {
   "cell_type": "code",
   "execution_count": 106,
   "metadata": {},
   "outputs": [],
   "source": [
    "# make everything lowercaseto fit the dr female artist list\n",
    "\n",
    "dr_albums['album_name'] = dr_albums['album_name'].str.lower()\n",
    "dr_albums['album_artist'] = dr_albums['album_artist'].str.lower()"
   ]
  },
  {
   "cell_type": "code",
   "execution_count": 116,
   "metadata": {},
   "outputs": [
    {
     "data": {
      "text/plain": [
       "array([0, 'female'], dtype=object)"
      ]
     },
     "execution_count": 116,
     "metadata": {},
     "output_type": "execute_result"
    }
   ],
   "source": [
    "# creating new feature gender\n",
    "\n",
    "dr_albums['gender'] = 0\n",
    "\n",
    "for artist in female_artists_clean:\n",
    "    for i in range(len(dr_albums)):\n",
    "        if artist in dr_albums.loc[i,'album_artist']:\n",
    "            dr_albums.loc[i, 'gender'] = 'female'\n",
    "            \n",
    "dr_albums['gender'].unique()"
   ]
  },
  {
   "cell_type": "code",
   "execution_count": 117,
   "metadata": {},
   "outputs": [
    {
     "data": {
      "text/plain": [
       "0         1526\n",
       "female      91\n",
       "Name: gender, dtype: int64"
      ]
     },
     "execution_count": 117,
     "metadata": {},
     "output_type": "execute_result"
    }
   ],
   "source": [
    "dr_albums['gender'].value_counts()"
   ]
  },
  {
   "cell_type": "code",
   "execution_count": 119,
   "metadata": {},
   "outputs": [],
   "source": [
    "for i in range(len(dr_albums)):\n",
    "    if dr_albums.loc[i,'gender'] == 0:\n",
    "        dr_albums.loc[i, 'gender'] = 'male'"
   ]
  },
  {
   "cell_type": "code",
   "execution_count": 120,
   "metadata": {},
   "outputs": [
    {
     "data": {
      "text/plain": [
       "male      1526\n",
       "female      91\n",
       "Name: gender, dtype: int64"
      ]
     },
     "execution_count": 120,
     "metadata": {},
     "output_type": "execute_result"
    }
   ],
   "source": [
    "dr_albums['gender'].value_counts()"
   ]
  },
  {
   "cell_type": "code",
   "execution_count": 121,
   "metadata": {},
   "outputs": [
    {
     "data": {
      "text/html": [
       "<div>\n",
       "<style scoped>\n",
       "    .dataframe tbody tr th:only-of-type {\n",
       "        vertical-align: middle;\n",
       "    }\n",
       "\n",
       "    .dataframe tbody tr th {\n",
       "        vertical-align: top;\n",
       "    }\n",
       "\n",
       "    .dataframe thead th {\n",
       "        text-align: right;\n",
       "    }\n",
       "</style>\n",
       "<table border=\"1\" class=\"dataframe\">\n",
       "  <thead>\n",
       "    <tr style=\"text-align: right;\">\n",
       "      <th></th>\n",
       "      <th>Unnamed: 0</th>\n",
       "      <th>id</th>\n",
       "      <th>album_name</th>\n",
       "      <th>album_artist</th>\n",
       "      <th>album_release_date</th>\n",
       "      <th>gender</th>\n",
       "    </tr>\n",
       "  </thead>\n",
       "  <tbody>\n",
       "    <tr>\n",
       "      <th>0</th>\n",
       "      <td>0</td>\n",
       "      <td>1JS7FPcgEOTdwxWfPSJewS</td>\n",
       "      <td>plata o plomo</td>\n",
       "      <td>reda rwena</td>\n",
       "      <td>2021-05-07</td>\n",
       "      <td>male</td>\n",
       "    </tr>\n",
       "    <tr>\n",
       "      <th>1</th>\n",
       "      <td>1</td>\n",
       "      <td>5LU3reJk8s1oFQFlV6mjOC</td>\n",
       "      <td>der tijarist</td>\n",
       "      <td>reda rwena</td>\n",
       "      <td>2018-11-16</td>\n",
       "      <td>male</td>\n",
       "    </tr>\n",
       "    <tr>\n",
       "      <th>2</th>\n",
       "      <td>2</td>\n",
       "      <td>1PBDSkiNWU1bnSKKAU8y5P</td>\n",
       "      <td>not over yet</td>\n",
       "      <td>grace</td>\n",
       "      <td>2020-05-08</td>\n",
       "      <td>male</td>\n",
       "    </tr>\n",
       "    <tr>\n",
       "      <th>3</th>\n",
       "      <td>3</td>\n",
       "      <td>5iptgDjsrSyf7XkJWbcoMe</td>\n",
       "      <td>down to earth (remixes)</td>\n",
       "      <td>grace</td>\n",
       "      <td>2020-04-24</td>\n",
       "      <td>male</td>\n",
       "    </tr>\n",
       "    <tr>\n",
       "      <th>4</th>\n",
       "      <td>4</td>\n",
       "      <td>0asBvC8WrcVrNLZ5YkXI66</td>\n",
       "      <td>if i could fly</td>\n",
       "      <td>grace</td>\n",
       "      <td>1996-01-01</td>\n",
       "      <td>male</td>\n",
       "    </tr>\n",
       "  </tbody>\n",
       "</table>\n",
       "</div>"
      ],
      "text/plain": [
       "   Unnamed: 0                      id               album_name album_artist  \\\n",
       "0           0  1JS7FPcgEOTdwxWfPSJewS            plata o plomo   reda rwena   \n",
       "1           1  5LU3reJk8s1oFQFlV6mjOC             der tijarist   reda rwena   \n",
       "2           2  1PBDSkiNWU1bnSKKAU8y5P             not over yet        grace   \n",
       "3           3  5iptgDjsrSyf7XkJWbcoMe  down to earth (remixes)        grace   \n",
       "4           4  0asBvC8WrcVrNLZ5YkXI66           if i could fly        grace   \n",
       "\n",
       "  album_release_date gender  \n",
       "0         2021-05-07   male  \n",
       "1         2018-11-16   male  \n",
       "2         2020-05-08   male  \n",
       "3         2020-04-24   male  \n",
       "4         1996-01-01   male  "
      ]
     },
     "execution_count": 121,
     "metadata": {},
     "output_type": "execute_result"
    }
   ],
   "source": [
    "dr_albums.head()"
   ]
  },
  {
   "cell_type": "code",
   "execution_count": 122,
   "metadata": {},
   "outputs": [],
   "source": [
    "# save data\n",
    "\n",
    "dr_albums.to_csv('../data/gender/dr_albums_gender.csv')"
   ]
  },
  {
   "cell_type": "markdown",
   "metadata": {},
   "source": [
    "### same thing for dr songs in top100"
   ]
  },
  {
   "cell_type": "code",
   "execution_count": 123,
   "metadata": {},
   "outputs": [],
   "source": [
    "# import data\n",
    "\n",
    "top100_tracks = pd.read_csv('../data/top100/top100_tracks_V3.csv')"
   ]
  },
  {
   "cell_type": "code",
   "execution_count": 124,
   "metadata": {},
   "outputs": [
    {
     "data": {
      "text/html": [
       "<div>\n",
       "<style scoped>\n",
       "    .dataframe tbody tr th:only-of-type {\n",
       "        vertical-align: middle;\n",
       "    }\n",
       "\n",
       "    .dataframe tbody tr th {\n",
       "        vertical-align: top;\n",
       "    }\n",
       "\n",
       "    .dataframe thead th {\n",
       "        text-align: right;\n",
       "    }\n",
       "</style>\n",
       "<table border=\"1\" class=\"dataframe\">\n",
       "  <thead>\n",
       "    <tr style=\"text-align: right;\">\n",
       "      <th></th>\n",
       "      <th>Unnamed: 0</th>\n",
       "      <th>artist</th>\n",
       "      <th>title</th>\n",
       "      <th>label</th>\n",
       "      <th>rank</th>\n",
       "      <th>week_start</th>\n",
       "      <th>week_end</th>\n",
       "      <th>genre</th>\n",
       "      <th>year</th>\n",
       "      <th>month</th>\n",
       "    </tr>\n",
       "  </thead>\n",
       "  <tbody>\n",
       "    <tr>\n",
       "      <th>0</th>\n",
       "      <td>0</td>\n",
       "      <td>nathan evans</td>\n",
       "      <td>wellerman</td>\n",
       "      <td>polydor</td>\n",
       "      <td>1</td>\n",
       "      <td>07.05.2021</td>\n",
       "      <td>13.05.2021</td>\n",
       "      <td>NaN</td>\n",
       "      <td>2021</td>\n",
       "      <td>5</td>\n",
       "    </tr>\n",
       "    <tr>\n",
       "      <th>1</th>\n",
       "      <td>1</td>\n",
       "      <td>cro feat. capital bra</td>\n",
       "      <td>blessed</td>\n",
       "      <td>urban</td>\n",
       "      <td>2</td>\n",
       "      <td>07.05.2021</td>\n",
       "      <td>13.05.2021</td>\n",
       "      <td>deutschrap</td>\n",
       "      <td>2021</td>\n",
       "      <td>5</td>\n",
       "    </tr>\n",
       "    <tr>\n",
       "      <th>2</th>\n",
       "      <td>2</td>\n",
       "      <td>jamule</td>\n",
       "      <td>liege wieder wach</td>\n",
       "      <td>life is pain</td>\n",
       "      <td>3</td>\n",
       "      <td>07.05.2021</td>\n",
       "      <td>13.05.2021</td>\n",
       "      <td>deutschrap</td>\n",
       "      <td>2021</td>\n",
       "      <td>5</td>\n",
       "    </tr>\n",
       "    <tr>\n",
       "      <th>3</th>\n",
       "      <td>3</td>\n",
       "      <td>riton x nightcrawlers feat. mufasa &amp; hypeman</td>\n",
       "      <td>friday (dopamine re-edit)</td>\n",
       "      <td>columbia</td>\n",
       "      <td>4</td>\n",
       "      <td>07.05.2021</td>\n",
       "      <td>13.05.2021</td>\n",
       "      <td>NaN</td>\n",
       "      <td>2021</td>\n",
       "      <td>5</td>\n",
       "    </tr>\n",
       "    <tr>\n",
       "      <th>4</th>\n",
       "      <td>4</td>\n",
       "      <td>lil nas x</td>\n",
       "      <td>montero (call me by your name)</td>\n",
       "      <td>columbia</td>\n",
       "      <td>5</td>\n",
       "      <td>07.05.2021</td>\n",
       "      <td>13.05.2021</td>\n",
       "      <td>hiphop</td>\n",
       "      <td>2021</td>\n",
       "      <td>5</td>\n",
       "    </tr>\n",
       "  </tbody>\n",
       "</table>\n",
       "</div>"
      ],
      "text/plain": [
       "   Unnamed: 0                                        artist  \\\n",
       "0           0                                  nathan evans   \n",
       "1           1                         cro feat. capital bra   \n",
       "2           2                                        jamule   \n",
       "3           3  riton x nightcrawlers feat. mufasa & hypeman   \n",
       "4           4                                     lil nas x   \n",
       "\n",
       "                            title         label  rank  week_start    week_end  \\\n",
       "0                       wellerman       polydor     1  07.05.2021  13.05.2021   \n",
       "1                         blessed         urban     2  07.05.2021  13.05.2021   \n",
       "2               liege wieder wach  life is pain     3  07.05.2021  13.05.2021   \n",
       "3       friday (dopamine re-edit)      columbia     4  07.05.2021  13.05.2021   \n",
       "4  montero (call me by your name)      columbia     5  07.05.2021  13.05.2021   \n",
       "\n",
       "        genre  year  month  \n",
       "0         NaN  2021      5  \n",
       "1  deutschrap  2021      5  \n",
       "2  deutschrap  2021      5  \n",
       "3         NaN  2021      5  \n",
       "4      hiphop  2021      5  "
      ]
     },
     "execution_count": 124,
     "metadata": {},
     "output_type": "execute_result"
    }
   ],
   "source": [
    "top100_tracks.head()"
   ]
  },
  {
   "cell_type": "code",
   "execution_count": 127,
   "metadata": {},
   "outputs": [
    {
     "data": {
      "text/plain": [
       "male      58036\n",
       "female     1364\n",
       "Name: gender, dtype: int64"
      ]
     },
     "execution_count": 127,
     "metadata": {},
     "output_type": "execute_result"
    }
   ],
   "source": [
    "# creating new feature gender\n",
    "\n",
    "top100_tracks['gender'] = 0\n",
    "\n",
    "for artist in female_artists_clean:\n",
    "    for i in range(len(top100_tracks)):\n",
    "        if artist in top100_tracks.loc[i,'artist']:\n",
    "            top100_tracks.loc[i, 'gender'] = 'female'\n",
    "            \n",
    "for i in range(len(top100_tracks)):\n",
    "    if top100_tracks.loc[i,'gender'] == 0:\n",
    "        top100_tracks.loc[i, 'gender'] = 'male'\n",
    "\n",
    "top100_tracks['gender'].value_counts()"
   ]
  },
  {
   "cell_type": "code",
   "execution_count": 128,
   "metadata": {},
   "outputs": [
    {
     "data": {
      "text/html": [
       "<div>\n",
       "<style scoped>\n",
       "    .dataframe tbody tr th:only-of-type {\n",
       "        vertical-align: middle;\n",
       "    }\n",
       "\n",
       "    .dataframe tbody tr th {\n",
       "        vertical-align: top;\n",
       "    }\n",
       "\n",
       "    .dataframe thead th {\n",
       "        text-align: right;\n",
       "    }\n",
       "</style>\n",
       "<table border=\"1\" class=\"dataframe\">\n",
       "  <thead>\n",
       "    <tr style=\"text-align: right;\">\n",
       "      <th></th>\n",
       "      <th>Unnamed: 0</th>\n",
       "      <th>artist</th>\n",
       "      <th>title</th>\n",
       "      <th>label</th>\n",
       "      <th>rank</th>\n",
       "      <th>week_start</th>\n",
       "      <th>week_end</th>\n",
       "      <th>genre</th>\n",
       "      <th>year</th>\n",
       "      <th>month</th>\n",
       "      <th>gender</th>\n",
       "    </tr>\n",
       "  </thead>\n",
       "  <tbody>\n",
       "    <tr>\n",
       "      <th>0</th>\n",
       "      <td>0</td>\n",
       "      <td>nathan evans</td>\n",
       "      <td>wellerman</td>\n",
       "      <td>polydor</td>\n",
       "      <td>1</td>\n",
       "      <td>07.05.2021</td>\n",
       "      <td>13.05.2021</td>\n",
       "      <td>NaN</td>\n",
       "      <td>2021</td>\n",
       "      <td>5</td>\n",
       "      <td>male</td>\n",
       "    </tr>\n",
       "    <tr>\n",
       "      <th>1</th>\n",
       "      <td>1</td>\n",
       "      <td>cro feat. capital bra</td>\n",
       "      <td>blessed</td>\n",
       "      <td>urban</td>\n",
       "      <td>2</td>\n",
       "      <td>07.05.2021</td>\n",
       "      <td>13.05.2021</td>\n",
       "      <td>deutschrap</td>\n",
       "      <td>2021</td>\n",
       "      <td>5</td>\n",
       "      <td>male</td>\n",
       "    </tr>\n",
       "    <tr>\n",
       "      <th>2</th>\n",
       "      <td>2</td>\n",
       "      <td>jamule</td>\n",
       "      <td>liege wieder wach</td>\n",
       "      <td>life is pain</td>\n",
       "      <td>3</td>\n",
       "      <td>07.05.2021</td>\n",
       "      <td>13.05.2021</td>\n",
       "      <td>deutschrap</td>\n",
       "      <td>2021</td>\n",
       "      <td>5</td>\n",
       "      <td>male</td>\n",
       "    </tr>\n",
       "    <tr>\n",
       "      <th>3</th>\n",
       "      <td>3</td>\n",
       "      <td>riton x nightcrawlers feat. mufasa &amp; hypeman</td>\n",
       "      <td>friday (dopamine re-edit)</td>\n",
       "      <td>columbia</td>\n",
       "      <td>4</td>\n",
       "      <td>07.05.2021</td>\n",
       "      <td>13.05.2021</td>\n",
       "      <td>NaN</td>\n",
       "      <td>2021</td>\n",
       "      <td>5</td>\n",
       "      <td>male</td>\n",
       "    </tr>\n",
       "    <tr>\n",
       "      <th>4</th>\n",
       "      <td>4</td>\n",
       "      <td>lil nas x</td>\n",
       "      <td>montero (call me by your name)</td>\n",
       "      <td>columbia</td>\n",
       "      <td>5</td>\n",
       "      <td>07.05.2021</td>\n",
       "      <td>13.05.2021</td>\n",
       "      <td>hiphop</td>\n",
       "      <td>2021</td>\n",
       "      <td>5</td>\n",
       "      <td>male</td>\n",
       "    </tr>\n",
       "  </tbody>\n",
       "</table>\n",
       "</div>"
      ],
      "text/plain": [
       "   Unnamed: 0                                        artist  \\\n",
       "0           0                                  nathan evans   \n",
       "1           1                         cro feat. capital bra   \n",
       "2           2                                        jamule   \n",
       "3           3  riton x nightcrawlers feat. mufasa & hypeman   \n",
       "4           4                                     lil nas x   \n",
       "\n",
       "                            title         label  rank  week_start    week_end  \\\n",
       "0                       wellerman       polydor     1  07.05.2021  13.05.2021   \n",
       "1                         blessed         urban     2  07.05.2021  13.05.2021   \n",
       "2               liege wieder wach  life is pain     3  07.05.2021  13.05.2021   \n",
       "3       friday (dopamine re-edit)      columbia     4  07.05.2021  13.05.2021   \n",
       "4  montero (call me by your name)      columbia     5  07.05.2021  13.05.2021   \n",
       "\n",
       "        genre  year  month gender  \n",
       "0         NaN  2021      5   male  \n",
       "1  deutschrap  2021      5   male  \n",
       "2  deutschrap  2021      5   male  \n",
       "3         NaN  2021      5   male  \n",
       "4      hiphop  2021      5   male  "
      ]
     },
     "execution_count": 128,
     "metadata": {},
     "output_type": "execute_result"
    }
   ],
   "source": [
    "top100_tracks.head()"
   ]
  },
  {
   "cell_type": "code",
   "execution_count": 129,
   "metadata": {},
   "outputs": [],
   "source": [
    "# save data\n",
    "\n",
    "top100_tracks.to_csv('../data/gender/top100_tracks_gender.csv')"
   ]
  }
 ],
 "metadata": {
  "finalized": {
   "timestamp": 1621342648247,
   "trusted": true
  },
  "kernelspec": {
   "display_name": "Python 3",
   "language": "python",
   "name": "python3"
  },
  "language_info": {
   "codemirror_mode": {
    "name": "ipython",
    "version": 3
   },
   "file_extension": ".py",
   "mimetype": "text/x-python",
   "name": "python",
   "nbconvert_exporter": "python",
   "pygments_lexer": "ipython3",
   "version": "3.8.5"
  }
 },
 "nbformat": 4,
 "nbformat_minor": 4
}
